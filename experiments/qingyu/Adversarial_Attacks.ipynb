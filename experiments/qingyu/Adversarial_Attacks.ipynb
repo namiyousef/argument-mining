{
 "cells": [
  {
   "cell_type": "markdown",
   "id": "05312ca4",
   "metadata": {},
   "source": [
    "# Adversarial Attacks Function \n",
    "## from https://github.com/QData/TextAttack"
   ]
  },
  {
   "cell_type": "code",
   "execution_count": 7,
   "id": "10c7e510",
   "metadata": {},
   "outputs": [],
   "source": [
    "#!pip install tensorflow_text\n",
    "#!textattack list attack-recipes\n",
    "#!pip install textattack\n",
    "from textattack.augmentation import EmbeddingAugmenter,EasyDataAugmenter,WordNetAugmenter,CharSwapAugmenter,CheckListAugmenter,CLAREAugmenter\n",
    "import time\n",
    "import pandas as pd"
   ]
  },
  {
   "cell_type": "code",
   "execution_count": 8,
   "id": "dd07b4c5",
   "metadata": {},
   "outputs": [
    {
     "data": {
      "text/plain": [
       "['I do not understand transformesr']"
      ]
     },
     "execution_count": 8,
     "metadata": {},
     "output_type": "execute_result"
    }
   ],
   "source": [
    "t = \"I do not understand transformers\"\n",
    "augmenter = CharSwapAugmenter()\n",
    "augmenter.augment(t)\n"
   ]
  },
  {
   "cell_type": "code",
   "execution_count": 11,
   "id": "301ad56e",
   "metadata": {},
   "outputs": [
    {
     "data": {
      "text/plain": [
       "['What I not do understand, I can not create.',\n",
       " 'What I do not understand, I non can not create.']"
      ]
     },
     "execution_count": 11,
     "metadata": {},
     "output_type": "execute_result"
    }
   ],
   "source": [
    "augmenter = EasyDataAugmenter(pct_words_to_swap=0.2, transformations_per_example=2)\n",
    "s = 'What I do not understand, I can not create.'\n",
    "augmenter.augment(s)"
   ]
  },
  {
   "cell_type": "code",
   "execution_count": 12,
   "id": "8b7201cd",
   "metadata": {},
   "outputs": [],
   "source": [
    "\n",
    "#     - WordNet synonym replacement\n",
    "#         - Randomly replace words with their synonyms.\n",
    "#     - Word deletion\n",
    "#         - Randomly remove words from the sentence.\n",
    "#     - Word order swaps\n",
    "#         - Randomly swap the position of words in the sentence.\n",
    "#     - Random synonym insertion\n",
    "#         - Insert a random synonym of a random word at a random location.\n",
    "\n",
    "\n",
    "\n",
    "def create_attacks(df,att_type,**kwargs):\n",
    "    \n",
    "    def easy_data(text):\n",
    "        augmenter = EasyDataAugmenter(kwargs['pct_swap'], kwargs['num_trans'])\n",
    "        return augmenter.augment(text)[0]\n",
    "    \n",
    "    def syno(text):\n",
    "        augmenter = WordNetAugmenter()\n",
    "        return augmenter.augment(text)[0]\n",
    "    \n",
    "    if att_type == \"easy_data\":\n",
    "        df.text = df.text.apply(easy_data)\n",
    "        \n",
    "    elif att_type == \"replace_synonym\":\n",
    "        df.text = df.text.apply(syno)"
   ]
  },
  {
   "cell_type": "code",
   "execution_count": 134,
   "id": "acbcdd2b",
   "metadata": {},
   "outputs": [
    {
     "name": "stdout",
     "output_type": "stream",
     "text": [
      "1.6966230869293213\n"
     ]
    }
   ],
   "source": [
    "s = time.time()\n",
    "create_attacks(df_combined.iloc[:5],att_type = \"replace_synonym\")\n",
    "print(time.time()-s)"
   ]
  },
  {
   "cell_type": "markdown",
   "id": "cc126457",
   "metadata": {},
   "source": [
    "# Prediction_String"
   ]
  },
  {
   "cell_type": "code",
   "execution_count": 193,
   "id": "07669733",
   "metadata": {},
   "outputs": [],
   "source": [
    "def get_predStr(df):\n",
    "    assert all(item in list(df) for item in ['label', 'text', 'doc_id']), \"Please use a dataframe with correct columns\"\n",
    "    prediction_strings = []\n",
    "    start_id = 1\n",
    "    prev_doc = df.iloc[0].doc_id\n",
    "    for (label, text, doc_id) in df[['label', 'text', 'doc_id']].itertuples(index=False):\n",
    "        if doc_id != prev_doc:\n",
    "            prev_doc = doc_id\n",
    "            start_id = 0\n",
    "        text_split = text.split()\n",
    "        end_id = start_id + len(text_split)\n",
    "        prediction_strings.append(\n",
    "            [num for num in range(start_id, end_id)]\n",
    "        )\n",
    "        start_id = end_id   \n",
    "    df['predictionString'] = prediction_strings"
   ]
  },
  {
   "cell_type": "code",
   "execution_count": null,
   "id": "1fddf06d",
   "metadata": {},
   "outputs": [],
   "source": []
  },
  {
   "cell_type": "code",
   "execution_count": null,
   "id": "83e54b82",
   "metadata": {},
   "outputs": [],
   "source": []
  }
 ],
 "metadata": {
  "kernelspec": {
   "display_name": "Python 3",
   "language": "python",
   "name": "python3"
  },
  "language_info": {
   "codemirror_mode": {
    "name": "ipython",
    "version": 3
   },
   "file_extension": ".py",
   "mimetype": "text/x-python",
   "name": "python",
   "nbconvert_exporter": "python",
   "pygments_lexer": "ipython3",
   "version": "3.8.8"
  }
 },
 "nbformat": 4,
 "nbformat_minor": 5
}
