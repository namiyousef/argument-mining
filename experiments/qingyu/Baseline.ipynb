{
 "cells": [
  {
   "cell_type": "code",
   "execution_count": 147,
   "id": "b3543ffe",
   "metadata": {},
   "outputs": [],
   "source": [
    "#!pip install fastai"
   ]
  },
  {
   "cell_type": "code",
   "execution_count": 146,
   "id": "1470af93",
   "metadata": {},
   "outputs": [
    {
     "name": "stdout",
     "output_type": "stream",
     "text": [
      "fastai version: 2.5.5\n"
     ]
    }
   ],
   "source": [
    "# -- public imports\n",
    "\n",
    "import os\n",
    "from fastai.text import *\n",
    "from fastai.text.all import *\n",
    "import nltk\n",
    "import spacy\n",
    "import pandas as pd\n",
    "import numpy as np\n",
    "import fastai\n",
    "import torch\n",
    "from tqdm.notebook import tqdm\n",
    "from sklearn.metrics import classification_report\n",
    "tqdm.pandas()\n",
    "print(f\"fastai version: {fastai.__version__}\")\n",
    "if torch.cuda.is_available():\n",
    "    print(f\"GPU which is used : {torch.cuda.get_device_name(0)}\")\n",
    "    "
   ]
  },
  {
   "cell_type": "markdown",
   "id": "b7fa0326",
   "metadata": {},
   "source": [
    "# Import Dataset"
   ]
  },
  {
   "cell_type": "code",
   "execution_count": 139,
   "id": "5ed43e67",
   "metadata": {},
   "outputs": [],
   "source": [
    "base_path = '/Users/feng/downloads'\n",
    "path = os.path.join(base_path, 'ArgumentAnnotatedEssays-2.0')\n",
    "text_file_dir = os.path.join(path, 'brat-project-final')\n",
    "\n",
    "texts = []\n",
    "annotated_texts = []\n",
    "for file in os.listdir(text_file_dir):\n",
    "    essay_num, file_extension = file.split('.')\n",
    "    if file_extension == 'ann':\n",
    "        with open(os.path.join(text_file_dir, file), 'r') as f:\n",
    "            df_temp = pd.read_csv(f, delimiter='\\t', header=None, names=['label_type', 'label', 'text'])\n",
    "            df_temp[['label', 'label_comp1', 'label_comp2']] = df_temp.label.str.split(expand=True)\n",
    "            df_temp['doc_id'] = essay_num\n",
    "            annotated_texts.append(df_temp)\n",
    "    elif file_extension == 'txt':\n",
    "        with open(os.path.join(text_file_dir, file), 'r') as f:\n",
    "            texts.append((essay_num, f.read()))\n",
    "    else:\n",
    "        continue\n",
    "\n",
    "df_texts = pd.DataFrame.from_records(texts, columns={'doc_id', 'text'})\n",
    "df_annotated = pd.concat(annotated_texts)\n",
    "assert sorted(df_annotated.doc_id.unique()) == sorted(df_texts.doc_id)"
   ]
  },
  {
   "cell_type": "code",
   "execution_count": 140,
   "id": "a5ebb2a3",
   "metadata": {},
   "outputs": [
    {
     "data": {
      "text/html": [
       "<div>\n",
       "<style scoped>\n",
       "    .dataframe tbody tr th:only-of-type {\n",
       "        vertical-align: middle;\n",
       "    }\n",
       "\n",
       "    .dataframe tbody tr th {\n",
       "        vertical-align: top;\n",
       "    }\n",
       "\n",
       "    .dataframe thead th {\n",
       "        text-align: right;\n",
       "    }\n",
       "</style>\n",
       "<table border=\"1\" class=\"dataframe\">\n",
       "  <thead>\n",
       "    <tr style=\"text-align: right;\">\n",
       "      <th></th>\n",
       "      <th>label_type</th>\n",
       "      <th>label</th>\n",
       "      <th>text</th>\n",
       "      <th>label_comp1</th>\n",
       "      <th>label_comp2</th>\n",
       "      <th>doc_id</th>\n",
       "    </tr>\n",
       "  </thead>\n",
       "  <tbody>\n",
       "    <tr>\n",
       "      <th>0</th>\n",
       "      <td>T1</td>\n",
       "      <td>MajorClaim</td>\n",
       "      <td>alternative means of transportation and intern...</td>\n",
       "      <td>358</td>\n",
       "      <td>464</td>\n",
       "      <td>essay031</td>\n",
       "    </tr>\n",
       "    <tr>\n",
       "      <th>1</th>\n",
       "      <td>T2</td>\n",
       "      <td>MajorClaim</td>\n",
       "      <td>alternative forms of transport and internation...</td>\n",
       "      <td>2393</td>\n",
       "      <td>2565</td>\n",
       "      <td>essay031</td>\n",
       "    </tr>\n",
       "    <tr>\n",
       "      <th>2</th>\n",
       "      <td>T3</td>\n",
       "      <td>Claim</td>\n",
       "      <td>some people claim the convenience of automobile</td>\n",
       "      <td>2325</td>\n",
       "      <td>2372</td>\n",
       "      <td>essay031</td>\n",
       "    </tr>\n",
       "    <tr>\n",
       "      <th>4</th>\n",
       "      <td>T4</td>\n",
       "      <td>Claim</td>\n",
       "      <td>it is crucial to alter automobiles to the othe...</td>\n",
       "      <td>822</td>\n",
       "      <td>933</td>\n",
       "      <td>essay031</td>\n",
       "    </tr>\n",
       "    <tr>\n",
       "      <th>6</th>\n",
       "      <td>T5</td>\n",
       "      <td>Premise</td>\n",
       "      <td>an increase in the number of automobiles bring...</td>\n",
       "      <td>561</td>\n",
       "      <td>638</td>\n",
       "      <td>essay031</td>\n",
       "    </tr>\n",
       "  </tbody>\n",
       "</table>\n",
       "</div>"
      ],
      "text/plain": [
       "  label_type       label                                               text  \\\n",
       "0         T1  MajorClaim  alternative means of transportation and intern...   \n",
       "1         T2  MajorClaim  alternative forms of transport and internation...   \n",
       "2         T3       Claim    some people claim the convenience of automobile   \n",
       "4         T4       Claim  it is crucial to alter automobiles to the othe...   \n",
       "6         T5     Premise  an increase in the number of automobiles bring...   \n",
       "\n",
       "  label_comp1 label_comp2    doc_id  \n",
       "0         358         464  essay031  \n",
       "1        2393        2565  essay031  \n",
       "2        2325        2372  essay031  \n",
       "4         822         933  essay031  \n",
       "6         561         638  essay031  "
      ]
     },
     "execution_count": 140,
     "metadata": {},
     "output_type": "execute_result"
    }
   ],
   "source": [
    "ids_argument_segment = df_annotated.label_type.str.startswith('T')\n",
    "\n",
    "df_arguments = df_annotated[ids_argument_segment]\n",
    "\n",
    "df_arguments.head()"
   ]
  },
  {
   "cell_type": "code",
   "execution_count": 141,
   "id": "8c3f1485",
   "metadata": {},
   "outputs": [
    {
     "data": {
      "text/plain": [
       "label_type    object\n",
       "label         object\n",
       "text          object\n",
       "span_start     int64\n",
       "span_end       int64\n",
       "doc_id        object\n",
       "dtype: object"
      ]
     },
     "execution_count": 141,
     "metadata": {},
     "output_type": "execute_result"
    }
   ],
   "source": [
    "df_arguments = df_arguments.rename(columns={'label_comp1':'span_start', 'label_comp2':'span_end'}).astype(\n",
    "    {'span_start': int, 'span_end':int}\n",
    ")\n",
    "df_arguments.dtypes"
   ]
  },
  {
   "cell_type": "code",
   "execution_count": 142,
   "id": "e4840b26",
   "metadata": {},
   "outputs": [
    {
     "name": "stdout",
     "output_type": "stream",
     "text": [
      "murdering criminals is therefore immoral and hard to accept\n",
      "\"murdering\" criminals is therefore immoral and hard to accept\n",
      "\n",
      "Click is a very interesting comedy, with a serious approach about the importance of having a balanced life between family and work businesses\n",
      "\"Click\" is a very interesting comedy, with a serious approach about the importance of having a balanced life between family and work businesses\n",
      "\n",
      "Blood diamond, an adaptation of a real story in South Africa, focuses on the link between diamonds and conflict\n",
      "\"Blood diamond\", an adaptation of a real story in South Africa, focuses on the link between diamonds and conflict\n",
      "\n"
     ]
    },
    {
     "name": "stderr",
     "output_type": "stream",
     "text": [
      "<ipython-input-142-d17e5c1ade51>:12: SettingWithCopyWarning: \n",
      "A value is trying to be set on a copy of a slice from a DataFrame\n",
      "\n",
      "See the caveats in the documentation: https://pandas.pydata.org/pandas-docs/stable/user_guide/indexing.html#returning-a-view-versus-a-copy\n",
      "  df_arguments['text'][df_arguments.text == text_segment] = text[span_start: span_end]\n"
     ]
    },
    {
     "name": "stdout",
     "output_type": "stream",
     "text": [
      "rush hours are usually not the direct consequence of drivers\n",
      "\"rush hours\" are usually not the direct consequence of drivers\n",
      "\n"
     ]
    },
    {
     "data": {
      "text/html": [
       "<div>\n",
       "<style scoped>\n",
       "    .dataframe tbody tr th:only-of-type {\n",
       "        vertical-align: middle;\n",
       "    }\n",
       "\n",
       "    .dataframe tbody tr th {\n",
       "        vertical-align: top;\n",
       "    }\n",
       "\n",
       "    .dataframe thead th {\n",
       "        text-align: right;\n",
       "    }\n",
       "</style>\n",
       "<table border=\"1\" class=\"dataframe\">\n",
       "  <thead>\n",
       "    <tr style=\"text-align: right;\">\n",
       "      <th></th>\n",
       "      <th>label_type</th>\n",
       "      <th>label</th>\n",
       "      <th>text</th>\n",
       "      <th>span_start</th>\n",
       "      <th>span_end</th>\n",
       "      <th>doc_id</th>\n",
       "    </tr>\n",
       "  </thead>\n",
       "  <tbody>\n",
       "    <tr>\n",
       "      <th>0</th>\n",
       "      <td>O</td>\n",
       "      <td>Other</td>\n",
       "      <td>Should students be taught to compete or to coo...</td>\n",
       "      <td>0</td>\n",
       "      <td>503</td>\n",
       "      <td>essay001</td>\n",
       "    </tr>\n",
       "    <tr>\n",
       "      <th>1</th>\n",
       "      <td>O</td>\n",
       "      <td>Other</td>\n",
       "      <td>.\\nFirst of all,</td>\n",
       "      <td>575</td>\n",
       "      <td>591</td>\n",
       "      <td>essay001</td>\n",
       "    </tr>\n",
       "    <tr>\n",
       "      <th>2</th>\n",
       "      <td>O</td>\n",
       "      <td>Other</td>\n",
       "      <td>.</td>\n",
       "      <td>714</td>\n",
       "      <td>716</td>\n",
       "      <td>essay001</td>\n",
       "    </tr>\n",
       "    <tr>\n",
       "      <th>3</th>\n",
       "      <td>O</td>\n",
       "      <td>Other</td>\n",
       "      <td>.</td>\n",
       "      <td>851</td>\n",
       "      <td>853</td>\n",
       "      <td>essay001</td>\n",
       "    </tr>\n",
       "    <tr>\n",
       "      <th>4</th>\n",
       "      <td>O</td>\n",
       "      <td>Other</td>\n",
       "      <td>.</td>\n",
       "      <td>1086</td>\n",
       "      <td>1088</td>\n",
       "      <td>essay001</td>\n",
       "    </tr>\n",
       "    <tr>\n",
       "      <th>...</th>\n",
       "      <td>...</td>\n",
       "      <td>...</td>\n",
       "      <td>...</td>\n",
       "      <td>...</td>\n",
       "      <td>...</td>\n",
       "      <td>...</td>\n",
       "    </tr>\n",
       "    <tr>\n",
       "      <th>6486</th>\n",
       "      <td>O</td>\n",
       "      <td>Other</td>\n",
       "      <td>.</td>\n",
       "      <td>1339</td>\n",
       "      <td>1341</td>\n",
       "      <td>essay402</td>\n",
       "    </tr>\n",
       "    <tr>\n",
       "      <th>6487</th>\n",
       "      <td>O</td>\n",
       "      <td>Other</td>\n",
       "      <td>, so</td>\n",
       "      <td>1388</td>\n",
       "      <td>1393</td>\n",
       "      <td>essay402</td>\n",
       "    </tr>\n",
       "    <tr>\n",
       "      <th>6488</th>\n",
       "      <td>O</td>\n",
       "      <td>Other</td>\n",
       "      <td>. Secondly,</td>\n",
       "      <td>1436</td>\n",
       "      <td>1448</td>\n",
       "      <td>essay402</td>\n",
       "    </tr>\n",
       "    <tr>\n",
       "      <th>6489</th>\n",
       "      <td>O</td>\n",
       "      <td>Other</td>\n",
       "      <td>. \\nIn conclusion,</td>\n",
       "      <td>1525</td>\n",
       "      <td>1543</td>\n",
       "      <td>essay402</td>\n",
       "    </tr>\n",
       "    <tr>\n",
       "      <th>6490</th>\n",
       "      <td>O</td>\n",
       "      <td>Other</td>\n",
       "      <td>.</td>\n",
       "      <td>1620</td>\n",
       "      <td>1621</td>\n",
       "      <td>essay402</td>\n",
       "    </tr>\n",
       "  </tbody>\n",
       "</table>\n",
       "<p>6491 rows × 6 columns</p>\n",
       "</div>"
      ],
      "text/plain": [
       "     label_type  label                                               text  \\\n",
       "0             O  Other  Should students be taught to compete or to coo...   \n",
       "1             O  Other                                  .\\nFirst of all,    \n",
       "2             O  Other                                                 .    \n",
       "3             O  Other                                                 .    \n",
       "4             O  Other                                                 .    \n",
       "...         ...    ...                                                ...   \n",
       "6486          O  Other                                                 .    \n",
       "6487          O  Other                                              , so    \n",
       "6488          O  Other                                       . Secondly,    \n",
       "6489          O  Other                                . \\nIn conclusion,    \n",
       "6490          O  Other                                                  .   \n",
       "\n",
       "      span_start  span_end    doc_id  \n",
       "0              0       503  essay001  \n",
       "1            575       591  essay001  \n",
       "2            714       716  essay001  \n",
       "3            851       853  essay001  \n",
       "4           1086      1088  essay001  \n",
       "...          ...       ...       ...  \n",
       "6486        1339      1341  essay402  \n",
       "6487        1388      1393  essay402  \n",
       "6488        1436      1448  essay402  \n",
       "6489        1525      1543  essay402  \n",
       "6490        1620      1621  essay402  \n",
       "\n",
       "[6491 rows x 6 columns]"
      ]
     },
     "execution_count": 142,
     "metadata": {},
     "output_type": "execute_result"
    }
   ],
   "source": [
    "records = []\n",
    "df_arguments = df_arguments.sort_values(['doc_id', 'span_start', 'span_end'])\n",
    "for (doc_id, text) in df_texts.sort_values('doc_id').itertuples(index=False):\n",
    "    df_argument = df_arguments[df_arguments.doc_id == doc_id]\n",
    "    prev_span = 0\n",
    "    for i, (text_segment, span_start, span_end) in enumerate(df_argument[['text', 'span_start', 'span_end']].itertuples(index=False)):\n",
    "        try:\n",
    "            assert text_segment == text[span_start: span_end]\n",
    "        except Exception as e:\n",
    "            print(f'{text_segment}\\n{text[span_start: span_end]}\\n')\n",
    "        # all the exception were manually checked. These are because of qutoe chars, this is a hot fix.!!!! TODO\n",
    "            df_arguments['text'][df_arguments.text == text_segment] = text[span_start: span_end]\n",
    "        records.append(('O', 'Other', text[prev_span: span_start], prev_span, span_start, doc_id))\n",
    "        prev_span = span_end\n",
    "    records.append(('O', 'Other', text[prev_span:], prev_span, len(text), doc_id))\n",
    "df_other = pd.DataFrame.from_records(records, columns=df_arguments.columns)\n",
    "df_other"
   ]
  },
  {
   "cell_type": "code",
   "execution_count": 143,
   "id": "bd37a854",
   "metadata": {},
   "outputs": [],
   "source": [
    "df_combined = pd.concat([df_other, df_arguments])\n",
    "df_combined = df_combined.sort_values(['doc_id', 'span_start', 'span_end']).reset_index(drop=True)\n"
   ]
  },
  {
   "cell_type": "code",
   "execution_count": 148,
   "id": "d8e146a4",
   "metadata": {},
   "outputs": [
    {
     "data": {
      "text/html": [
       "<div>\n",
       "<style scoped>\n",
       "    .dataframe tbody tr th:only-of-type {\n",
       "        vertical-align: middle;\n",
       "    }\n",
       "\n",
       "    .dataframe tbody tr th {\n",
       "        vertical-align: top;\n",
       "    }\n",
       "\n",
       "    .dataframe thead th {\n",
       "        text-align: right;\n",
       "    }\n",
       "</style>\n",
       "<table border=\"1\" class=\"dataframe\">\n",
       "  <thead>\n",
       "    <tr style=\"text-align: right;\">\n",
       "      <th></th>\n",
       "      <th>label_type</th>\n",
       "      <th>label</th>\n",
       "      <th>text</th>\n",
       "      <th>span_start</th>\n",
       "      <th>span_end</th>\n",
       "      <th>doc_id</th>\n",
       "    </tr>\n",
       "  </thead>\n",
       "  <tbody>\n",
       "    <tr>\n",
       "      <th>0</th>\n",
       "      <td>O</td>\n",
       "      <td>Other</td>\n",
       "      <td>Should students be taught to compete or to cooperate?\\n\\nIt is always said that competition can effectively promote the development of economy. In order to survive in the competition, companies continue to improve their products and service, and as a result, the whole society prospers. However, when we discuss the issue of competition or cooperation, what we are concerned about is not the whole society, but the development of an individual's whole life. From this point of view, I firmly believe that</td>\n",
       "      <td>0</td>\n",
       "      <td>503</td>\n",
       "      <td>essay001</td>\n",
       "    </tr>\n",
       "    <tr>\n",
       "      <th>1</th>\n",
       "      <td>T1</td>\n",
       "      <td>MajorClaim</td>\n",
       "      <td>we should attach more importance to cooperation during primary education</td>\n",
       "      <td>503</td>\n",
       "      <td>575</td>\n",
       "      <td>essay001</td>\n",
       "    </tr>\n",
       "    <tr>\n",
       "      <th>2</th>\n",
       "      <td>O</td>\n",
       "      <td>Other</td>\n",
       "      <td>.\\nFirst of all,</td>\n",
       "      <td>575</td>\n",
       "      <td>591</td>\n",
       "      <td>essay001</td>\n",
       "    </tr>\n",
       "    <tr>\n",
       "      <th>3</th>\n",
       "      <td>T3</td>\n",
       "      <td>Claim</td>\n",
       "      <td>through cooperation, children can learn about interpersonal skills which are significant in the future life of all students</td>\n",
       "      <td>591</td>\n",
       "      <td>714</td>\n",
       "      <td>essay001</td>\n",
       "    </tr>\n",
       "    <tr>\n",
       "      <th>4</th>\n",
       "      <td>O</td>\n",
       "      <td>Other</td>\n",
       "      <td>.</td>\n",
       "      <td>714</td>\n",
       "      <td>716</td>\n",
       "      <td>essay001</td>\n",
       "    </tr>\n",
       "    <tr>\n",
       "      <th>...</th>\n",
       "      <td>...</td>\n",
       "      <td>...</td>\n",
       "      <td>...</td>\n",
       "      <td>...</td>\n",
       "      <td>...</td>\n",
       "      <td>...</td>\n",
       "    </tr>\n",
       "    <tr>\n",
       "      <th>12575</th>\n",
       "      <td>O</td>\n",
       "      <td>Other</td>\n",
       "      <td>. Secondly,</td>\n",
       "      <td>1436</td>\n",
       "      <td>1448</td>\n",
       "      <td>essay402</td>\n",
       "    </tr>\n",
       "    <tr>\n",
       "      <th>12576</th>\n",
       "      <td>T14</td>\n",
       "      <td>Premise</td>\n",
       "      <td>playing sport makes children getting healthy and become children's well-being</td>\n",
       "      <td>1448</td>\n",
       "      <td>1525</td>\n",
       "      <td>essay402</td>\n",
       "    </tr>\n",
       "    <tr>\n",
       "      <th>12577</th>\n",
       "      <td>O</td>\n",
       "      <td>Other</td>\n",
       "      <td>. \\nIn conclusion,</td>\n",
       "      <td>1525</td>\n",
       "      <td>1543</td>\n",
       "      <td>essay402</td>\n",
       "    </tr>\n",
       "    <tr>\n",
       "      <th>12578</th>\n",
       "      <td>T2</td>\n",
       "      <td>MajorClaim</td>\n",
       "      <td>both studying hard at school and playing sports can improve children's future</td>\n",
       "      <td>1543</td>\n",
       "      <td>1620</td>\n",
       "      <td>essay402</td>\n",
       "    </tr>\n",
       "    <tr>\n",
       "      <th>12579</th>\n",
       "      <td>O</td>\n",
       "      <td>Other</td>\n",
       "      <td>.</td>\n",
       "      <td>1620</td>\n",
       "      <td>1621</td>\n",
       "      <td>essay402</td>\n",
       "    </tr>\n",
       "  </tbody>\n",
       "</table>\n",
       "<p>12580 rows × 6 columns</p>\n",
       "</div>"
      ],
      "text/plain": [
       "      label_type       label  \\\n",
       "0              O       Other   \n",
       "1             T1  MajorClaim   \n",
       "2              O       Other   \n",
       "3             T3       Claim   \n",
       "4              O       Other   \n",
       "...          ...         ...   \n",
       "12575          O       Other   \n",
       "12576        T14     Premise   \n",
       "12577          O       Other   \n",
       "12578         T2  MajorClaim   \n",
       "12579          O       Other   \n",
       "\n",
       "                                                                                                                                                                                                                                                                                                                                                                                                                                                                                                                            text  \\\n",
       "0      Should students be taught to compete or to cooperate?\\n\\nIt is always said that competition can effectively promote the development of economy. In order to survive in the competition, companies continue to improve their products and service, and as a result, the whole society prospers. However, when we discuss the issue of competition or cooperation, what we are concerned about is not the whole society, but the development of an individual's whole life. From this point of view, I firmly believe that    \n",
       "1                                                                                                                                                                                                                                                                                                                                                                                                                                                       we should attach more importance to cooperation during primary education   \n",
       "2                                                                                                                                                                                                                                                                                                                                                                                                                                                                                                              .\\nFirst of all,    \n",
       "3                                                                                                                                                                                                                                                                                                                                                                                                    through cooperation, children can learn about interpersonal skills which are significant in the future life of all students   \n",
       "4                                                                                                                                                                                                                                                                                                                                                                                                                                                                                                                             .    \n",
       "...                                                                                                                                                                                                                                                                                                                                                                                                                                                                                                                          ...   \n",
       "12575                                                                                                                                                                                                                                                                                                                                                                                                                                                                                                               . Secondly,    \n",
       "12576                                                                                                                                                                                                                                                                                                                                                                                                                                              playing sport makes children getting healthy and become children's well-being   \n",
       "12577                                                                                                                                                                                                                                                                                                                                                                                                                                                                                                        . \\nIn conclusion,    \n",
       "12578                                                                                                                                                                                                                                                                                                                                                                                                                                              both studying hard at school and playing sports can improve children's future   \n",
       "12579                                                                                                                                                                                                                                                                                                                                                                                                                                                                                                                          .   \n",
       "\n",
       "       span_start  span_end    doc_id  \n",
       "0               0       503  essay001  \n",
       "1             503       575  essay001  \n",
       "2             575       591  essay001  \n",
       "3             591       714  essay001  \n",
       "4             714       716  essay001  \n",
       "...           ...       ...       ...  \n",
       "12575        1436      1448  essay402  \n",
       "12576        1448      1525  essay402  \n",
       "12577        1525      1543  essay402  \n",
       "12578        1543      1620  essay402  \n",
       "12579        1620      1621  essay402  \n",
       "\n",
       "[12580 rows x 6 columns]"
      ]
     },
     "execution_count": 148,
     "metadata": {},
     "output_type": "execute_result"
    }
   ],
   "source": [
    "df_combined"
   ]
  },
  {
   "cell_type": "code",
   "execution_count": 150,
   "id": "3c3afe91",
   "metadata": {},
   "outputs": [
    {
     "data": {
      "text/plain": [
       "{'Other': 0, 'MajorClaim': 1, 'Claim': 2, 'Premise': 3}"
      ]
     },
     "execution_count": 150,
     "metadata": {},
     "output_type": "execute_result"
    }
   ],
   "source": [
    "ID2CLASS = dict(enumerate(df_combined['label'].unique().tolist()))\n",
    "CLASS2ID = {v: k for k, v in ID2CLASS.items()}\n",
    "# print(ID2CLASS)\n",
    "CLASS2ID"
   ]
  },
  {
   "cell_type": "code",
   "execution_count": 154,
   "id": "893e1d58",
   "metadata": {},
   "outputs": [],
   "source": [
    "def convert_label(label):\n",
    "    return CLASS2ID[label]\n",
    "\n",
    "df_combined['label'] = df_combined['label'].apply(convert_label)"
   ]
  },
  {
   "cell_type": "code",
   "execution_count": 153,
   "id": "aab6ae45",
   "metadata": {},
   "outputs": [
    {
     "data": {
      "text/plain": [
       "0    247\n",
       "3    146\n",
       "2     64\n",
       "1     43\n",
       "Name: label, dtype: int64"
      ]
     },
     "execution_count": 153,
     "metadata": {},
     "output_type": "execute_result"
    }
   ],
   "source": [
    "df_sample = df_combined.sample(n=500, random_state=2)\n",
    "df_sample['label'].value_counts()\n",
    "df_sample = df_sample[['text','label']]\n",
    "df_sample"
   ]
  },
  {
   "cell_type": "code",
   "execution_count": 168,
   "id": "b60b578f",
   "metadata": {},
   "outputs": [
    {
     "data": {
      "text/html": [
       "\n",
       "<style>\n",
       "    /* Turns off some styling */\n",
       "    progress {\n",
       "        /* gets rid of default border in Firefox and Opera. */\n",
       "        border: none;\n",
       "        /* Needs to be in here for Safari polyfill so background images work as expected. */\n",
       "        background-size: auto;\n",
       "    }\n",
       "    .progress-bar-interrupted, .progress-bar-interrupted::-webkit-progress-bar {\n",
       "        background: #F44336;\n",
       "    }\n",
       "</style>\n"
      ],
      "text/plain": [
       "<IPython.core.display.HTML object>"
      ]
     },
     "metadata": {},
     "output_type": "display_data"
    },
    {
     "data": {
      "text/html": [],
      "text/plain": [
       "<IPython.core.display.HTML object>"
      ]
     },
     "metadata": {},
     "output_type": "display_data"
    },
    {
     "name": "stderr",
     "output_type": "stream",
     "text": [
      "/Users/feng/opt/anaconda3/lib/python3.8/site-packages/numpy/core/_asarray.py:102: VisibleDeprecationWarning: Creating an ndarray from ragged nested sequences (which is a list-or-tuple of lists-or-tuples-or ndarrays with different lengths or shapes) is deprecated. If you meant to do this, you must specify 'dtype=object' when creating the ndarray.\n",
      "  return array(a, dtype, copy=False, order=order)\n"
     ]
    },
    {
     "data": {
      "text/html": [
       "<table border=\"1\" class=\"dataframe\">\n",
       "  <thead>\n",
       "    <tr style=\"text-align: right;\">\n",
       "      <th></th>\n",
       "      <th>text</th>\n",
       "      <th>text_</th>\n",
       "    </tr>\n",
       "  </thead>\n",
       "  <tbody>\n",
       "    <tr>\n",
       "      <th>0</th>\n",
       "      <td>xxbos games on their phone xxunk a xxunk xxunk on xxunk , xxunk to a large problem that they xxunk xxunk to their xxunk xxbos there is a fact that one can improve health xxunk with xxunk physical xxunk : xxunk , xxunk by xxunk we xxunk physical xxunk to better xxbos teachers think that foreign language most likely xxunk to xxunk for children who are xxunk to start learning xxbos .</td>\n",
       "      <td>games on their phone xxunk a xxunk xxunk on xxunk , xxunk to a large problem that they xxunk xxunk to their xxunk xxbos there is a fact that one can improve health xxunk with xxunk physical xxunk : xxunk , xxunk by xxunk we xxunk physical xxunk to better xxbos teachers think that foreign language most likely xxunk to xxunk for children who are xxunk to start learning xxbos . xxmaj</td>\n",
       "    </tr>\n",
       "    <tr>\n",
       "      <th>1</th>\n",
       "      <td>significant issue in our xxunk xxbos they xxunk have an xxunk of xxunk different xxunk of life with the help of a xxunk xxbos xxunk can not always be xxunk in the real world xxbos students are to develop their xxunk skills by learning xxunk - related subjects , rather than playing on xxunk or xxunk a xxunk xxbos to be xxunk , we all xxunk to xxunk the xxunk we might</td>\n",
       "      <td>issue in our xxunk xxbos they xxunk have an xxunk of xxunk different xxunk of life with the help of a xxunk xxbos xxunk can not always be xxunk in the real world xxbos students are to develop their xxunk skills by learning xxunk - related subjects , rather than playing on xxunk or xxunk a xxunk xxbos to be xxunk , we all xxunk to xxunk the xxunk we might xxunk</td>\n",
       "    </tr>\n",
       "    <tr>\n",
       "      <th>2</th>\n",
       "      <td>xxunk xxbos public transportation helps to solve the xxunk xxunk problems xxbos . xxmaj as a result , xxbos each of them has its own benefits xxbos . \\n xxmaj xxunk , at some point , xxbos xxmaj no one can xxunk the importance to xxunk health xxunk in school xxunk , especially at xxunk level , in the xxunk of raising people 's xxunk xxbos . xxmaj moreover , xxbos the</td>\n",
       "      <td>xxbos public transportation helps to solve the xxunk xxunk problems xxbos . xxmaj as a result , xxbos each of them has its own benefits xxbos . \\n xxmaj xxunk , at some point , xxbos xxmaj no one can xxunk the importance to xxunk health xxunk in school xxunk , especially at xxunk level , in the xxunk of raising people 's xxunk xxbos . xxmaj moreover , xxbos the best</td>\n",
       "    </tr>\n",
       "  </tbody>\n",
       "</table>"
      ],
      "text/plain": [
       "<IPython.core.display.HTML object>"
      ]
     },
     "metadata": {},
     "output_type": "display_data"
    }
   ],
   "source": [
    "dls_lm = TextDataLoaders.from_df(df_sample, path=path,is_lm=True)\n",
    "dls_lm.show_batch(max_n=3)"
   ]
  },
  {
   "cell_type": "code",
   "execution_count": 169,
   "id": "8f26b1ec",
   "metadata": {},
   "outputs": [],
   "source": [
    "learn = language_model_learner(dls_lm, AWD_LSTM, metrics=[accuracy, Perplexity()], path=path, wd=0.1, model_dir=\"/tmp/model/\").to_fp16()"
   ]
  },
  {
   "cell_type": "code",
   "execution_count": 170,
   "id": "e1a7fccd",
   "metadata": {},
   "outputs": [
    {
     "name": "stderr",
     "output_type": "stream",
     "text": [
      "/Users/feng/opt/anaconda3/lib/python3.8/site-packages/torch/cuda/amp/autocast_mode.py:114: UserWarning: torch.cuda.amp.autocast only affects CUDA ops, but CUDA is not available.  Disabling.\n",
      "/Users/feng/opt/anaconda3/lib/python3.8/site-packages/torch/cuda/amp/grad_scaler.py:115: UserWarning: torch.cuda.amp.GradScaler is enabled, but CUDA is not available.  Disabling.\n",
      "  warnings.warn(\"torch.cuda.amp.GradScaler is enabled, but CUDA is not available.  Disabling.\")\n"
     ]
    },
    {
     "data": {
      "text/html": [
       "\n",
       "<style>\n",
       "    /* Turns off some styling */\n",
       "    progress {\n",
       "        /* gets rid of default border in Firefox and Opera. */\n",
       "        border: none;\n",
       "        /* Needs to be in here for Safari polyfill so background images work as expected. */\n",
       "        background-size: auto;\n",
       "    }\n",
       "    .progress-bar-interrupted, .progress-bar-interrupted::-webkit-progress-bar {\n",
       "        background: #F44336;\n",
       "    }\n",
       "</style>\n"
      ],
      "text/plain": [
       "<IPython.core.display.HTML object>"
      ]
     },
     "metadata": {},
     "output_type": "display_data"
    },
    {
     "data": {
      "text/html": [],
      "text/plain": [
       "<IPython.core.display.HTML object>"
      ]
     },
     "metadata": {},
     "output_type": "display_data"
    },
    {
     "data": {
      "text/plain": [
       "SuggestedLRs(valley=0.007585775572806597)"
      ]
     },
     "execution_count": 170,
     "metadata": {},
     "output_type": "execute_result"
    },
    {
     "data": {
      "image/png": "[encoded data removed]",
      "text/plain": [
       "<Figure size 432x288 with 1 Axes>"
      ]
     },
     "metadata": {
      "needs_background": "light"
     },
     "output_type": "display_data"
    }
   ],
   "source": [
    "learn.lr_find()"
   ]
  },
  {
   "cell_type": "code",
   "execution_count": 173,
   "id": "705e6e39",
   "metadata": {},
   "outputs": [
    {
     "name": "stderr",
     "output_type": "stream",
     "text": [
      "/Users/feng/opt/anaconda3/lib/python3.8/site-packages/torch/cuda/amp/autocast_mode.py:114: UserWarning: torch.cuda.amp.autocast only affects CUDA ops, but CUDA is not available.  Disabling.\n",
      "/Users/feng/opt/anaconda3/lib/python3.8/site-packages/torch/cuda/amp/grad_scaler.py:115: UserWarning: torch.cuda.amp.GradScaler is enabled, but CUDA is not available.  Disabling.\n",
      "  warnings.warn(\"torch.cuda.amp.GradScaler is enabled, but CUDA is not available.  Disabling.\")\n"
     ]
    },
    {
     "data": {
      "text/html": [
       "\n",
       "<style>\n",
       "    /* Turns off some styling */\n",
       "    progress {\n",
       "        /* gets rid of default border in Firefox and Opera. */\n",
       "        border: none;\n",
       "        /* Needs to be in here for Safari polyfill so background images work as expected. */\n",
       "        background-size: auto;\n",
       "    }\n",
       "    .progress-bar-interrupted, .progress-bar-interrupted::-webkit-progress-bar {\n",
       "        background: #F44336;\n",
       "    }\n",
       "</style>\n"
      ],
      "text/plain": [
       "<IPython.core.display.HTML object>"
      ]
     },
     "metadata": {},
     "output_type": "display_data"
    },
    {
     "data": {
      "text/html": [
       "<table border=\"1\" class=\"dataframe\">\n",
       "  <thead>\n",
       "    <tr style=\"text-align: left;\">\n",
       "      <th>epoch</th>\n",
       "      <th>train_loss</th>\n",
       "      <th>valid_loss</th>\n",
       "      <th>accuracy</th>\n",
       "      <th>perplexity</th>\n",
       "      <th>time</th>\n",
       "    </tr>\n",
       "  </thead>\n",
       "  <tbody>\n",
       "    <tr>\n",
       "      <td>0</td>\n",
       "      <td>4.615870</td>\n",
       "      <td>4.536939</td>\n",
       "      <td>0.190789</td>\n",
       "      <td>93.404465</td>\n",
       "      <td>00:07</td>\n",
       "    </tr>\n",
       "    <tr>\n",
       "      <td>1</td>\n",
       "      <td>4.516165</td>\n",
       "      <td>4.319245</td>\n",
       "      <td>0.217928</td>\n",
       "      <td>75.131905</td>\n",
       "      <td>00:08</td>\n",
       "    </tr>\n",
       "    <tr>\n",
       "      <td>2</td>\n",
       "      <td>4.396584</td>\n",
       "      <td>4.155612</td>\n",
       "      <td>0.232730</td>\n",
       "      <td>63.790993</td>\n",
       "      <td>00:07</td>\n",
       "    </tr>\n",
       "    <tr>\n",
       "      <td>3</td>\n",
       "      <td>4.306918</td>\n",
       "      <td>4.078466</td>\n",
       "      <td>0.237664</td>\n",
       "      <td>59.054806</td>\n",
       "      <td>00:07</td>\n",
       "    </tr>\n",
       "    <tr>\n",
       "      <td>4</td>\n",
       "      <td>4.228493</td>\n",
       "      <td>4.061732</td>\n",
       "      <td>0.239309</td>\n",
       "      <td>58.074825</td>\n",
       "      <td>00:07</td>\n",
       "    </tr>\n",
       "  </tbody>\n",
       "</table>"
      ],
      "text/plain": [
       "<IPython.core.display.HTML object>"
      ]
     },
     "metadata": {},
     "output_type": "display_data"
    }
   ],
   "source": [
    "learn.fit_one_cycle(5, 1e-2)"
   ]
  },
  {
   "cell_type": "code",
   "execution_count": 174,
   "id": "e4e2c7a3",
   "metadata": {},
   "outputs": [
    {
     "name": "stderr",
     "output_type": "stream",
     "text": [
      "/Users/feng/opt/anaconda3/lib/python3.8/site-packages/torch/cuda/amp/autocast_mode.py:114: UserWarning: torch.cuda.amp.autocast only affects CUDA ops, but CUDA is not available.  Disabling.\n",
      "/Users/feng/opt/anaconda3/lib/python3.8/site-packages/torch/cuda/amp/grad_scaler.py:115: UserWarning: torch.cuda.amp.GradScaler is enabled, but CUDA is not available.  Disabling.\n",
      "  warnings.warn(\"torch.cuda.amp.GradScaler is enabled, but CUDA is not available.  Disabling.\")\n"
     ]
    },
    {
     "data": {
      "text/html": [
       "\n",
       "<style>\n",
       "    /* Turns off some styling */\n",
       "    progress {\n",
       "        /* gets rid of default border in Firefox and Opera. */\n",
       "        border: none;\n",
       "        /* Needs to be in here for Safari polyfill so background images work as expected. */\n",
       "        background-size: auto;\n",
       "    }\n",
       "    .progress-bar-interrupted, .progress-bar-interrupted::-webkit-progress-bar {\n",
       "        background: #F44336;\n",
       "    }\n",
       "</style>\n"
      ],
      "text/plain": [
       "<IPython.core.display.HTML object>"
      ]
     },
     "metadata": {},
     "output_type": "display_data"
    },
    {
     "data": {
      "text/html": [
       "<table border=\"1\" class=\"dataframe\">\n",
       "  <thead>\n",
       "    <tr style=\"text-align: left;\">\n",
       "      <th>epoch</th>\n",
       "      <th>train_loss</th>\n",
       "      <th>valid_loss</th>\n",
       "      <th>accuracy</th>\n",
       "      <th>perplexity</th>\n",
       "      <th>time</th>\n",
       "    </tr>\n",
       "  </thead>\n",
       "  <tbody>\n",
       "    <tr>\n",
       "      <td>0</td>\n",
       "      <td>3.915982</td>\n",
       "      <td>4.679247</td>\n",
       "      <td>0.179276</td>\n",
       "      <td>107.688942</td>\n",
       "      <td>00:12</td>\n",
       "    </tr>\n",
       "    <tr>\n",
       "      <td>1</td>\n",
       "      <td>4.260599</td>\n",
       "      <td>4.045620</td>\n",
       "      <td>0.289474</td>\n",
       "      <td>57.146603</td>\n",
       "      <td>00:11</td>\n",
       "    </tr>\n",
       "    <tr>\n",
       "      <td>2</td>\n",
       "      <td>4.116689</td>\n",
       "      <td>3.561882</td>\n",
       "      <td>0.277961</td>\n",
       "      <td>35.229454</td>\n",
       "      <td>00:11</td>\n",
       "    </tr>\n",
       "    <tr>\n",
       "      <td>3</td>\n",
       "      <td>3.932480</td>\n",
       "      <td>3.406904</td>\n",
       "      <td>0.325658</td>\n",
       "      <td>30.171701</td>\n",
       "      <td>00:11</td>\n",
       "    </tr>\n",
       "    <tr>\n",
       "      <td>4</td>\n",
       "      <td>3.790564</td>\n",
       "      <td>3.372018</td>\n",
       "      <td>0.328947</td>\n",
       "      <td>29.137257</td>\n",
       "      <td>00:11</td>\n",
       "    </tr>\n",
       "  </tbody>\n",
       "</table>"
      ],
      "text/plain": [
       "<IPython.core.display.HTML object>"
      ]
     },
     "metadata": {},
     "output_type": "display_data"
    }
   ],
   "source": [
    "learn.unfreeze()\n",
    "learn.fit_one_cycle(5, 1e-2)"
   ]
  },
  {
   "cell_type": "code",
   "execution_count": 175,
   "id": "c3530d18",
   "metadata": {},
   "outputs": [],
   "source": [
    "learn.save_encoder('/Users/feng/downloads/ArgumentAnnotatedEssays-2.0/finetuned')"
   ]
  },
  {
   "cell_type": "code",
   "execution_count": 176,
   "id": "84f51f9b",
   "metadata": {},
   "outputs": [
    {
     "data": {
      "text/html": [
       "\n",
       "<style>\n",
       "    /* Turns off some styling */\n",
       "    progress {\n",
       "        /* gets rid of default border in Firefox and Opera. */\n",
       "        border: none;\n",
       "        /* Needs to be in here for Safari polyfill so background images work as expected. */\n",
       "        background-size: auto;\n",
       "    }\n",
       "    .progress-bar-interrupted, .progress-bar-interrupted::-webkit-progress-bar {\n",
       "        background: #F44336;\n",
       "    }\n",
       "</style>\n"
      ],
      "text/plain": [
       "<IPython.core.display.HTML object>"
      ]
     },
     "metadata": {},
     "output_type": "display_data"
    },
    {
     "data": {
      "text/html": [],
      "text/plain": [
       "<IPython.core.display.HTML object>"
      ]
     },
     "metadata": {},
     "output_type": "display_data"
    },
    {
     "name": "stderr",
     "output_type": "stream",
     "text": [
      "/Users/feng/opt/anaconda3/lib/python3.8/site-packages/numpy/core/_asarray.py:102: VisibleDeprecationWarning: Creating an ndarray from ragged nested sequences (which is a list-or-tuple of lists-or-tuples-or ndarrays with different lengths or shapes) is deprecated. If you meant to do this, you must specify 'dtype=object' when creating the ndarray.\n",
      "  return array(a, dtype, copy=False, order=order)\n"
     ]
    },
    {
     "data": {
      "text/html": [
       "<table border=\"1\" class=\"dataframe\">\n",
       "  <thead>\n",
       "    <tr style=\"text-align: right;\">\n",
       "      <th></th>\n",
       "      <th>text</th>\n",
       "      <th>category</th>\n",
       "    </tr>\n",
       "  </thead>\n",
       "  <tbody>\n",
       "    <tr>\n",
       "      <th>0</th>\n",
       "      <td>xxbos xxmaj is xxunk more xxunk than the xxunk xxunk ? \\n\\n xxunk a xxunk is xxunk a xxunk words xxunk is a xxunk xxunk that is being used for a very xxunk time . xxmaj this xxunk xxunk the xxunk of xxunk in xxunk xxunk , ideas , or xxunk to people . xxmaj xxunk , the importance of xxunk xxunk can never be xxunk as it is also another way of communication that is xxunk used . xxmaj hence ,</td>\n",
       "      <td>0</td>\n",
       "    </tr>\n",
       "    <tr>\n",
       "      <th>1</th>\n",
       "      <td>xxbos xxmaj xxunk in transportation and communication like the xxunk and the phone \\n\\n xxmaj nowadays , everyone can see the xxunk of technology on their life , especially on the way of xxunk and communications such as the xxunk and the xxunk . xxmaj there are lots of other effects of growing technology on xxunk and communications , which are xxunk as xxunk . \\n xxmaj first and foremost ,</td>\n",
       "      <td>0</td>\n",
       "    </tr>\n",
       "    <tr>\n",
       "      <th>2</th>\n",
       "      <td>xxbos xxmaj technology xxunk on people \\n\\n xxmaj nowadays , the xxmaj xxunk has become like a small xxunk . xxmaj in the course of the last xxunk years , the way majority of people xxunk with each other has been xxunk xxunk because of technology . xxmaj but there are xxunk xxunk of xxunk whether it is positive or negative . xxmaj from my point of view ,</td>\n",
       "      <td>0</td>\n",
       "    </tr>\n",
       "  </tbody>\n",
       "</table>"
      ],
      "text/plain": [
       "<IPython.core.display.HTML object>"
      ]
     },
     "metadata": {},
     "output_type": "display_data"
    }
   ],
   "source": [
    "dls_clas = TextDataLoaders.from_df(df_sample, path=path, text_col='text', label_col='label',text_vocab=dls_lm.vocab)\n",
    "dls_clas.show_batch(max_n=3)"
   ]
  },
  {
   "cell_type": "code",
   "execution_count": 177,
   "id": "5c0d56ab",
   "metadata": {},
   "outputs": [],
   "source": [
    "metrics=[accuracy,F1Score(average='macro')]\n",
    "learn = text_classifier_learner(dls_clas, AWD_LSTM,drop_mult=0.2, metrics=metrics, path=path, wd=0.1, model_dir=\"/tmp/model/\")"
   ]
  },
  {
   "cell_type": "code",
   "execution_count": 178,
   "id": "11c86021",
   "metadata": {},
   "outputs": [],
   "source": [
    "learn = learn.load_encoder('/Users/feng/downloads/ArgumentAnnotatedEssays-2.0/finetuned')"
   ]
  },
  {
   "cell_type": "code",
   "execution_count": 187,
   "id": "e67ca373",
   "metadata": {},
   "outputs": [],
   "source": [
    "df_test = df_combined.sample(n=30, random_state=42)\n",
    "df_test = df_test[['text','label','doc_id']]"
   ]
  },
  {
   "cell_type": "code",
   "execution_count": 195,
   "id": "b55715c6",
   "metadata": {},
   "outputs": [],
   "source": [
    "get_predStr(df_test)\n",
    "df_test"
   ]
  },
  {
   "cell_type": "code",
   "execution_count": 196,
   "id": "08623e15",
   "metadata": {},
   "outputs": [],
   "source": [
    "def predict(txt):\n",
    "    with learn.no_bar(), learn.no_logging():\n",
    "        return int(learn.predict(txt)[0])"
   ]
  },
  {
   "cell_type": "code",
   "execution_count": 208,
   "id": "cc7b774a",
   "metadata": {},
   "outputs": [],
   "source": [
    "df_test['predictions'] = df_test[\"text\"].progress_apply(lambda x: predict(x))\n"
   ]
  },
  {
   "cell_type": "markdown",
   "id": "350a904a",
   "metadata": {},
   "source": [
    "# Adversarial Attacks Function"
   ]
  },
  {
   "cell_type": "code",
   "execution_count": null,
   "id": "7a53da6f",
   "metadata": {},
   "outputs": [],
   "source": [
    "#!pip install tensorflow_text\n",
    "#!textattack list attack-recipes\n",
    "#!pip install textattack\n",
    "from textattack.augmentation import EmbeddingAugmenter,EasyDataAugmenter,WordNetAugmenter,CharSwapAugmenter,CheckListAugmenter,CLAREAugmenter\n",
    "import time\n",
    "t = df_combined.iloc[0].text\n",
    "augmenter = CharSwapAugmenter()\n",
    "augmenter.augment(t)\n",
    "\n",
    "#     - WordNet synonym replacement\n",
    "#         - Randomly replace words with their synonyms.\n",
    "#     - Word deletion\n",
    "#         - Randomly remove words from the sentence.\n",
    "#     - Word order swaps\n",
    "#         - Randomly swap the position of words in the sentence.\n",
    "#     - Random synonym insertion\n",
    "#         - Insert a random synonym of a random word at a random location.\n",
    "augmenter = EasyDataAugmenter(pct_words_to_swap=0.2, transformations_per_example=1)\n",
    "s = 'What I do not understand, I can not create.'\n",
    "augmenter.augment(s)"
   ]
  },
  {
   "cell_type": "code",
   "execution_count": 133,
   "id": "d4b71c51",
   "metadata": {},
   "outputs": [],
   "source": [
    "def create_attacks(df,att_type,**kwargs):\n",
    "    \n",
    "    def easy_data(text):\n",
    "        augmenter = EasyDataAugmenter(kwargs['pct_swap'], kwargs['num_trans'])\n",
    "        return augmenter.augment(text)[0]\n",
    "    def syno(text):\n",
    "        augmenter = WordNetAugmenter()\n",
    "        return augmenter.augment(text)[0]\n",
    "    \n",
    "    if att_type == \"easy_data\":\n",
    "        df.text = df.text.apply(easy_data)\n",
    "        \n",
    "    elif att_type == \"replace_synonym\":\n",
    "        df.text = df.text.apply(syno)\n",
    "        "
   ]
  },
  {
   "cell_type": "code",
   "execution_count": 134,
   "id": "3d37abf8",
   "metadata": {},
   "outputs": [
    {
     "name": "stdout",
     "output_type": "stream",
     "text": [
      "1.6966230869293213\n"
     ]
    }
   ],
   "source": [
    "s = time.time()\n",
    "create_attacks(df_combined.iloc[:5],att_type = \"replace_synonym\")\n",
    "print(time.time()-s)"
   ]
  },
  {
   "cell_type": "markdown",
   "id": "154371bc",
   "metadata": {},
   "source": [
    "# Prediction_String"
   ]
  },
  {
   "cell_type": "code",
   "execution_count": 193,
   "id": "11a02cf9",
   "metadata": {},
   "outputs": [],
   "source": [
    "def get_predStr(df):\n",
    "    assert all(item in list(df) for item in ['label', 'text', 'doc_id']), \"Please use a dataframe with correct columns\"\n",
    "    prediction_strings = []\n",
    "    start_id = 1\n",
    "    prev_doc = df.iloc[0].doc_id\n",
    "    for (label, text, doc_id) in df[['label', 'text', 'doc_id']].itertuples(index=False):\n",
    "        if doc_id != prev_doc:\n",
    "            prev_doc = doc_id\n",
    "            start_id = 1\n",
    "        text_split = text.split()\n",
    "        end_id = start_id + len(text_split)\n",
    "        prediction_strings.append(\n",
    "            [num for num in range(start_id, end_id)]\n",
    "        )\n",
    "        start_id = end_id   \n",
    "    df['predictionString'] = prediction_strings"
   ]
  },
  {
   "cell_type": "code",
   "execution_count": null,
   "id": "81682769",
   "metadata": {},
   "outputs": [],
   "source": []
  },
  {
   "cell_type": "code",
   "execution_count": null,
   "id": "12712e0a",
   "metadata": {},
   "outputs": [],
   "source": []
  }
 ],
 "metadata": {
  "kernelspec": {
   "display_name": "Python 3",
   "language": "python",
   "name": "python3"
  },
  "language_info": {
   "codemirror_mode": {
    "name": "ipython",
    "version": 3
   },
   "file_extension": ".py",
   "mimetype": "text/x-python",
   "name": "python",
   "nbconvert_exporter": "python",
   "pygments_lexer": "ipython3",
   "version": "3.8.8"
  }
 },
 "nbformat": 4,
 "nbformat_minor": 5
}
