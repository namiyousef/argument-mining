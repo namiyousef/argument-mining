{
 "cells": [
  {
   "cell_type": "code",
   "execution_count": 136,
   "id": "d8dab58e",
   "metadata": {},
   "outputs": [],
   "source": [
    "# -- public imports\n",
    "\n",
    "import os\n",
    "import nltk\n",
    "import spacy\n",
    "import pandas as pd\n",
    "import numpy as np\n",
    "from sklearn.model_selection import train_test_split\n",
    "\n",
    "import keras\n",
    "from keras import preprocessing\n",
    "from keras.preprocessing.sequence import pad_sequences\n",
    "\n",
    "import torch.nn as nn\n",
    "import torch\n",
    "import torch.optim as optim\n",
    "import torch.nn.functional as F\n"
   ]
  },
  {
   "cell_type": "code",
   "execution_count": 158,
   "id": "ce83a197",
   "metadata": {},
   "outputs": [],
   "source": [
    "data = pd.read_json(\"/Users/feng/downloads/data/bio/TUDarmstadt_postprocessed.json\")"
   ]
  },
  {
   "cell_type": "code",
   "execution_count": 168,
   "id": "d7ee3c4e",
   "metadata": {},
   "outputs": [],
   "source": [
    "df = data.iloc[:10]"
   ]
  },
  {
   "cell_type": "code",
   "execution_count": 162,
   "id": "40214708",
   "metadata": {},
   "outputs": [
    {
     "name": "stdout",
     "output_type": "stream",
     "text": [
      "biggest sentence has 422 words\n"
     ]
    }
   ],
   "source": [
    "largest_len = max(len(s.split()) for s in list(df.text))\n",
    "print(f\"biggest sentence has {largest_len} words\")"
   ]
  },
  {
   "cell_type": "code",
   "execution_count": 163,
   "id": "1382a192",
   "metadata": {},
   "outputs": [],
   "source": [
    "output_labels = ['O', 'B-MajorClaim', 'I-MajorClaim', 'B-Claim', 'I-Claim', 'B-Premise','I-Premise']\n",
    "\n",
    "labels_to_ids = {v:k for k,v in enumerate(output_labels)}\n",
    "ids_to_labels = {k:v for k,v in enumerate(output_labels)}"
   ]
  },
  {
   "cell_type": "code",
   "execution_count": 213,
   "id": "9eea5c35",
   "metadata": {},
   "outputs": [],
   "source": [
    "word_to_ids = {\"UNK\":0}\n",
    "for sentence in list(df.text):\n",
    "    for word in sentence.split():\n",
    "        if word not in word_to_ids.keys():\n",
    "            word_to_ids[word] = len(word_to_ids)"
   ]
  },
  {
   "cell_type": "code",
   "execution_count": 170,
   "id": "b226534a",
   "metadata": {},
   "outputs": [
    {
     "data": {
      "text/html": [
       "<div>\n",
       "<style scoped>\n",
       "    .dataframe tbody tr th:only-of-type {\n",
       "        vertical-align: middle;\n",
       "    }\n",
       "\n",
       "    .dataframe tbody tr th {\n",
       "        vertical-align: top;\n",
       "    }\n",
       "\n",
       "    .dataframe thead th {\n",
       "        text-align: right;\n",
       "    }\n",
       "</style>\n",
       "<table border=\"1\" class=\"dataframe\">\n",
       "  <thead>\n",
       "    <tr style=\"text-align: right;\">\n",
       "      <th></th>\n",
       "      <th>doc_id</th>\n",
       "      <th>text</th>\n",
       "      <th>predictionString</th>\n",
       "      <th>labels</th>\n",
       "    </tr>\n",
       "  </thead>\n",
       "  <tbody>\n",
       "    <tr>\n",
       "      <th>0</th>\n",
       "      <td>essay001</td>\n",
       "      <td>Should students be taught to compete or to cooperate?\\n\\nIt is always said that competition can effectively promote the development of economy. In order to survive in the competition, companies continue to improve their products and service, and as a result, the whole society prospers. However, when we discuss the issue of competition or cooperation, what we are concerned about is not the whole society, but the development of an individual's whole life. From this point of view, I firmly believe that  we should attach more importance to cooperation during primary education .\\nFirst of all, ...</td>\n",
       "      <td>[0, 1, 2, 3, 4, 5, 6, 7, 8, 9, 10, 11, 12, 13, 14, 15, 16, 17, 18, 19, 20, 21, 22, 23, 24, 25, 26, 27, 28, 29, 30, 31, 32, 33, 34, 35, 36, 37, 38, 39, 40, 41, 42, 43, 44, 45, 46, 47, 48, 49, 50, 51, 52, 53, 54, 55, 56, 57, 58, 59, 60, 61, 62, 63, 64, 65, 66, 67, 68, 69, 70, 71, 72, 73, 74, 75, 76, 77, 78, 79, 80, 81, 82, 83, 84, 85, 86, 87, 88, 89, 90, 91, 92, 93, 94, 95, 96, 97, 98, 99, ...]</td>\n",
       "      <td>[O, O, O, O, O, O, O, O, O, O, O, O, O, O, O, O, O, O, O, O, O, O, O, O, O, O, O, O, O, O, O, O, O, O, O, O, O, O, O, O, O, O, O, O, O, O, O, O, O, O, O, O, O, O, O, O, O, O, O, O, O, O, O, O, O, O, O, O, O, O, O, O, O, O, O, O, O, O, O, O, O, O, B-MajorClaim, I-MajorClaim, I-MajorClaim, I-MajorClaim, I-MajorClaim, I-MajorClaim, I-MajorClaim, I-MajorClaim, I-MajorClaim, I-MajorClaim, O, O, O, O, B-Claim, I-Claim, I-Claim, I-Claim, ...]</td>\n",
       "    </tr>\n",
       "    <tr>\n",
       "      <th>1</th>\n",
       "      <td>essay002</td>\n",
       "      <td>More people are migrating to other countries than ever before\\n\\nThe last 50 years have seen an increasing number of immigrants to other countries. People moved due to a number of reasons, namely better educations or higher salary jobs. Some people thought that they should follow the local customs in order to integrate into their adopted countries’ cultures. However I strongly believe that  they are able to sustain their cultural identities and doing so help they keep their origin values .\\nFirstly,  maintaining one’s cultural identity is a key important rule to help individuals emerge in ...</td>\n",
       "      <td>[0, 1, 2, 3, 4, 5, 6, 7, 8, 9, 10, 11, 12, 13, 14, 15, 16, 17, 18, 19, 20, 21, 22, 23, 24, 25, 26, 27, 28, 29, 30, 31, 32, 33, 34, 35, 36, 37, 38, 39, 40, 41, 42, 43, 44, 45, 46, 47, 48, 49, 50, 51, 52, 53, 54, 55, 56, 57, 58, 59, 60, 61, 62, 63, 64, 65, 66, 67, 68, 69, 70, 71, 72, 73, 74, 75, 76, 77, 78, 79, 80, 81, 82, 83, 84, 85, 86, 87, 88, 89, 90, 91, 92, 93, 94, 95, 96, 97, 98, 99, ...]</td>\n",
       "      <td>[O, O, O, O, O, O, O, O, O, O, O, O, O, O, O, O, O, O, O, O, O, O, O, O, O, O, O, O, O, O, O, O, O, O, O, O, O, O, O, O, O, O, O, O, O, O, O, O, O, O, O, O, O, O, O, O, O, O, O, O, O, O, O, B-MajorClaim, I-MajorClaim, I-MajorClaim, I-MajorClaim, I-MajorClaim, I-MajorClaim, I-MajorClaim, I-MajorClaim, I-MajorClaim, I-MajorClaim, I-MajorClaim, I-MajorClaim, I-MajorClaim, I-MajorClaim, I-MajorClaim, I-MajorClaim, I-MajorClaim, O, O, B-Premise, I-Premise, I-Premise, I-Premise, I-Premise, I-Premise, I-Premise, I-Premise, I-Premise, I-Premise, I-Premise, I-Premise, I-Premise, I-Premise, I-Premis...</td>\n",
       "    </tr>\n",
       "    <tr>\n",
       "      <th>2</th>\n",
       "      <td>essay003</td>\n",
       "      <td>International tourism is now more common than ever before\\n\\nThe last decade has seen an increasing number of tourists traveling to visit natural wonder sights, ancient heritages and different cultures around the world. While some people might think that this international tourism has negative effects on the destination countries, I would contend that  it has contributed to the economic development as well as preserved the culture and environment of the tourist destinations . \\nFirstly,  international tourism promotes many aspects of the destination country’s economy in order to serve vari...</td>\n",
       "      <td>[0, 1, 2, 3, 4, 5, 6, 7, 8, 9, 10, 11, 12, 13, 14, 15, 16, 17, 18, 19, 20, 21, 22, 23, 24, 25, 26, 27, 28, 29, 30, 31, 32, 33, 34, 35, 36, 37, 38, 39, 40, 41, 42, 43, 44, 45, 46, 47, 48, 49, 50, 51, 52, 53, 54, 55, 56, 57, 58, 59, 60, 61, 62, 63, 64, 65, 66, 67, 68, 69, 70, 71, 72, 73, 74, 75, 76, 77, 78, 79, 80, 81, 82, 83, 84, 85, 86, 87, 88, 89, 90, 91, 92, 93, 94, 95, 96, 97, 98, 99, ...]</td>\n",
       "      <td>[O, O, O, O, O, O, O, O, O, O, O, O, O, O, O, O, O, O, O, O, O, O, O, O, O, O, O, O, O, O, O, O, O, O, O, O, O, O, O, O, O, O, O, O, O, O, O, O, O, O, O, O, O, B-MajorClaim, I-MajorClaim, I-MajorClaim, I-MajorClaim, I-MajorClaim, I-MajorClaim, I-MajorClaim, I-MajorClaim, I-MajorClaim, I-MajorClaim, I-MajorClaim, I-MajorClaim, I-MajorClaim, I-MajorClaim, I-MajorClaim, I-MajorClaim, I-MajorClaim, I-MajorClaim, I-MajorClaim, O, O, B-Premise, I-Premise, I-Premise, I-Premise, I-Premise, I-Premise, I-Premise, I-Premise, I-Premise, I-Premise, I-Premise, I-Premise, I-Premise, I-Premise, I-Premise,...</td>\n",
       "    </tr>\n",
       "    <tr>\n",
       "      <th>3</th>\n",
       "      <td>essay004</td>\n",
       "      <td>International tourism is now more common than ever before\\n\\nThe last 50 years have seen a significant increase in the number of tourist traveling worldwide. While some might think  the tourism bring large profit for the destination countries , I would contend that  this industry has affected the cultural attributes and damaged the natural environment of the tourist destinations .\\nFirstly, it is an undeniable fact that  tourists from different cultures will probably cause changes to the cultural identity of the tourist destinations .  Take Thailand for example, in the Vietnam War, many Am...</td>\n",
       "      <td>[0, 1, 2, 3, 4, 5, 6, 7, 8, 9, 10, 11, 12, 13, 14, 15, 16, 17, 18, 19, 20, 21, 22, 23, 24, 25, 26, 27, 28, 29, 30, 31, 32, 33, 34, 35, 36, 37, 38, 39, 40, 41, 42, 43, 44, 45, 46, 47, 48, 49, 50, 51, 52, 53, 54, 55, 56, 57, 58, 59, 60, 61, 62, 63, 64, 65, 66, 67, 68, 69, 70, 71, 72, 73, 74, 75, 76, 77, 78, 79, 80, 81, 82, 83, 84, 85, 86, 87, 88, 89, 90, 91, 92, 93, 94, 95, 96, 97, 98, 99, ...]</td>\n",
       "      <td>[O, O, O, O, O, O, O, O, O, O, O, O, O, O, O, O, O, O, O, O, O, O, O, O, O, O, O, O, O, B-Claim, I-Claim, I-Claim, I-Claim, I-Claim, I-Claim, I-Claim, I-Claim, I-Claim, O, O, O, O, O, B-MajorClaim, I-MajorClaim, I-MajorClaim, I-MajorClaim, I-MajorClaim, I-MajorClaim, I-MajorClaim, I-MajorClaim, I-MajorClaim, I-MajorClaim, I-MajorClaim, I-MajorClaim, I-MajorClaim, I-MajorClaim, I-MajorClaim, I-MajorClaim, O, O, O, O, O, O, O, O, B-Premise, I-Premise, I-Premise, I-Premise, I-Premise, I-Premise, I-Premise, I-Premise, I-Premise, I-Premise, I-Premise, I-Premise, I-Premise, I-Premise, I-Premise,...</td>\n",
       "    </tr>\n",
       "    <tr>\n",
       "      <th>4</th>\n",
       "      <td>essay005</td>\n",
       "      <td>Living and studying overseas\\n\\nIt is every student's desire to study at a good university and experience a new environment. While some students study and live overseas to achieve this, some prefer to study home because of the difficulties of living and studying overseas. In my opinion,  one who studies overseas will gain many skills throughout this experience  for several reasons.\\nFirst,  studying at an overseas university gives individuals the opportunity to improve social skills by interacting and communicating with students from different origins and cultures .  Compared to the peers ...</td>\n",
       "      <td>[0, 1, 2, 3, 4, 5, 6, 7, 8, 9, 10, 11, 12, 13, 14, 15, 16, 17, 18, 19, 20, 21, 22, 23, 24, 25, 26, 27, 28, 29, 30, 31, 32, 33, 34, 35, 36, 37, 38, 39, 40, 41, 42, 43, 44, 45, 46, 47, 48, 49, 50, 51, 52, 53, 54, 55, 56, 57, 58, 59, 60, 61, 62, 63, 64, 65, 66, 67, 68, 69, 70, 71, 72, 73, 74, 75, 76, 77, 78, 79, 80, 81, 82, 83, 84, 85, 86, 87, 88, 89, 90, 91, 92, 93, 94, 95, 96, 97, 98, 99, ...]</td>\n",
       "      <td>[O, O, O, O, O, O, O, O, O, O, O, O, O, O, O, O, O, O, O, O, O, O, O, O, O, O, O, O, O, O, O, O, O, O, O, O, O, O, O, O, O, O, O, O, O, O, O, B-MajorClaim, I-MajorClaim, I-MajorClaim, I-MajorClaim, I-MajorClaim, I-MajorClaim, I-MajorClaim, I-MajorClaim, I-MajorClaim, I-MajorClaim, I-MajorClaim, O, O, O, O, B-Claim, I-Claim, I-Claim, I-Claim, I-Claim, I-Claim, I-Claim, I-Claim, I-Claim, I-Claim, I-Claim, I-Claim, I-Claim, I-Claim, I-Claim, I-Claim, I-Claim, I-Claim, I-Claim, I-Claim, I-Claim, I-Claim, I-Claim, I-Claim, O, B-Premise, I-Premise, I-Premise, I-Premise, I-Premise, I-Premise, I-P...</td>\n",
       "    </tr>\n",
       "  </tbody>\n",
       "</table>\n",
       "</div>"
      ],
      "text/plain": [
       "     doc_id  \\\n",
       "0  essay001   \n",
       "1  essay002   \n",
       "2  essay003   \n",
       "3  essay004   \n",
       "4  essay005   \n",
       "\n",
       "                                                                                                                                                                                                                                                                                                                                                                                                                                                                                                                                                                                                                      text  \\\n",
       "0  Should students be taught to compete or to cooperate?\\n\\nIt is always said that competition can effectively promote the development of economy. In order to survive in the competition, companies continue to improve their products and service, and as a result, the whole society prospers. However, when we discuss the issue of competition or cooperation, what we are concerned about is not the whole society, but the development of an individual's whole life. From this point of view, I firmly believe that  we should attach more importance to cooperation during primary education .\\nFirst of all, ...   \n",
       "1  More people are migrating to other countries than ever before\\n\\nThe last 50 years have seen an increasing number of immigrants to other countries. People moved due to a number of reasons, namely better educations or higher salary jobs. Some people thought that they should follow the local customs in order to integrate into their adopted countries’ cultures. However I strongly believe that  they are able to sustain their cultural identities and doing so help they keep their origin values .\\nFirstly,  maintaining one’s cultural identity is a key important rule to help individuals emerge in ...   \n",
       "2  International tourism is now more common than ever before\\n\\nThe last decade has seen an increasing number of tourists traveling to visit natural wonder sights, ancient heritages and different cultures around the world. While some people might think that this international tourism has negative effects on the destination countries, I would contend that  it has contributed to the economic development as well as preserved the culture and environment of the tourist destinations . \\nFirstly,  international tourism promotes many aspects of the destination country’s economy in order to serve vari...   \n",
       "3  International tourism is now more common than ever before\\n\\nThe last 50 years have seen a significant increase in the number of tourist traveling worldwide. While some might think  the tourism bring large profit for the destination countries , I would contend that  this industry has affected the cultural attributes and damaged the natural environment of the tourist destinations .\\nFirstly, it is an undeniable fact that  tourists from different cultures will probably cause changes to the cultural identity of the tourist destinations .  Take Thailand for example, in the Vietnam War, many Am...   \n",
       "4  Living and studying overseas\\n\\nIt is every student's desire to study at a good university and experience a new environment. While some students study and live overseas to achieve this, some prefer to study home because of the difficulties of living and studying overseas. In my opinion,  one who studies overseas will gain many skills throughout this experience  for several reasons.\\nFirst,  studying at an overseas university gives individuals the opportunity to improve social skills by interacting and communicating with students from different origins and cultures .  Compared to the peers ...   \n",
       "\n",
       "                                                                                                                                                                                                                                                                                                                                                                                              predictionString  \\\n",
       "0  [0, 1, 2, 3, 4, 5, 6, 7, 8, 9, 10, 11, 12, 13, 14, 15, 16, 17, 18, 19, 20, 21, 22, 23, 24, 25, 26, 27, 28, 29, 30, 31, 32, 33, 34, 35, 36, 37, 38, 39, 40, 41, 42, 43, 44, 45, 46, 47, 48, 49, 50, 51, 52, 53, 54, 55, 56, 57, 58, 59, 60, 61, 62, 63, 64, 65, 66, 67, 68, 69, 70, 71, 72, 73, 74, 75, 76, 77, 78, 79, 80, 81, 82, 83, 84, 85, 86, 87, 88, 89, 90, 91, 92, 93, 94, 95, 96, 97, 98, 99, ...]   \n",
       "1  [0, 1, 2, 3, 4, 5, 6, 7, 8, 9, 10, 11, 12, 13, 14, 15, 16, 17, 18, 19, 20, 21, 22, 23, 24, 25, 26, 27, 28, 29, 30, 31, 32, 33, 34, 35, 36, 37, 38, 39, 40, 41, 42, 43, 44, 45, 46, 47, 48, 49, 50, 51, 52, 53, 54, 55, 56, 57, 58, 59, 60, 61, 62, 63, 64, 65, 66, 67, 68, 69, 70, 71, 72, 73, 74, 75, 76, 77, 78, 79, 80, 81, 82, 83, 84, 85, 86, 87, 88, 89, 90, 91, 92, 93, 94, 95, 96, 97, 98, 99, ...]   \n",
       "2  [0, 1, 2, 3, 4, 5, 6, 7, 8, 9, 10, 11, 12, 13, 14, 15, 16, 17, 18, 19, 20, 21, 22, 23, 24, 25, 26, 27, 28, 29, 30, 31, 32, 33, 34, 35, 36, 37, 38, 39, 40, 41, 42, 43, 44, 45, 46, 47, 48, 49, 50, 51, 52, 53, 54, 55, 56, 57, 58, 59, 60, 61, 62, 63, 64, 65, 66, 67, 68, 69, 70, 71, 72, 73, 74, 75, 76, 77, 78, 79, 80, 81, 82, 83, 84, 85, 86, 87, 88, 89, 90, 91, 92, 93, 94, 95, 96, 97, 98, 99, ...]   \n",
       "3  [0, 1, 2, 3, 4, 5, 6, 7, 8, 9, 10, 11, 12, 13, 14, 15, 16, 17, 18, 19, 20, 21, 22, 23, 24, 25, 26, 27, 28, 29, 30, 31, 32, 33, 34, 35, 36, 37, 38, 39, 40, 41, 42, 43, 44, 45, 46, 47, 48, 49, 50, 51, 52, 53, 54, 55, 56, 57, 58, 59, 60, 61, 62, 63, 64, 65, 66, 67, 68, 69, 70, 71, 72, 73, 74, 75, 76, 77, 78, 79, 80, 81, 82, 83, 84, 85, 86, 87, 88, 89, 90, 91, 92, 93, 94, 95, 96, 97, 98, 99, ...]   \n",
       "4  [0, 1, 2, 3, 4, 5, 6, 7, 8, 9, 10, 11, 12, 13, 14, 15, 16, 17, 18, 19, 20, 21, 22, 23, 24, 25, 26, 27, 28, 29, 30, 31, 32, 33, 34, 35, 36, 37, 38, 39, 40, 41, 42, 43, 44, 45, 46, 47, 48, 49, 50, 51, 52, 53, 54, 55, 56, 57, 58, 59, 60, 61, 62, 63, 64, 65, 66, 67, 68, 69, 70, 71, 72, 73, 74, 75, 76, 77, 78, 79, 80, 81, 82, 83, 84, 85, 86, 87, 88, 89, 90, 91, 92, 93, 94, 95, 96, 97, 98, 99, ...]   \n",
       "\n",
       "                                                                                                                                                                                                                                                                                                                                                                                                                                                                                                                                                                                                                    labels  \n",
       "0                                                                                                                                                                  [O, O, O, O, O, O, O, O, O, O, O, O, O, O, O, O, O, O, O, O, O, O, O, O, O, O, O, O, O, O, O, O, O, O, O, O, O, O, O, O, O, O, O, O, O, O, O, O, O, O, O, O, O, O, O, O, O, O, O, O, O, O, O, O, O, O, O, O, O, O, O, O, O, O, O, O, O, O, O, O, O, O, B-MajorClaim, I-MajorClaim, I-MajorClaim, I-MajorClaim, I-MajorClaim, I-MajorClaim, I-MajorClaim, I-MajorClaim, I-MajorClaim, I-MajorClaim, O, O, O, O, B-Claim, I-Claim, I-Claim, I-Claim, ...]  \n",
       "1  [O, O, O, O, O, O, O, O, O, O, O, O, O, O, O, O, O, O, O, O, O, O, O, O, O, O, O, O, O, O, O, O, O, O, O, O, O, O, O, O, O, O, O, O, O, O, O, O, O, O, O, O, O, O, O, O, O, O, O, O, O, O, O, B-MajorClaim, I-MajorClaim, I-MajorClaim, I-MajorClaim, I-MajorClaim, I-MajorClaim, I-MajorClaim, I-MajorClaim, I-MajorClaim, I-MajorClaim, I-MajorClaim, I-MajorClaim, I-MajorClaim, I-MajorClaim, I-MajorClaim, I-MajorClaim, I-MajorClaim, O, O, B-Premise, I-Premise, I-Premise, I-Premise, I-Premise, I-Premise, I-Premise, I-Premise, I-Premise, I-Premise, I-Premise, I-Premise, I-Premise, I-Premise, I-Premis...  \n",
       "2  [O, O, O, O, O, O, O, O, O, O, O, O, O, O, O, O, O, O, O, O, O, O, O, O, O, O, O, O, O, O, O, O, O, O, O, O, O, O, O, O, O, O, O, O, O, O, O, O, O, O, O, O, O, B-MajorClaim, I-MajorClaim, I-MajorClaim, I-MajorClaim, I-MajorClaim, I-MajorClaim, I-MajorClaim, I-MajorClaim, I-MajorClaim, I-MajorClaim, I-MajorClaim, I-MajorClaim, I-MajorClaim, I-MajorClaim, I-MajorClaim, I-MajorClaim, I-MajorClaim, I-MajorClaim, I-MajorClaim, O, O, B-Premise, I-Premise, I-Premise, I-Premise, I-Premise, I-Premise, I-Premise, I-Premise, I-Premise, I-Premise, I-Premise, I-Premise, I-Premise, I-Premise, I-Premise,...  \n",
       "3  [O, O, O, O, O, O, O, O, O, O, O, O, O, O, O, O, O, O, O, O, O, O, O, O, O, O, O, O, O, B-Claim, I-Claim, I-Claim, I-Claim, I-Claim, I-Claim, I-Claim, I-Claim, I-Claim, O, O, O, O, O, B-MajorClaim, I-MajorClaim, I-MajorClaim, I-MajorClaim, I-MajorClaim, I-MajorClaim, I-MajorClaim, I-MajorClaim, I-MajorClaim, I-MajorClaim, I-MajorClaim, I-MajorClaim, I-MajorClaim, I-MajorClaim, I-MajorClaim, I-MajorClaim, O, O, O, O, O, O, O, O, B-Premise, I-Premise, I-Premise, I-Premise, I-Premise, I-Premise, I-Premise, I-Premise, I-Premise, I-Premise, I-Premise, I-Premise, I-Premise, I-Premise, I-Premise,...  \n",
       "4  [O, O, O, O, O, O, O, O, O, O, O, O, O, O, O, O, O, O, O, O, O, O, O, O, O, O, O, O, O, O, O, O, O, O, O, O, O, O, O, O, O, O, O, O, O, O, O, B-MajorClaim, I-MajorClaim, I-MajorClaim, I-MajorClaim, I-MajorClaim, I-MajorClaim, I-MajorClaim, I-MajorClaim, I-MajorClaim, I-MajorClaim, I-MajorClaim, O, O, O, O, B-Claim, I-Claim, I-Claim, I-Claim, I-Claim, I-Claim, I-Claim, I-Claim, I-Claim, I-Claim, I-Claim, I-Claim, I-Claim, I-Claim, I-Claim, I-Claim, I-Claim, I-Claim, I-Claim, I-Claim, I-Claim, I-Claim, I-Claim, I-Claim, O, B-Premise, I-Premise, I-Premise, I-Premise, I-Premise, I-Premise, I-P...  "
      ]
     },
     "execution_count": 170,
     "metadata": {},
     "output_type": "execute_result"
    }
   ],
   "source": [
    "df.head()"
   ]
  },
  {
   "cell_type": "code",
   "execution_count": 215,
   "id": "0c2a5743",
   "metadata": {},
   "outputs": [],
   "source": [
    "def convert_labelId(str_list):\n",
    "    l = []\n",
    "    for s in str_list:\n",
    "        l.append(labels_to_ids[s])\n",
    "    return l\n",
    "df['label_idx'] = df['labels'].apply(convert_labelId)"
   ]
  },
  {
   "cell_type": "code",
   "execution_count": 216,
   "id": "924c864a",
   "metadata": {},
   "outputs": [
    {
     "data": {
      "text/html": [
       "<div>\n",
       "<style scoped>\n",
       "    .dataframe tbody tr th:only-of-type {\n",
       "        vertical-align: middle;\n",
       "    }\n",
       "\n",
       "    .dataframe tbody tr th {\n",
       "        vertical-align: top;\n",
       "    }\n",
       "\n",
       "    .dataframe thead th {\n",
       "        text-align: right;\n",
       "    }\n",
       "</style>\n",
       "<table border=\"1\" class=\"dataframe\">\n",
       "  <thead>\n",
       "    <tr style=\"text-align: right;\">\n",
       "      <th></th>\n",
       "      <th>doc_id</th>\n",
       "      <th>text</th>\n",
       "      <th>predictionString</th>\n",
       "      <th>labels</th>\n",
       "      <th>label_idx</th>\n",
       "      <th>word_idx</th>\n",
       "    </tr>\n",
       "  </thead>\n",
       "  <tbody>\n",
       "    <tr>\n",
       "      <th>0</th>\n",
       "      <td>essay001</td>\n",
       "      <td>Should students be taught to compete or to cooperate?\\n\\nIt is always said that competition can effectively promote the development of economy. In order to survive in the competition, companies continue to improve their products and service, and as a result, the whole society prospers. However, when we discuss the issue of competition or cooperation, what we are concerned about is not the whole society, but the development of an individual's whole life. From this point of view, I firmly believe that  we should attach more importance to cooperation during primary education .\\nFirst of all, ...</td>\n",
       "      <td>[0, 1, 2, 3, 4, 5, 6, 7, 8, 9, 10, 11, 12, 13, 14, 15, 16, 17, 18, 19, 20, 21, 22, 23, 24, 25, 26, 27, 28, 29, 30, 31, 32, 33, 34, 35, 36, 37, 38, 39, 40, 41, 42, 43, 44, 45, 46, 47, 48, 49, 50, 51, 52, 53, 54, 55, 56, 57, 58, 59, 60, 61, 62, 63, 64, 65, 66, 67, 68, 69, 70, 71, 72, 73, 74, 75, 76, 77, 78, 79, 80, 81, 82, 83, 84, 85, 86, 87, 88, 89, 90, 91, 92, 93, 94, 95, 96, 97, 98, 99, ...]</td>\n",
       "      <td>[O, O, O, O, O, O, O, O, O, O, O, O, O, O, O, O, O, O, O, O, O, O, O, O, O, O, O, O, O, O, O, O, O, O, O, O, O, O, O, O, O, O, O, O, O, O, O, O, O, O, O, O, O, O, O, O, O, O, O, O, O, O, O, O, O, O, O, O, O, O, O, O, O, O, O, O, O, O, O, O, O, O, B-MajorClaim, I-MajorClaim, I-MajorClaim, I-MajorClaim, I-MajorClaim, I-MajorClaim, I-MajorClaim, I-MajorClaim, I-MajorClaim, I-MajorClaim, O, O, O, O, B-Claim, I-Claim, I-Claim, I-Claim, ...]</td>\n",
       "      <td>[0, 0, 0, 0, 0, 0, 0, 0, 0, 0, 0, 0, 0, 0, 0, 0, 0, 0, 0, 0, 0, 0, 0, 0, 0, 0, 0, 0, 0, 0, 0, 0, 0, 0, 0, 0, 0, 0, 0, 0, 0, 0, 0, 0, 0, 0, 0, 0, 0, 0, 0, 0, 0, 0, 0, 0, 0, 0, 0, 0, 0, 0, 0, 0, 0, 0, 0, 0, 0, 0, 0, 0, 0, 0, 0, 0, 0, 0, 0, 0, 0, 0, 1, 2, 2, 2, 2, 2, 2, 2, 2, 2, 0, 0, 0, 0, 3, 4, 4, 4, ...]</td>\n",
       "      <td>[1, 2, 3, 4, 5, 6, 7, 5, 8, 9, 10, 11, 12, 13, 14, 15, 16, 17, 18, 19, 20, 21, 22, 23, 5, 24, 25, 18, 26, 27, 28, 5, 29, 30, 31, 32, 33, 32, 34, 35, 36, 18, 37, 38, 39, 40, 41, 42, 43, 18, 44, 20, 14, 7, 45, 46, 42, 47, 48, 49, 10, 50, 18, 37, 51, 52, 18, 19, 20, 53, 54, 37, 55, 56, 57, 58, 20, 59, 60, 61, 62, 13, 42, 63, 64, 65, 66, 5, 67, 68, 69, 70, 71, 72, 20, 73, 74, 45, 75, 15, ...]</td>\n",
       "    </tr>\n",
       "    <tr>\n",
       "      <th>1</th>\n",
       "      <td>essay002</td>\n",
       "      <td>More people are migrating to other countries than ever before\\n\\nThe last 50 years have seen an increasing number of immigrants to other countries. People moved due to a number of reasons, namely better educations or higher salary jobs. Some people thought that they should follow the local customs in order to integrate into their adopted countries’ cultures. However I strongly believe that  they are able to sustain their cultural identities and doing so help they keep their origin values .\\nFirstly,  maintaining one’s cultural identity is a key important rule to help individuals emerge in ...</td>\n",
       "      <td>[0, 1, 2, 3, 4, 5, 6, 7, 8, 9, 10, 11, 12, 13, 14, 15, 16, 17, 18, 19, 20, 21, 22, 23, 24, 25, 26, 27, 28, 29, 30, 31, 32, 33, 34, 35, 36, 37, 38, 39, 40, 41, 42, 43, 44, 45, 46, 47, 48, 49, 50, 51, 52, 53, 54, 55, 56, 57, 58, 59, 60, 61, 62, 63, 64, 65, 66, 67, 68, 69, 70, 71, 72, 73, 74, 75, 76, 77, 78, 79, 80, 81, 82, 83, 84, 85, 86, 87, 88, 89, 90, 91, 92, 93, 94, 95, 96, 97, 98, 99, ...]</td>\n",
       "      <td>[O, O, O, O, O, O, O, O, O, O, O, O, O, O, O, O, O, O, O, O, O, O, O, O, O, O, O, O, O, O, O, O, O, O, O, O, O, O, O, O, O, O, O, O, O, O, O, O, O, O, O, O, O, O, O, O, O, O, O, O, O, O, O, B-MajorClaim, I-MajorClaim, I-MajorClaim, I-MajorClaim, I-MajorClaim, I-MajorClaim, I-MajorClaim, I-MajorClaim, I-MajorClaim, I-MajorClaim, I-MajorClaim, I-MajorClaim, I-MajorClaim, I-MajorClaim, I-MajorClaim, I-MajorClaim, I-MajorClaim, O, O, B-Premise, I-Premise, I-Premise, I-Premise, I-Premise, I-Premise, I-Premise, I-Premise, I-Premise, I-Premise, I-Premise, I-Premise, I-Premise, I-Premise, I-Premis...</td>\n",
       "      <td>[0, 0, 0, 0, 0, 0, 0, 0, 0, 0, 0, 0, 0, 0, 0, 0, 0, 0, 0, 0, 0, 0, 0, 0, 0, 0, 0, 0, 0, 0, 0, 0, 0, 0, 0, 0, 0, 0, 0, 0, 0, 0, 0, 0, 0, 0, 0, 0, 0, 0, 0, 0, 0, 0, 0, 0, 0, 0, 0, 0, 0, 0, 0, 1, 2, 2, 2, 2, 2, 2, 2, 2, 2, 2, 2, 2, 2, 2, 2, 2, 0, 0, 5, 6, 6, 6, 6, 6, 6, 6, 6, 6, 6, 6, 6, 6, 6, 6, 6, 6, ...]</td>\n",
       "      <td>[191, 119, 47, 192, 5, 109, 193, 194, 195, 196, 140, 197, 198, 199, 200, 201, 53, 202, 203, 20, 204, 5, 109, 205, 206, 207, 208, 5, 35, 203, 20, 209, 210, 211, 212, 7, 213, 214, 215, 216, 119, 217, 13, 218, 63, 219, 18, 220, 221, 25, 23, 5, 222, 223, 30, 224, 225, 226, 227, 60, 228, 62, 13, 218, 47, 229, 5, 230, 30, 231, 232, 32, 233, 234, 115, 218, 235, 30, 236, 237, 71, 238, 239, 240, 231, 241, 10, 35, 242, 243, 244, 5, 115, 245, 246, 25, 18, 247, 248, 249, ...]</td>\n",
       "    </tr>\n",
       "    <tr>\n",
       "      <th>2</th>\n",
       "      <td>essay003</td>\n",
       "      <td>International tourism is now more common than ever before\\n\\nThe last decade has seen an increasing number of tourists traveling to visit natural wonder sights, ancient heritages and different cultures around the world. While some people might think that this international tourism has negative effects on the destination countries, I would contend that  it has contributed to the economic development as well as preserved the culture and environment of the tourist destinations . \\nFirstly,  international tourism promotes many aspects of the destination country’s economy in order to serve vari...</td>\n",
       "      <td>[0, 1, 2, 3, 4, 5, 6, 7, 8, 9, 10, 11, 12, 13, 14, 15, 16, 17, 18, 19, 20, 21, 22, 23, 24, 25, 26, 27, 28, 29, 30, 31, 32, 33, 34, 35, 36, 37, 38, 39, 40, 41, 42, 43, 44, 45, 46, 47, 48, 49, 50, 51, 52, 53, 54, 55, 56, 57, 58, 59, 60, 61, 62, 63, 64, 65, 66, 67, 68, 69, 70, 71, 72, 73, 74, 75, 76, 77, 78, 79, 80, 81, 82, 83, 84, 85, 86, 87, 88, 89, 90, 91, 92, 93, 94, 95, 96, 97, 98, 99, ...]</td>\n",
       "      <td>[O, O, O, O, O, O, O, O, O, O, O, O, O, O, O, O, O, O, O, O, O, O, O, O, O, O, O, O, O, O, O, O, O, O, O, O, O, O, O, O, O, O, O, O, O, O, O, O, O, O, O, O, O, B-MajorClaim, I-MajorClaim, I-MajorClaim, I-MajorClaim, I-MajorClaim, I-MajorClaim, I-MajorClaim, I-MajorClaim, I-MajorClaim, I-MajorClaim, I-MajorClaim, I-MajorClaim, I-MajorClaim, I-MajorClaim, I-MajorClaim, I-MajorClaim, I-MajorClaim, I-MajorClaim, I-MajorClaim, O, O, B-Premise, I-Premise, I-Premise, I-Premise, I-Premise, I-Premise, I-Premise, I-Premise, I-Premise, I-Premise, I-Premise, I-Premise, I-Premise, I-Premise, I-Premise,...</td>\n",
       "      <td>[0, 0, 0, 0, 0, 0, 0, 0, 0, 0, 0, 0, 0, 0, 0, 0, 0, 0, 0, 0, 0, 0, 0, 0, 0, 0, 0, 0, 0, 0, 0, 0, 0, 0, 0, 0, 0, 0, 0, 0, 0, 0, 0, 0, 0, 0, 0, 0, 0, 0, 0, 0, 0, 1, 2, 2, 2, 2, 2, 2, 2, 2, 2, 2, 2, 2, 2, 2, 2, 2, 2, 2, 0, 0, 5, 6, 6, 6, 6, 6, 6, 6, 6, 6, 6, 6, 6, 6, 6, 6, 6, 6, 0, 5, 6, 6, 6, 6, 6, 6, ...]</td>\n",
       "      <td>[340, 341, 10, 342, 65, 343, 194, 195, 196, 140, 197, 344, 345, 201, 53, 202, 203, 20, 346, 347, 5, 348, 349, 350, 351, 352, 353, 32, 354, 271, 355, 18, 356, 357, 358, 119, 359, 105, 13, 57, 360, 341, 345, 361, 362, 117, 18, 321, 363, 60, 176, 364, 13, 131, 345, 365, 5, 18, 366, 19, 34, 118, 34, 367, 18, 339, 32, 368, 20, 18, 369, 370, 71, 238, 360, 341, 371, 338, 372, 20, 18, 321, 373, 374, 25, 23, 5, 375, 376, 377, 20, 346, 71, 145, 378, 122, 251, 35, 379, 203, ...]</td>\n",
       "    </tr>\n",
       "    <tr>\n",
       "      <th>3</th>\n",
       "      <td>essay004</td>\n",
       "      <td>International tourism is now more common than ever before\\n\\nThe last 50 years have seen a significant increase in the number of tourist traveling worldwide. While some might think  the tourism bring large profit for the destination countries , I would contend that  this industry has affected the cultural attributes and damaged the natural environment of the tourist destinations .\\nFirstly, it is an undeniable fact that  tourists from different cultures will probably cause changes to the cultural identity of the tourist destinations .  Take Thailand for example, in the Vietnam War, many Am...</td>\n",
       "      <td>[0, 1, 2, 3, 4, 5, 6, 7, 8, 9, 10, 11, 12, 13, 14, 15, 16, 17, 18, 19, 20, 21, 22, 23, 24, 25, 26, 27, 28, 29, 30, 31, 32, 33, 34, 35, 36, 37, 38, 39, 40, 41, 42, 43, 44, 45, 46, 47, 48, 49, 50, 51, 52, 53, 54, 55, 56, 57, 58, 59, 60, 61, 62, 63, 64, 65, 66, 67, 68, 69, 70, 71, 72, 73, 74, 75, 76, 77, 78, 79, 80, 81, 82, 83, 84, 85, 86, 87, 88, 89, 90, 91, 92, 93, 94, 95, 96, 97, 98, 99, ...]</td>\n",
       "      <td>[O, O, O, O, O, O, O, O, O, O, O, O, O, O, O, O, O, O, O, O, O, O, O, O, O, O, O, O, O, B-Claim, I-Claim, I-Claim, I-Claim, I-Claim, I-Claim, I-Claim, I-Claim, I-Claim, O, O, O, O, O, B-MajorClaim, I-MajorClaim, I-MajorClaim, I-MajorClaim, I-MajorClaim, I-MajorClaim, I-MajorClaim, I-MajorClaim, I-MajorClaim, I-MajorClaim, I-MajorClaim, I-MajorClaim, I-MajorClaim, I-MajorClaim, I-MajorClaim, I-MajorClaim, O, O, O, O, O, O, O, O, B-Premise, I-Premise, I-Premise, I-Premise, I-Premise, I-Premise, I-Premise, I-Premise, I-Premise, I-Premise, I-Premise, I-Premise, I-Premise, I-Premise, I-Premise,...</td>\n",
       "      <td>[0, 0, 0, 0, 0, 0, 0, 0, 0, 0, 0, 0, 0, 0, 0, 0, 0, 0, 0, 0, 0, 0, 0, 0, 0, 0, 0, 0, 0, 3, 4, 4, 4, 4, 4, 4, 4, 4, 0, 0, 0, 0, 0, 1, 2, 2, 2, 2, 2, 2, 2, 2, 2, 2, 2, 2, 2, 2, 2, 0, 0, 0, 0, 0, 0, 0, 0, 5, 6, 6, 6, 6, 6, 6, 6, 6, 6, 6, 6, 6, 6, 6, 6, 0, 5, 6, 6, 6, 6, 6, 6, 6, 6, 6, 6, 6, 6, 6, 6, 6, ...]</td>\n",
       "      <td>[340, 341, 10, 342, 65, 343, 194, 195, 196, 140, 197, 198, 199, 200, 201, 35, 80, 442, 25, 18, 203, 20, 369, 347, 443, 357, 358, 359, 105, 18, 341, 444, 379, 422, 122, 18, 321, 193, 445, 60, 176, 364, 13, 57, 446, 345, 447, 18, 231, 448, 32, 449, 18, 349, 368, 20, 18, 369, 370, 71, 238, 131, 10, 53, 450, 451, 13, 346, 86, 354, 271, 120, 452, 453, 454, 5, 18, 231, 241, 20, 18, 369, 370, 71, 145, 455, 122, 251, 25, 18, 456, 457, 338, 458, 459, 460, 5, 455, 122, 35, ...]</td>\n",
       "    </tr>\n",
       "    <tr>\n",
       "      <th>4</th>\n",
       "      <td>essay005</td>\n",
       "      <td>Living and studying overseas\\n\\nIt is every student's desire to study at a good university and experience a new environment. While some students study and live overseas to achieve this, some prefer to study home because of the difficulties of living and studying overseas. In my opinion,  one who studies overseas will gain many skills throughout this experience  for several reasons.\\nFirst,  studying at an overseas university gives individuals the opportunity to improve social skills by interacting and communicating with students from different origins and cultures .  Compared to the peers ...</td>\n",
       "      <td>[0, 1, 2, 3, 4, 5, 6, 7, 8, 9, 10, 11, 12, 13, 14, 15, 16, 17, 18, 19, 20, 21, 22, 23, 24, 25, 26, 27, 28, 29, 30, 31, 32, 33, 34, 35, 36, 37, 38, 39, 40, 41, 42, 43, 44, 45, 46, 47, 48, 49, 50, 51, 52, 53, 54, 55, 56, 57, 58, 59, 60, 61, 62, 63, 64, 65, 66, 67, 68, 69, 70, 71, 72, 73, 74, 75, 76, 77, 78, 79, 80, 81, 82, 83, 84, 85, 86, 87, 88, 89, 90, 91, 92, 93, 94, 95, 96, 97, 98, 99, ...]</td>\n",
       "      <td>[O, O, O, O, O, O, O, O, O, O, O, O, O, O, O, O, O, O, O, O, O, O, O, O, O, O, O, O, O, O, O, O, O, O, O, O, O, O, O, O, O, O, O, O, O, O, O, B-MajorClaim, I-MajorClaim, I-MajorClaim, I-MajorClaim, I-MajorClaim, I-MajorClaim, I-MajorClaim, I-MajorClaim, I-MajorClaim, I-MajorClaim, I-MajorClaim, O, O, O, O, B-Claim, I-Claim, I-Claim, I-Claim, I-Claim, I-Claim, I-Claim, I-Claim, I-Claim, I-Claim, I-Claim, I-Claim, I-Claim, I-Claim, I-Claim, I-Claim, I-Claim, I-Claim, I-Claim, I-Claim, I-Claim, I-Claim, I-Claim, I-Claim, O, B-Premise, I-Premise, I-Premise, I-Premise, I-Premise, I-Premise, I-P...</td>\n",
       "      <td>[0, 0, 0, 0, 0, 0, 0, 0, 0, 0, 0, 0, 0, 0, 0, 0, 0, 0, 0, 0, 0, 0, 0, 0, 0, 0, 0, 0, 0, 0, 0, 0, 0, 0, 0, 0, 0, 0, 0, 0, 0, 0, 0, 0, 0, 0, 0, 1, 2, 2, 2, 2, 2, 2, 2, 2, 2, 2, 0, 0, 0, 0, 3, 4, 4, 4, 4, 4, 4, 4, 4, 4, 4, 4, 4, 4, 4, 4, 4, 4, 4, 4, 4, 4, 4, 4, 0, 5, 6, 6, 6, 6, 6, 6, 6, 6, 6, 6, 6, 6, ...]</td>\n",
       "      <td>[537, 32, 538, 539, 9, 10, 540, 541, 542, 5, 543, 544, 35, 545, 546, 32, 547, 35, 247, 548, 357, 358, 2, 543, 32, 549, 539, 5, 91, 550, 358, 551, 5, 543, 307, 552, 20, 18, 553, 20, 397, 32, 538, 554, 22, 555, 556, 557, 163, 558, 539, 120, 128, 338, 78, 559, 57, 547, 122, 560, 561, 562, 538, 544, 53, 539, 546, 563, 245, 18, 564, 5, 29, 294, 78, 418, 565, 32, 566, 94, 2, 86, 354, 567, 32, 271, 71, 568, 5, 18, 569, 538, 25, 18, 307, 570, 131, 120, 3, 65, ...]</td>\n",
       "    </tr>\n",
       "  </tbody>\n",
       "</table>\n",
       "</div>"
      ],
      "text/plain": [
       "     doc_id  \\\n",
       "0  essay001   \n",
       "1  essay002   \n",
       "2  essay003   \n",
       "3  essay004   \n",
       "4  essay005   \n",
       "\n",
       "                                                                                                                                                                                                                                                                                                                                                                                                                                                                                                                                                                                                                      text  \\\n",
       "0  Should students be taught to compete or to cooperate?\\n\\nIt is always said that competition can effectively promote the development of economy. In order to survive in the competition, companies continue to improve their products and service, and as a result, the whole society prospers. However, when we discuss the issue of competition or cooperation, what we are concerned about is not the whole society, but the development of an individual's whole life. From this point of view, I firmly believe that  we should attach more importance to cooperation during primary education .\\nFirst of all, ...   \n",
       "1  More people are migrating to other countries than ever before\\n\\nThe last 50 years have seen an increasing number of immigrants to other countries. People moved due to a number of reasons, namely better educations or higher salary jobs. Some people thought that they should follow the local customs in order to integrate into their adopted countries’ cultures. However I strongly believe that  they are able to sustain their cultural identities and doing so help they keep their origin values .\\nFirstly,  maintaining one’s cultural identity is a key important rule to help individuals emerge in ...   \n",
       "2  International tourism is now more common than ever before\\n\\nThe last decade has seen an increasing number of tourists traveling to visit natural wonder sights, ancient heritages and different cultures around the world. While some people might think that this international tourism has negative effects on the destination countries, I would contend that  it has contributed to the economic development as well as preserved the culture and environment of the tourist destinations . \\nFirstly,  international tourism promotes many aspects of the destination country’s economy in order to serve vari...   \n",
       "3  International tourism is now more common than ever before\\n\\nThe last 50 years have seen a significant increase in the number of tourist traveling worldwide. While some might think  the tourism bring large profit for the destination countries , I would contend that  this industry has affected the cultural attributes and damaged the natural environment of the tourist destinations .\\nFirstly, it is an undeniable fact that  tourists from different cultures will probably cause changes to the cultural identity of the tourist destinations .  Take Thailand for example, in the Vietnam War, many Am...   \n",
       "4  Living and studying overseas\\n\\nIt is every student's desire to study at a good university and experience a new environment. While some students study and live overseas to achieve this, some prefer to study home because of the difficulties of living and studying overseas. In my opinion,  one who studies overseas will gain many skills throughout this experience  for several reasons.\\nFirst,  studying at an overseas university gives individuals the opportunity to improve social skills by interacting and communicating with students from different origins and cultures .  Compared to the peers ...   \n",
       "\n",
       "                                                                                                                                                                                                                                                                                                                                                                                              predictionString  \\\n",
       "0  [0, 1, 2, 3, 4, 5, 6, 7, 8, 9, 10, 11, 12, 13, 14, 15, 16, 17, 18, 19, 20, 21, 22, 23, 24, 25, 26, 27, 28, 29, 30, 31, 32, 33, 34, 35, 36, 37, 38, 39, 40, 41, 42, 43, 44, 45, 46, 47, 48, 49, 50, 51, 52, 53, 54, 55, 56, 57, 58, 59, 60, 61, 62, 63, 64, 65, 66, 67, 68, 69, 70, 71, 72, 73, 74, 75, 76, 77, 78, 79, 80, 81, 82, 83, 84, 85, 86, 87, 88, 89, 90, 91, 92, 93, 94, 95, 96, 97, 98, 99, ...]   \n",
       "1  [0, 1, 2, 3, 4, 5, 6, 7, 8, 9, 10, 11, 12, 13, 14, 15, 16, 17, 18, 19, 20, 21, 22, 23, 24, 25, 26, 27, 28, 29, 30, 31, 32, 33, 34, 35, 36, 37, 38, 39, 40, 41, 42, 43, 44, 45, 46, 47, 48, 49, 50, 51, 52, 53, 54, 55, 56, 57, 58, 59, 60, 61, 62, 63, 64, 65, 66, 67, 68, 69, 70, 71, 72, 73, 74, 75, 76, 77, 78, 79, 80, 81, 82, 83, 84, 85, 86, 87, 88, 89, 90, 91, 92, 93, 94, 95, 96, 97, 98, 99, ...]   \n",
       "2  [0, 1, 2, 3, 4, 5, 6, 7, 8, 9, 10, 11, 12, 13, 14, 15, 16, 17, 18, 19, 20, 21, 22, 23, 24, 25, 26, 27, 28, 29, 30, 31, 32, 33, 34, 35, 36, 37, 38, 39, 40, 41, 42, 43, 44, 45, 46, 47, 48, 49, 50, 51, 52, 53, 54, 55, 56, 57, 58, 59, 60, 61, 62, 63, 64, 65, 66, 67, 68, 69, 70, 71, 72, 73, 74, 75, 76, 77, 78, 79, 80, 81, 82, 83, 84, 85, 86, 87, 88, 89, 90, 91, 92, 93, 94, 95, 96, 97, 98, 99, ...]   \n",
       "3  [0, 1, 2, 3, 4, 5, 6, 7, 8, 9, 10, 11, 12, 13, 14, 15, 16, 17, 18, 19, 20, 21, 22, 23, 24, 25, 26, 27, 28, 29, 30, 31, 32, 33, 34, 35, 36, 37, 38, 39, 40, 41, 42, 43, 44, 45, 46, 47, 48, 49, 50, 51, 52, 53, 54, 55, 56, 57, 58, 59, 60, 61, 62, 63, 64, 65, 66, 67, 68, 69, 70, 71, 72, 73, 74, 75, 76, 77, 78, 79, 80, 81, 82, 83, 84, 85, 86, 87, 88, 89, 90, 91, 92, 93, 94, 95, 96, 97, 98, 99, ...]   \n",
       "4  [0, 1, 2, 3, 4, 5, 6, 7, 8, 9, 10, 11, 12, 13, 14, 15, 16, 17, 18, 19, 20, 21, 22, 23, 24, 25, 26, 27, 28, 29, 30, 31, 32, 33, 34, 35, 36, 37, 38, 39, 40, 41, 42, 43, 44, 45, 46, 47, 48, 49, 50, 51, 52, 53, 54, 55, 56, 57, 58, 59, 60, 61, 62, 63, 64, 65, 66, 67, 68, 69, 70, 71, 72, 73, 74, 75, 76, 77, 78, 79, 80, 81, 82, 83, 84, 85, 86, 87, 88, 89, 90, 91, 92, 93, 94, 95, 96, 97, 98, 99, ...]   \n",
       "\n",
       "                                                                                                                                                                                                                                                                                                                                                                                                                                                                                                                                                                                                                    labels  \\\n",
       "0                                                                                                                                                                  [O, O, O, O, O, O, O, O, O, O, O, O, O, O, O, O, O, O, O, O, O, O, O, O, O, O, O, O, O, O, O, O, O, O, O, O, O, O, O, O, O, O, O, O, O, O, O, O, O, O, O, O, O, O, O, O, O, O, O, O, O, O, O, O, O, O, O, O, O, O, O, O, O, O, O, O, O, O, O, O, O, O, B-MajorClaim, I-MajorClaim, I-MajorClaim, I-MajorClaim, I-MajorClaim, I-MajorClaim, I-MajorClaim, I-MajorClaim, I-MajorClaim, I-MajorClaim, O, O, O, O, B-Claim, I-Claim, I-Claim, I-Claim, ...]   \n",
       "1  [O, O, O, O, O, O, O, O, O, O, O, O, O, O, O, O, O, O, O, O, O, O, O, O, O, O, O, O, O, O, O, O, O, O, O, O, O, O, O, O, O, O, O, O, O, O, O, O, O, O, O, O, O, O, O, O, O, O, O, O, O, O, O, B-MajorClaim, I-MajorClaim, I-MajorClaim, I-MajorClaim, I-MajorClaim, I-MajorClaim, I-MajorClaim, I-MajorClaim, I-MajorClaim, I-MajorClaim, I-MajorClaim, I-MajorClaim, I-MajorClaim, I-MajorClaim, I-MajorClaim, I-MajorClaim, I-MajorClaim, O, O, B-Premise, I-Premise, I-Premise, I-Premise, I-Premise, I-Premise, I-Premise, I-Premise, I-Premise, I-Premise, I-Premise, I-Premise, I-Premise, I-Premise, I-Premis...   \n",
       "2  [O, O, O, O, O, O, O, O, O, O, O, O, O, O, O, O, O, O, O, O, O, O, O, O, O, O, O, O, O, O, O, O, O, O, O, O, O, O, O, O, O, O, O, O, O, O, O, O, O, O, O, O, O, B-MajorClaim, I-MajorClaim, I-MajorClaim, I-MajorClaim, I-MajorClaim, I-MajorClaim, I-MajorClaim, I-MajorClaim, I-MajorClaim, I-MajorClaim, I-MajorClaim, I-MajorClaim, I-MajorClaim, I-MajorClaim, I-MajorClaim, I-MajorClaim, I-MajorClaim, I-MajorClaim, I-MajorClaim, O, O, B-Premise, I-Premise, I-Premise, I-Premise, I-Premise, I-Premise, I-Premise, I-Premise, I-Premise, I-Premise, I-Premise, I-Premise, I-Premise, I-Premise, I-Premise,...   \n",
       "3  [O, O, O, O, O, O, O, O, O, O, O, O, O, O, O, O, O, O, O, O, O, O, O, O, O, O, O, O, O, B-Claim, I-Claim, I-Claim, I-Claim, I-Claim, I-Claim, I-Claim, I-Claim, I-Claim, O, O, O, O, O, B-MajorClaim, I-MajorClaim, I-MajorClaim, I-MajorClaim, I-MajorClaim, I-MajorClaim, I-MajorClaim, I-MajorClaim, I-MajorClaim, I-MajorClaim, I-MajorClaim, I-MajorClaim, I-MajorClaim, I-MajorClaim, I-MajorClaim, I-MajorClaim, O, O, O, O, O, O, O, O, B-Premise, I-Premise, I-Premise, I-Premise, I-Premise, I-Premise, I-Premise, I-Premise, I-Premise, I-Premise, I-Premise, I-Premise, I-Premise, I-Premise, I-Premise,...   \n",
       "4  [O, O, O, O, O, O, O, O, O, O, O, O, O, O, O, O, O, O, O, O, O, O, O, O, O, O, O, O, O, O, O, O, O, O, O, O, O, O, O, O, O, O, O, O, O, O, O, B-MajorClaim, I-MajorClaim, I-MajorClaim, I-MajorClaim, I-MajorClaim, I-MajorClaim, I-MajorClaim, I-MajorClaim, I-MajorClaim, I-MajorClaim, I-MajorClaim, O, O, O, O, B-Claim, I-Claim, I-Claim, I-Claim, I-Claim, I-Claim, I-Claim, I-Claim, I-Claim, I-Claim, I-Claim, I-Claim, I-Claim, I-Claim, I-Claim, I-Claim, I-Claim, I-Claim, I-Claim, I-Claim, I-Claim, I-Claim, I-Claim, I-Claim, O, B-Premise, I-Premise, I-Premise, I-Premise, I-Premise, I-Premise, I-P...   \n",
       "\n",
       "                                                                                                                                                                                                                                                                                                           label_idx  \\\n",
       "0  [0, 0, 0, 0, 0, 0, 0, 0, 0, 0, 0, 0, 0, 0, 0, 0, 0, 0, 0, 0, 0, 0, 0, 0, 0, 0, 0, 0, 0, 0, 0, 0, 0, 0, 0, 0, 0, 0, 0, 0, 0, 0, 0, 0, 0, 0, 0, 0, 0, 0, 0, 0, 0, 0, 0, 0, 0, 0, 0, 0, 0, 0, 0, 0, 0, 0, 0, 0, 0, 0, 0, 0, 0, 0, 0, 0, 0, 0, 0, 0, 0, 0, 1, 2, 2, 2, 2, 2, 2, 2, 2, 2, 0, 0, 0, 0, 3, 4, 4, 4, ...]   \n",
       "1  [0, 0, 0, 0, 0, 0, 0, 0, 0, 0, 0, 0, 0, 0, 0, 0, 0, 0, 0, 0, 0, 0, 0, 0, 0, 0, 0, 0, 0, 0, 0, 0, 0, 0, 0, 0, 0, 0, 0, 0, 0, 0, 0, 0, 0, 0, 0, 0, 0, 0, 0, 0, 0, 0, 0, 0, 0, 0, 0, 0, 0, 0, 0, 1, 2, 2, 2, 2, 2, 2, 2, 2, 2, 2, 2, 2, 2, 2, 2, 2, 0, 0, 5, 6, 6, 6, 6, 6, 6, 6, 6, 6, 6, 6, 6, 6, 6, 6, 6, 6, ...]   \n",
       "2  [0, 0, 0, 0, 0, 0, 0, 0, 0, 0, 0, 0, 0, 0, 0, 0, 0, 0, 0, 0, 0, 0, 0, 0, 0, 0, 0, 0, 0, 0, 0, 0, 0, 0, 0, 0, 0, 0, 0, 0, 0, 0, 0, 0, 0, 0, 0, 0, 0, 0, 0, 0, 0, 1, 2, 2, 2, 2, 2, 2, 2, 2, 2, 2, 2, 2, 2, 2, 2, 2, 2, 2, 0, 0, 5, 6, 6, 6, 6, 6, 6, 6, 6, 6, 6, 6, 6, 6, 6, 6, 6, 6, 0, 5, 6, 6, 6, 6, 6, 6, ...]   \n",
       "3  [0, 0, 0, 0, 0, 0, 0, 0, 0, 0, 0, 0, 0, 0, 0, 0, 0, 0, 0, 0, 0, 0, 0, 0, 0, 0, 0, 0, 0, 3, 4, 4, 4, 4, 4, 4, 4, 4, 0, 0, 0, 0, 0, 1, 2, 2, 2, 2, 2, 2, 2, 2, 2, 2, 2, 2, 2, 2, 2, 0, 0, 0, 0, 0, 0, 0, 0, 5, 6, 6, 6, 6, 6, 6, 6, 6, 6, 6, 6, 6, 6, 6, 6, 0, 5, 6, 6, 6, 6, 6, 6, 6, 6, 6, 6, 6, 6, 6, 6, 6, ...]   \n",
       "4  [0, 0, 0, 0, 0, 0, 0, 0, 0, 0, 0, 0, 0, 0, 0, 0, 0, 0, 0, 0, 0, 0, 0, 0, 0, 0, 0, 0, 0, 0, 0, 0, 0, 0, 0, 0, 0, 0, 0, 0, 0, 0, 0, 0, 0, 0, 0, 1, 2, 2, 2, 2, 2, 2, 2, 2, 2, 2, 0, 0, 0, 0, 3, 4, 4, 4, 4, 4, 4, 4, 4, 4, 4, 4, 4, 4, 4, 4, 4, 4, 4, 4, 4, 4, 4, 4, 0, 5, 6, 6, 6, 6, 6, 6, 6, 6, 6, 6, 6, 6, ...]   \n",
       "\n",
       "                                                                                                                                                                                                                                                                                                                                                                                                                                                                                   word_idx  \n",
       "0                                                                                   [1, 2, 3, 4, 5, 6, 7, 5, 8, 9, 10, 11, 12, 13, 14, 15, 16, 17, 18, 19, 20, 21, 22, 23, 5, 24, 25, 18, 26, 27, 28, 5, 29, 30, 31, 32, 33, 32, 34, 35, 36, 18, 37, 38, 39, 40, 41, 42, 43, 18, 44, 20, 14, 7, 45, 46, 42, 47, 48, 49, 10, 50, 18, 37, 51, 52, 18, 19, 20, 53, 54, 37, 55, 56, 57, 58, 20, 59, 60, 61, 62, 13, 42, 63, 64, 65, 66, 5, 67, 68, 69, 70, 71, 72, 20, 73, 74, 45, 75, 15, ...]  \n",
       "1      [191, 119, 47, 192, 5, 109, 193, 194, 195, 196, 140, 197, 198, 199, 200, 201, 53, 202, 203, 20, 204, 5, 109, 205, 206, 207, 208, 5, 35, 203, 20, 209, 210, 211, 212, 7, 213, 214, 215, 216, 119, 217, 13, 218, 63, 219, 18, 220, 221, 25, 23, 5, 222, 223, 30, 224, 225, 226, 227, 60, 228, 62, 13, 218, 47, 229, 5, 230, 30, 231, 232, 32, 233, 234, 115, 218, 235, 30, 236, 237, 71, 238, 239, 240, 231, 241, 10, 35, 242, 243, 244, 5, 115, 245, 246, 25, 18, 247, 248, 249, ...]  \n",
       "2  [340, 341, 10, 342, 65, 343, 194, 195, 196, 140, 197, 344, 345, 201, 53, 202, 203, 20, 346, 347, 5, 348, 349, 350, 351, 352, 353, 32, 354, 271, 355, 18, 356, 357, 358, 119, 359, 105, 13, 57, 360, 341, 345, 361, 362, 117, 18, 321, 363, 60, 176, 364, 13, 131, 345, 365, 5, 18, 366, 19, 34, 118, 34, 367, 18, 339, 32, 368, 20, 18, 369, 370, 71, 238, 360, 341, 371, 338, 372, 20, 18, 321, 373, 374, 25, 23, 5, 375, 376, 377, 20, 346, 71, 145, 378, 122, 251, 35, 379, 203, ...]  \n",
       "3  [340, 341, 10, 342, 65, 343, 194, 195, 196, 140, 197, 198, 199, 200, 201, 35, 80, 442, 25, 18, 203, 20, 369, 347, 443, 357, 358, 359, 105, 18, 341, 444, 379, 422, 122, 18, 321, 193, 445, 60, 176, 364, 13, 57, 446, 345, 447, 18, 231, 448, 32, 449, 18, 349, 368, 20, 18, 369, 370, 71, 238, 131, 10, 53, 450, 451, 13, 346, 86, 354, 271, 120, 452, 453, 454, 5, 18, 231, 241, 20, 18, 369, 370, 71, 145, 455, 122, 251, 25, 18, 456, 457, 338, 458, 459, 460, 5, 455, 122, 35, ...]  \n",
       "4              [537, 32, 538, 539, 9, 10, 540, 541, 542, 5, 543, 544, 35, 545, 546, 32, 547, 35, 247, 548, 357, 358, 2, 543, 32, 549, 539, 5, 91, 550, 358, 551, 5, 543, 307, 552, 20, 18, 553, 20, 397, 32, 538, 554, 22, 555, 556, 557, 163, 558, 539, 120, 128, 338, 78, 559, 57, 547, 122, 560, 561, 562, 538, 544, 53, 539, 546, 563, 245, 18, 564, 5, 29, 294, 78, 418, 565, 32, 566, 94, 2, 86, 354, 567, 32, 271, 71, 568, 5, 18, 569, 538, 25, 18, 307, 570, 131, 120, 3, 65, ...]  "
      ]
     },
     "execution_count": 216,
     "metadata": {},
     "output_type": "execute_result"
    }
   ],
   "source": [
    "def convert_wId(str_list):\n",
    "    sentence = str_list.split()\n",
    "    wid = []\n",
    "    for word in sentence:\n",
    "        wid.append(word_to_ids[word])\n",
    "    return wid\n",
    "df['word_idx'] = df.text.apply(convert_wId)\n",
    "df.head()"
   ]
  },
  {
   "cell_type": "code",
   "execution_count": 219,
   "id": "62d72b1c",
   "metadata": {},
   "outputs": [],
   "source": [
    "sentences = list(df.word_idx)\n",
    "max_len = 512 #??\n",
    "X = [[word for word in sentence] for sentence in sentences]"
   ]
  },
  {
   "cell_type": "code",
   "execution_count": 221,
   "id": "fc528d9b",
   "metadata": {},
   "outputs": [],
   "source": [
    "new_X = []\n",
    "for seq in X:\n",
    "    new_seq = []\n",
    "    for i in range(max_len):\n",
    "        try:\n",
    "            new_seq.append(seq[i])\n",
    "        except:\n",
    "            new_seq.append(0)\n",
    "    new_X.append(new_seq)"
   ]
  },
  {
   "cell_type": "code",
   "execution_count": 222,
   "id": "d173c341",
   "metadata": {},
   "outputs": [],
   "source": [
    "labels = list(df.label_idx)\n",
    "y = pad_sequences(maxlen=max_len,sequences=labels,padding='post',value=0)"
   ]
  },
  {
   "cell_type": "code",
   "execution_count": 223,
   "id": "6e1fdf43",
   "metadata": {},
   "outputs": [],
   "source": [
    "X_tr,X_te,y_tr,y_te = train_test_split(new_X,y,test_size=0.1,random_state=2)"
   ]
  },
  {
   "cell_type": "code",
   "execution_count": 224,
   "id": "83660b8d",
   "metadata": {},
   "outputs": [],
   "source": [
    "def generate_batch(x,y,batch_size=4):\n",
    "    length = len(x)\n",
    "    words = []\n",
    "    labels= []\n",
    "    \n",
    "    for i in range(length):\n",
    "        words.append(x[i])\n",
    "        labels.append(y[i])\n",
    "        \n",
    "        if len(words)==batch_size:\n",
    "            yield words,labels\n",
    "            words = []\n",
    "            labels = []\n",
    "    "
   ]
  },
  {
   "cell_type": "code",
   "execution_count": 242,
   "id": "d5535847",
   "metadata": {},
   "outputs": [],
   "source": [
    "class LSTM_NER(nn.Module):\n",
    "    def __init__(self,embedding_dim,hidden_dim,vocab_size,target_size):\n",
    "        super(LSTM_NER,self).__init__()\n",
    "        self.hidden_dim = hidden_dim\n",
    "        self.word_embedding = nn.Embedding(vocab_size,embedding_dim)\n",
    "        self.lstm = nn.LSTM(embedding_dim,hidden_dim,batch_first=True)\n",
    "        self.hidden2tag = nn.Linear(hidden_dim,target_size)\n",
    "    def forward(self,sentence):\n",
    "        \n",
    "        embeds = self.word_embedding(sentence) #??\n",
    "        lstm_out,_ = self.lstm(embeds)\n",
    "        score = F.softmax(self.hidden2tag(lstm_out),dim=-1)\n",
    "        return score\n",
    "    "
   ]
  },
  {
   "cell_type": "code",
   "execution_count": 243,
   "id": "bedd61ac",
   "metadata": {},
   "outputs": [],
   "source": [
    "EMBEDDING_DIM = 300 #??\n",
    "HIDDEN_DIM = 64\n",
    "model = LSTM_NER(EMBEDDING_DIM,HIDDEN_DIM,len(word_to_ids.keys()),len(labels_to_ids.keys()))\n",
    "loss_function = nn.CrossEntropyLoss(ignore_index=-1,reduction='mean')\n",
    "optimizer = optim.SGD(model.parameters(),lr=0.1)"
   ]
  },
  {
   "cell_type": "code",
   "execution_count": 278,
   "id": "4cc24ff7",
   "metadata": {},
   "outputs": [
    {
     "name": "stdout",
     "output_type": "stream",
     "text": [
      "Epoch 0\n"
     ]
    },
    {
     "name": "stderr",
     "output_type": "stream",
     "text": [
      "<ipython-input-278-580fe5168114>:15: UserWarning: Creating a tensor from a list of numpy.ndarrays is extremely slow. Please consider converting the list to a single numpy.ndarray with numpy.array() before converting to a tensor. (Triggered internally at  ../torch/csrc/utils/tensor_new.cpp:201.)\n",
      "  label = torch.tensor(labels,dtype=torch.long)\n"
     ]
    },
    {
     "name": "stdout",
     "output_type": "stream",
     "text": [
      "Epoch 1\n",
      "Epoch 2\n"
     ]
    }
   ],
   "source": [
    "#Training\n",
    "acc_list = []\n",
    "loss_list = []\n",
    "epochs = 3\n",
    "running_loss = 0\n",
    "\n",
    "for epoch in range(epochs):\n",
    "    print(f\"Epoch {epoch}\")\n",
    "    acc = 0\n",
    "    loss = 0\n",
    "    i = 0\n",
    "    for idx,(sentences,labels) in enumerate(generate_batch(X_tr,y_tr)):\n",
    "        optimizer.zero_grad()\n",
    "        sentence = torch.tensor(sentences,dtype=torch.long)\n",
    "        label = torch.tensor(labels,dtype=torch.long)\n",
    "        tag_scores = model(sentence)\n",
    "        loss = loss_function(tag_scores.view(-1,7),label.view(-1))\n",
    "        loss.backward()\n",
    "        optimizer.step()\n",
    "        \n",
    "        argmaxed = torch.argmax(tag_scores,dim=-1)\n",
    "        mask = label>-1\n",
    "        relevant = argmaxed[mask]\n",
    "        acc = ((relevant==label[mask]).sum()/relevant.shape[0]).item()\n",
    "        loss = loss.item()\n",
    "        acc_list.append(acc)\n",
    "        loss_list.append(loss)\n",
    "        running_loss = 0.99*running_loss+0.01*loss\n",
    "        "
   ]
  },
  {
   "cell_type": "code",
   "execution_count": null,
   "id": "34089147",
   "metadata": {},
   "outputs": [],
   "source": []
  }
 ],
 "metadata": {
  "kernelspec": {
   "display_name": "Python 3",
   "language": "python",
   "name": "python3"
  },
  "language_info": {
   "codemirror_mode": {
    "name": "ipython",
    "version": 3
   },
   "file_extension": ".py",
   "mimetype": "text/x-python",
   "name": "python",
   "nbconvert_exporter": "python",
   "pygments_lexer": "ipython3",
   "version": "3.8.8"
  }
 },
 "nbformat": 4,
 "nbformat_minor": 5
}
