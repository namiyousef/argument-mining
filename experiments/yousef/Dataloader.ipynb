{
 "cells": [
  {
   "cell_type": "markdown",
   "id": "16a27453",
   "metadata": {},
   "source": [
    "# Dataloader"
   ]
  },
  {
   "cell_type": "markdown",
   "id": "fb1a001a",
   "metadata": {},
   "source": [
    "### Imports"
   ]
  },
  {
   "cell_type": "code",
   "execution_count": 22,
   "id": "302f6244",
   "metadata": {},
   "outputs": [],
   "source": [
    "# -- public imports\n",
    "\n",
    "import os\n",
    "import pandas as pd"
   ]
  },
  {
   "cell_type": "code",
   "execution_count": 23,
   "id": "7652c457",
   "metadata": {},
   "outputs": [],
   "source": [
    "# -- private import"
   ]
  },
  {
   "cell_type": "code",
   "execution_count": 42,
   "id": "2f39f2f3",
   "metadata": {},
   "outputs": [
    {
     "name": "stdout",
     "output_type": "stream",
     "text": [
      "The autoreload extension is already loaded. To reload it, use:\n",
      "  %reload_ext autoreload\n"
     ]
    }
   ],
   "source": [
    "# -- dev imports\n",
    "\n",
    "from python_files.data import ArgumentMiningDataset\n",
    "%load_ext autoreload\n",
    "%autoreload 2"
   ]
  },
  {
   "cell_type": "markdown",
   "id": "41778bc3",
   "metadata": {},
   "source": [
    "### Load the data"
   ]
  },
  {
   "cell_type": "code",
   "execution_count": 31,
   "id": "1cd366a7",
   "metadata": {},
   "outputs": [
    {
     "data": {
      "text/html": [
       "<div>\n",
       "<style scoped>\n",
       "    .dataframe tbody tr th:only-of-type {\n",
       "        vertical-align: middle;\n",
       "    }\n",
       "\n",
       "    .dataframe tbody tr th {\n",
       "        vertical-align: top;\n",
       "    }\n",
       "\n",
       "    .dataframe thead th {\n",
       "        text-align: right;\n",
       "    }\n",
       "</style>\n",
       "<table border=\"1\" class=\"dataframe\">\n",
       "  <thead>\n",
       "    <tr style=\"text-align: right;\">\n",
       "      <th></th>\n",
       "      <th>label_type</th>\n",
       "      <th>label</th>\n",
       "      <th>text</th>\n",
       "      <th>span_start</th>\n",
       "      <th>span_end</th>\n",
       "      <th>doc_id</th>\n",
       "      <th>predictionString</th>\n",
       "      <th>label_bio</th>\n",
       "      <th>label_bieo</th>\n",
       "    </tr>\n",
       "  </thead>\n",
       "  <tbody>\n",
       "    <tr>\n",
       "      <th>0</th>\n",
       "      <td>O</td>\n",
       "      <td>Other</td>\n",
       "      <td>Should students be taught to compete or to coo...</td>\n",
       "      <td>0</td>\n",
       "      <td>503</td>\n",
       "      <td>essay001</td>\n",
       "      <td>[1, 2, 3, 4, 5, 6, 7, 8, 9, 10, 11, 12, 13, 14...</td>\n",
       "      <td>[O, O, O, O, O, O, O, O, O, O, O, O, O, O, O, ...</td>\n",
       "      <td>[O, O, O, O, O, O, O, O, O, O, O, O, O, O, O, ...</td>\n",
       "    </tr>\n",
       "    <tr>\n",
       "      <th>1</th>\n",
       "      <td>T1</td>\n",
       "      <td>MajorClaim</td>\n",
       "      <td>we should attach more importance to cooperatio...</td>\n",
       "      <td>503</td>\n",
       "      <td>575</td>\n",
       "      <td>essay001</td>\n",
       "      <td>[83, 84, 85, 86, 87, 88, 89, 90, 91, 92]</td>\n",
       "      <td>[B-MajorClaim, I-MajorClaim, I-MajorClaim, I-M...</td>\n",
       "      <td>[B-MajorClaim, I-MajorClaim, I-MajorClaim, I-M...</td>\n",
       "    </tr>\n",
       "    <tr>\n",
       "      <th>2</th>\n",
       "      <td>O</td>\n",
       "      <td>Other</td>\n",
       "      <td>.\\nFirst of all,</td>\n",
       "      <td>575</td>\n",
       "      <td>591</td>\n",
       "      <td>essay001</td>\n",
       "      <td>[93, 94, 95, 96]</td>\n",
       "      <td>[O, O, O, O]</td>\n",
       "      <td>[O, O, O, O]</td>\n",
       "    </tr>\n",
       "    <tr>\n",
       "      <th>3</th>\n",
       "      <td>T3</td>\n",
       "      <td>Claim</td>\n",
       "      <td>through cooperation, children can learn about ...</td>\n",
       "      <td>591</td>\n",
       "      <td>714</td>\n",
       "      <td>essay001</td>\n",
       "      <td>[97, 98, 99, 100, 101, 102, 103, 104, 105, 106...</td>\n",
       "      <td>[B-Claim, I-Claim, I-Claim, I-Claim, I-Claim, ...</td>\n",
       "      <td>[B-Claim, I-Claim, I-Claim, I-Claim, I-Claim, ...</td>\n",
       "    </tr>\n",
       "    <tr>\n",
       "      <th>4</th>\n",
       "      <td>O</td>\n",
       "      <td>Other</td>\n",
       "      <td>.</td>\n",
       "      <td>714</td>\n",
       "      <td>716</td>\n",
       "      <td>essay001</td>\n",
       "      <td>[115]</td>\n",
       "      <td>[O]</td>\n",
       "      <td>[O]</td>\n",
       "    </tr>\n",
       "  </tbody>\n",
       "</table>\n",
       "</div>"
      ],
      "text/plain": [
       "  label_type       label                                               text  \\\n",
       "0          O       Other  Should students be taught to compete or to coo...   \n",
       "1         T1  MajorClaim  we should attach more importance to cooperatio...   \n",
       "2          O       Other                                  .\\nFirst of all,    \n",
       "3         T3       Claim  through cooperation, children can learn about ...   \n",
       "4          O       Other                                                 .    \n",
       "\n",
       "   span_start  span_end    doc_id  \\\n",
       "0           0       503  essay001   \n",
       "1         503       575  essay001   \n",
       "2         575       591  essay001   \n",
       "3         591       714  essay001   \n",
       "4         714       716  essay001   \n",
       "\n",
       "                                    predictionString  \\\n",
       "0  [1, 2, 3, 4, 5, 6, 7, 8, 9, 10, 11, 12, 13, 14...   \n",
       "1           [83, 84, 85, 86, 87, 88, 89, 90, 91, 92]   \n",
       "2                                   [93, 94, 95, 96]   \n",
       "3  [97, 98, 99, 100, 101, 102, 103, 104, 105, 106...   \n",
       "4                                              [115]   \n",
       "\n",
       "                                           label_bio  \\\n",
       "0  [O, O, O, O, O, O, O, O, O, O, O, O, O, O, O, ...   \n",
       "1  [B-MajorClaim, I-MajorClaim, I-MajorClaim, I-M...   \n",
       "2                                       [O, O, O, O]   \n",
       "3  [B-Claim, I-Claim, I-Claim, I-Claim, I-Claim, ...   \n",
       "4                                                [O]   \n",
       "\n",
       "                                          label_bieo  \n",
       "0  [O, O, O, O, O, O, O, O, O, O, O, O, O, O, O, ...  \n",
       "1  [B-MajorClaim, I-MajorClaim, I-MajorClaim, I-M...  \n",
       "2                                       [O, O, O, O]  \n",
       "3  [B-Claim, I-Claim, I-Claim, I-Claim, I-Claim, ...  \n",
       "4                                                [O]  "
      ]
     },
     "execution_count": 31,
     "metadata": {},
     "output_type": "execute_result"
    }
   ],
   "source": [
    "base_path = '../../data/UCL/dataset2'\n",
    "dataset_path = os.path.join(base_path, 'df_labels_general.json')\n",
    "\n",
    "label_map_path = os.path.join(base_path, 'df_label_map_bio.json')\n",
    "df_label_map_bio = pd.read_json(label_map_path)\n",
    "\n",
    "label_map_path = os.path.join(base_path, 'df_label_map_bieo.json')\n",
    "df_label_map_bieo = pd.read_json(label_map_path)\n",
    "\n",
    "label_map_path = os.path.join(base_path, 'df_label_map_bixo.json')\n",
    "df_label_map_bixo = pd.read_json(label_map_path)\n",
    "\n",
    "df = pd.read_json(dataset_path)\n",
    "df.head()"
   ]
  },
  {
   "cell_type": "markdown",
   "id": "1a57c3e7",
   "metadata": {},
   "source": [
    "### Develop Dataset"
   ]
  },
  {
   "cell_type": "code",
   "execution_count": 32,
   "id": "79d65ddd",
   "metadata": {},
   "outputs": [
    {
     "data": {
      "text/html": [
       "<div>\n",
       "<style scoped>\n",
       "    .dataframe tbody tr th:only-of-type {\n",
       "        vertical-align: middle;\n",
       "    }\n",
       "\n",
       "    .dataframe tbody tr th {\n",
       "        vertical-align: top;\n",
       "    }\n",
       "\n",
       "    .dataframe thead th {\n",
       "        text-align: right;\n",
       "    }\n",
       "</style>\n",
       "<table border=\"1\" class=\"dataframe\">\n",
       "  <thead>\n",
       "    <tr style=\"text-align: right;\">\n",
       "      <th></th>\n",
       "      <th>text</th>\n",
       "      <th>labels</th>\n",
       "    </tr>\n",
       "  </thead>\n",
       "  <tbody>\n",
       "    <tr>\n",
       "      <th>0</th>\n",
       "      <td>Should students be taught to compete or to coo...</td>\n",
       "      <td>[O, O, O, O, O, O, O, O, O, O, O, O, O, O, O, ...</td>\n",
       "    </tr>\n",
       "    <tr>\n",
       "      <th>1</th>\n",
       "      <td>we should attach more importance to cooperatio...</td>\n",
       "      <td>[B-MajorClaim, I-MajorClaim, I-MajorClaim, I-M...</td>\n",
       "    </tr>\n",
       "    <tr>\n",
       "      <th>2</th>\n",
       "      <td>.\\nFirst of all,</td>\n",
       "      <td>[O, O, O, O]</td>\n",
       "    </tr>\n",
       "    <tr>\n",
       "      <th>3</th>\n",
       "      <td>through cooperation, children can learn about ...</td>\n",
       "      <td>[B-Claim, I-Claim, I-Claim, I-Claim, I-Claim, ...</td>\n",
       "    </tr>\n",
       "    <tr>\n",
       "      <th>4</th>\n",
       "      <td>.</td>\n",
       "      <td>[O]</td>\n",
       "    </tr>\n",
       "    <tr>\n",
       "      <th>...</th>\n",
       "      <td>...</td>\n",
       "      <td>...</td>\n",
       "    </tr>\n",
       "    <tr>\n",
       "      <th>12575</th>\n",
       "      <td>. Secondly,</td>\n",
       "      <td>[O, O]</td>\n",
       "    </tr>\n",
       "    <tr>\n",
       "      <th>12576</th>\n",
       "      <td>playing sport makes children getting healthy a...</td>\n",
       "      <td>[B-Premise, I-Premise, I-Premise, I-Premise, I...</td>\n",
       "    </tr>\n",
       "    <tr>\n",
       "      <th>12577</th>\n",
       "      <td>. \\nIn conclusion,</td>\n",
       "      <td>[O, O, O]</td>\n",
       "    </tr>\n",
       "    <tr>\n",
       "      <th>12578</th>\n",
       "      <td>both studying hard at school and playing sport...</td>\n",
       "      <td>[B-MajorClaim, I-MajorClaim, I-MajorClaim, I-M...</td>\n",
       "    </tr>\n",
       "    <tr>\n",
       "      <th>12579</th>\n",
       "      <td>.</td>\n",
       "      <td>[O]</td>\n",
       "    </tr>\n",
       "  </tbody>\n",
       "</table>\n",
       "<p>12580 rows × 2 columns</p>\n",
       "</div>"
      ],
      "text/plain": [
       "                                                    text  \\\n",
       "0      Should students be taught to compete or to coo...   \n",
       "1      we should attach more importance to cooperatio...   \n",
       "2                                      .\\nFirst of all,    \n",
       "3      through cooperation, children can learn about ...   \n",
       "4                                                     .    \n",
       "...                                                  ...   \n",
       "12575                                       . Secondly,    \n",
       "12576  playing sport makes children getting healthy a...   \n",
       "12577                                . \\nIn conclusion,    \n",
       "12578  both studying hard at school and playing sport...   \n",
       "12579                                                  .   \n",
       "\n",
       "                                                  labels  \n",
       "0      [O, O, O, O, O, O, O, O, O, O, O, O, O, O, O, ...  \n",
       "1      [B-MajorClaim, I-MajorClaim, I-MajorClaim, I-M...  \n",
       "2                                           [O, O, O, O]  \n",
       "3      [B-Claim, I-Claim, I-Claim, I-Claim, I-Claim, ...  \n",
       "4                                                    [O]  \n",
       "...                                                  ...  \n",
       "12575                                             [O, O]  \n",
       "12576  [B-Premise, I-Premise, I-Premise, I-Premise, I...  \n",
       "12577                                          [O, O, O]  \n",
       "12578  [B-MajorClaim, I-MajorClaim, I-MajorClaim, I-M...  \n",
       "12579                                                [O]  \n",
       "\n",
       "[12580 rows x 2 columns]"
      ]
     },
     "execution_count": 32,
     "metadata": {},
     "output_type": "execute_result"
    }
   ],
   "source": [
    "df_text = df[['text', 'label_bio']].rename(columns={'label_bio':'labels'})\n",
    "df_text"
   ]
  },
  {
   "cell_type": "code",
   "execution_count": 45,
   "id": "2a27c39f",
   "metadata": {},
   "outputs": [
    {
     "data": {
      "text/html": [
       "<div>\n",
       "<style scoped>\n",
       "    .dataframe tbody tr th:only-of-type {\n",
       "        vertical-align: middle;\n",
       "    }\n",
       "\n",
       "    .dataframe tbody tr th {\n",
       "        vertical-align: top;\n",
       "    }\n",
       "\n",
       "    .dataframe thead th {\n",
       "        text-align: right;\n",
       "    }\n",
       "</style>\n",
       "<table border=\"1\" class=\"dataframe\">\n",
       "  <thead>\n",
       "    <tr style=\"text-align: right;\">\n",
       "      <th></th>\n",
       "      <th>label_id</th>\n",
       "      <th>label</th>\n",
       "    </tr>\n",
       "  </thead>\n",
       "  <tbody>\n",
       "    <tr>\n",
       "      <th>0</th>\n",
       "      <td>0</td>\n",
       "      <td>O</td>\n",
       "    </tr>\n",
       "    <tr>\n",
       "      <th>1</th>\n",
       "      <td>1</td>\n",
       "      <td>B-MajorClaim</td>\n",
       "    </tr>\n",
       "    <tr>\n",
       "      <th>2</th>\n",
       "      <td>2</td>\n",
       "      <td>I-MajorClaim</td>\n",
       "    </tr>\n",
       "    <tr>\n",
       "      <th>3</th>\n",
       "      <td>3</td>\n",
       "      <td>B-Claim</td>\n",
       "    </tr>\n",
       "    <tr>\n",
       "      <th>4</th>\n",
       "      <td>4</td>\n",
       "      <td>I-Claim</td>\n",
       "    </tr>\n",
       "    <tr>\n",
       "      <th>5</th>\n",
       "      <td>5</td>\n",
       "      <td>B-Premise</td>\n",
       "    </tr>\n",
       "    <tr>\n",
       "      <th>6</th>\n",
       "      <td>6</td>\n",
       "      <td>I-Premise</td>\n",
       "    </tr>\n",
       "  </tbody>\n",
       "</table>\n",
       "</div>"
      ],
      "text/plain": [
       "   label_id         label\n",
       "0         0             O\n",
       "1         1  B-MajorClaim\n",
       "2         2  I-MajorClaim\n",
       "3         3       B-Claim\n",
       "4         4       I-Claim\n",
       "5         5     B-Premise\n",
       "6         6     I-Premise"
      ]
     },
     "execution_count": 45,
     "metadata": {},
     "output_type": "execute_result"
    }
   ],
   "source": [
    "df_label_map_bio"
   ]
  },
  {
   "cell_type": "code",
   "execution_count": 55,
   "id": "4f757015",
   "metadata": {},
   "outputs": [
    {
     "name": "stdout",
     "output_type": "stream",
     "text": [
      "[list([0, 0, 0, 0, 0, 0, 0, 0, 0, 0, 0, 0, 0, 0, 0, 0, 0, 0, 0, 0, 0, 0, 0, 0, 0, 0, 0, 0, 0, 0, 0, 0, 0, 0, 0, 0, 0, 0, 0, 0, 0, 0, 0, 0, 0, 0, 0, 0, 0, 0, 0, 0, 0, 0, 0, 0, 0, 0, 0, 0, 0, 0, 0, 0, 0, 0, 0, 0, 0, 0, 0, 0, 0, 0, 0, 0, 0, 0, 0, 0, 0, 0])\n",
      " list([1, 2, 2, 2, 2, 2, 2, 2, 2, 2]) list([0, 0, 0, 0]) ...\n",
      " list([0, 0, 0]) list([1, 2, 2, 2, 2, 2, 2, 2, 2, 2, 2, 2]) list([0])]\n"
     ]
    }
   ],
   "source": [
    "dataset = ArgumentMiningDataset(df_label_map_bio, df_text, strategy='bio', tokenizer=0, max_length=0)"
   ]
  },
  {
   "cell_type": "code",
   "execution_count": 51,
   "id": "05c979e7",
   "metadata": {},
   "outputs": [
    {
     "name": "stdout",
     "output_type": "stream",
     "text": [
      "0               O\n",
      "1    B-MajorClaim\n",
      "2    I-MajorClaim\n",
      "3         B-Claim\n",
      "4         I-Claim\n",
      "5       B-Premise\n",
      "6       I-Premise\n",
      "Name: label, dtype: object\n"
     ]
    }
   ],
   "source": [
    "print(df_label_map_bio.label)"
   ]
  },
  {
   "cell_type": "code",
   "execution_count": 61,
   "id": "6fd34c1b",
   "metadata": {},
   "outputs": [
    {
     "data": {
      "text/plain": [
       "a    1\n",
       "Name: 0, dtype: int64"
      ]
     },
     "execution_count": 61,
     "metadata": {},
     "output_type": "execute_result"
    }
   ],
   "source": [
    "pd.DataFrame(data={'a':[1,2,3]}).loc[0]"
   ]
  },
  {
   "cell_type": "code",
   "execution_count": 64,
   "id": "703c025a",
   "metadata": {},
   "outputs": [
    {
     "data": {
      "text/plain": [
       "tensor([ 0,  4,  5,  9, 10])"
      ]
     },
     "execution_count": 64,
     "metadata": {},
     "output_type": "execute_result"
    }
   ],
   "source": [
    "import torch\n",
    "x = torch.tensor([0,0,0,0,1,2,2,2,2,3,4,4,4,])\n",
    "unique, inverse = torch.unique(x, sorted=True, return_inverse=True)\n",
    "perm = torch.arange(inverse.size(0), dtype=inverse.dtype, device=inverse.device)\n",
    "inverse, perm = inverse.flip([0]), perm.flip([0])\n",
    "perm = inverse.new_empty(unique.size(0)).scatter_(0, inverse, perm)\n",
    "perm"
   ]
  },
  {
   "cell_type": "code",
   "execution_count": 163,
   "id": "0bba4335",
   "metadata": {},
   "outputs": [],
   "source": [
    "words = 'Another sentence. NLP is the coolest Learning. According to research. I like NLP'\n",
    "targets = [0, 0, 1, 2, 2, 2, 2, 3, 4, 4, 0, 0, 0]\n",
    "actual_targets = [0, 0, 0, 0, 1, 2, 2, 2, -1, 2, -1, 3, -1, 4, 4, -1, 0, 0, 0]\n",
    "targets = torch.as_tensor(targets, dtype=torch.long)\n",
    "word_ids = [0, 0, 1, 1, 2, 3, 4, 5, 5, 6, 6, 7, 7, 8, 9, 9, 10, 11, 12]\n",
    "word_id_mask = [True] * len(word_ids)\n",
    "\n",
    "targets_end = torch.tensor([\n",
    "    0, 0, 1, 2, 2, 2, 3, 4, 5, 6, 0, 0, 0\n",
    "])\n",
    "actual_targets_end =[0, 0, 0, 0, 1, 2, 2, 2, -1, -1, 3, 4, -1, 5, 6, -1, 0, 0, 0]"
   ]
  },
  {
   "cell_type": "code",
   "execution_count": 143,
   "id": "a2af8691",
   "metadata": {},
   "outputs": [],
   "source": [
    "def _first_appearance_of_unique_item(x):\n",
    "    unique, inverse = torch.unique(x, sorted=True, return_inverse=True)\n",
    "    perm = torch.arange(inverse.size(0), dtype=inverse.dtype, device=inverse.device)\n",
    "    inverse, perm = inverse.flip([0]), perm.flip([0])\n",
    "    perm = inverse.new_empty(unique.size(0)).scatter_(0, inverse, perm)\n",
    "    return perm"
   ]
  },
  {
   "cell_type": "code",
   "execution_count": 160,
   "id": "b818e6e0",
   "metadata": {},
   "outputs": [],
   "source": [
    "def _label_standard(targets, word_id_mask, word_ids):\n",
    "    max_length = len(word_ids)\n",
    "    \n",
    "    expanded_targets = torch.zeros(max_length, dtype=torch.long)\n",
    "    expanded_targets[word_id_mask] = targets[word_ids]\n",
    "    word_start_ids = _first_appearance_of_unique_item(torch.as_tensor(word_ids))\n",
    "    unique_word_ids, word_id_counts = torch.unique(torch.as_tensor(word_ids), return_counts=True)\n",
    "    \n",
    "    # here define the start and end labels\n",
    "    end = True\n",
    "    for i, (word_start_id, word_id, word_id_count) in enumerate(zip(word_start_ids, unique_word_ids, word_id_counts)):\n",
    "        curr_target = expanded_targets[word_start_id]\n",
    "        if curr_target: # step to filter the orhers\n",
    "            if word_id_count > 1:\n",
    "                ids = list(range(word_start_id, word_start_id+word_id_count))\n",
    "                \n",
    "                # TODO can make robust by adding string condition 'E-'\n",
    "                if end and curr_target % 3 == 0: # TODO condition needs to change to read end from the strateg \n",
    "                    ids = ids[:-1]\n",
    "                else:\n",
    "                    ids = ids[1:]\n",
    "                \n",
    "                expanded_targets[ids] = -1 # this label needs to be changed!\n",
    "            # need to have case bie\n",
    "            # need to have case bio\n",
    "            # need to have case bix\n",
    "    print(expanded_targets)"
   ]
  },
  {
   "cell_type": "code",
   "execution_count": 161,
   "id": "53cf5d53",
   "metadata": {},
   "outputs": [
    {
     "name": "stdout",
     "output_type": "stream",
     "text": [
      "tensor(3) tensor(4)\n",
      "tensor(6) tensor(0)\n",
      "tensor([ 0,  0,  0,  0,  1,  2,  2,  2, -1, -1,  3,  4, -1,  5, -1,  6,  0,  0,\n",
      "         0])\n"
     ]
    }
   ],
   "source": [
    "_label_standard(targets_end, word_id_mask, word_ids)"
   ]
  },
  {
   "cell_type": "code",
   "execution_count": 154,
   "id": "6442dc0c",
   "metadata": {},
   "outputs": [],
   "source": [
    "actual_targets_end =[0, 0, 0, 0, 1, 2, 2, 2, -1, -1, 3, 4, -1, 5, -1, 6, 0, 0, 0]\n"
   ]
  },
  {
   "cell_type": "code",
   "execution_count": 168,
   "id": "d2c646ab",
   "metadata": {},
   "outputs": [
    {
     "data": {
      "text/plain": [
       "tensor([1])"
      ]
     },
     "execution_count": 168,
     "metadata": {},
     "output_type": "execute_result"
    }
   ],
   "source": [
    "torch.tensor([1])"
   ]
  },
  {
   "cell_type": "code",
   "execution_count": null,
   "id": "c1af9cbd",
   "metadata": {},
   "outputs": [],
   "source": []
  }
 ],
 "metadata": {
  "kernelspec": {
   "display_name": "argument-mining",
   "language": "python",
   "name": "argument-mining"
  },
  "language_info": {
   "codemirror_mode": {
    "name": "ipython",
    "version": 3
   },
   "file_extension": ".py",
   "mimetype": "text/x-python",
   "name": "python",
   "nbconvert_exporter": "python",
   "pygments_lexer": "ipython3",
   "version": "3.8.12"
  }
 },
 "nbformat": 4,
 "nbformat_minor": 5
}
