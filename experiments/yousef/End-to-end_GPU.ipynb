{
  "cells": [
    {
      "cell_type": "markdown",
      "id": "1c2ec16d",
      "metadata": {
        "id": "1c2ec16d"
      },
      "source": [
        "# End-to-end\n",
        "\n",
        "This notebook should form the core skeleton of the 'run' function"
      ]
    },
    {
      "cell_type": "markdown",
      "source": [
        "## Colab Set up"
      ],
      "metadata": {
        "id": "XWQS_TUhKKej"
      },
      "id": "XWQS_TUhKKej"
    },
    {
      "cell_type": "code",
      "source": [
        "# -- env setup\n",
        "import os\n",
        "import gc\n",
        "\n",
        "!python3.7 -m pip install git+https://github.com/namiyousef/colab-utils.git\n",
        "from colabtools.utils import get_gpu_utilization, mount_drive, install_private_library\n",
        "\n",
        "drive_path = mount_drive()\n",
        "project_path = os.path.join(drive_path, 'argument-mining')\n",
        "development_dir = os.path.join(drive_path, 'argument-mining/argminer')\n",
        "\n",
        "install_private_library(os.path.join(project_path, 'data/github_config.json'), 'argument-mining')"
      ],
      "metadata": {
        "id": "X7OwoLnBKHQB",
        "outputId": "94c6bafc-2f9c-4fcc-adab-b3e2179d4fe0",
        "colab": {
          "base_uri": "https://localhost:8080/"
        }
      },
      "id": "X7OwoLnBKHQB",
      "execution_count": 1,
      "outputs": [
        {
          "output_type": "stream",
          "name": "stdout",
          "text": [
            "Collecting git+https://github.com/namiyousef/colab-utils.git\n",
            "  Cloning https://github.com/namiyousef/colab-utils.git to /tmp/pip-req-build-8yzr10gp\n",
            "  Running command git clone -q https://github.com/namiyousef/colab-utils.git /tmp/pip-req-build-8yzr10gp\n",
            "Requirement already satisfied: nvidia-ml-py3 in /usr/local/lib/python3.7/dist-packages (from colabtools==0.0.5) (7.352.0)\n",
            "Requirement already satisfied: torch in /usr/local/lib/python3.7/dist-packages (from colabtools==0.0.5) (1.10.0+cu111)\n",
            "Requirement already satisfied: typing-extensions in /usr/local/lib/python3.7/dist-packages (from torch->colabtools==0.0.5) (3.10.0.2)\n",
            "Building wheels for collected packages: colabtools\n",
            "  Building wheel for colabtools (setup.py) ... \u001b[?25l\u001b[?25hdone\n",
            "  Created wheel for colabtools: filename=colabtools-0.0.5-py3-none-any.whl size=3585 sha256=0f5eff45790806532dcbae2f6ec205035ff211552dcd2805e22ecf6cd4f0d162\n",
            "  Stored in directory: /tmp/pip-ephem-wheel-cache-eberl06s/wheels/1c/35/c0/364531e4ff0f0fe0f3296c80f1ee668b03ae6c6c378c5a44bf\n",
            "Successfully built colabtools\n",
            "Installing collected packages: colabtools\n",
            "Successfully installed colabtools-0.0.5\n",
            "Google Drive import successful.\n",
            "CUDA device detected. Using GPU...\n",
            "Mounted at /content/drive\n",
            "Google Drive mount successful.\n"
          ]
        }
      ]
    },
    {
      "cell_type": "markdown",
      "id": "c1302e4f",
      "metadata": {
        "id": "c1302e4f"
      },
      "source": [
        "### Imports"
      ]
    },
    {
      "cell_type": "code",
      "execution_count": 26,
      "id": "7d8ed729",
      "metadata": {
        "id": "7d8ed729",
        "outputId": "669c4c20-dcf5-4ba4-a559-a0ade6b751d9",
        "colab": {
          "base_uri": "https://localhost:8080/"
        }
      },
      "outputs": [
        {
          "output_type": "stream",
          "name": "stdout",
          "text": [
            "The autoreload extension is already loaded. To reload it, use:\n",
            "  %reload_ext autoreload\n"
          ]
        }
      ],
      "source": [
        "# -- public imports\n",
        "\n",
        "from transformers import AutoTokenizer, AutoModelForTokenClassification\n",
        "import pandas as pd\n",
        "from torch.utils.data import DataLoader\n",
        "import torch\n",
        "from pandas.testing import assert_frame_equal\n",
        "import time\n",
        "\n",
        "# -- private imports\n",
        "from colabtools.utils import move_to_device\n",
        "from colabtools.config import DEVICE\n",
        "\n",
        "# -- dev imports\n",
        "%load_ext autoreload\n",
        "%autoreload 2\n",
        "\n",
        "from argminer.data import ArgumentMiningDataset, TUDarmstadtProcessor\n",
        "from argminer.evaluation import inference\n",
        "from argminer.utils import encode_model_name\n"
      ]
    },
    {
      "cell_type": "code",
      "execution_count": 21,
      "id": "59272e27",
      "metadata": {
        "id": "59272e27"
      },
      "outputs": [],
      "source": [
        "# constants (these will be abstracted away by inputs that you give to run)\n",
        "model_name = 'google/bigbird-roberta-base'\n",
        "max_length = 1024\n",
        "epochs = 5\n",
        "batch_size = 2\n",
        "strategy = 'standard_bio'\n",
        "strat_name = strategy.split('_')[1]\n",
        "verbose = 2\n",
        "save_freq = 2\n"
      ]
    },
    {
      "cell_type": "markdown",
      "id": "f5b81b26",
      "metadata": {
        "id": "f5b81b26"
      },
      "source": [
        "### Tokenizer, Model and Optimizer"
      ]
    },
    {
      "cell_type": "code",
      "execution_count": 13,
      "id": "882197f3",
      "metadata": {
        "id": "882197f3",
        "outputId": "3058cd88-9557-4ac8-a4a1-0b195654f86d",
        "colab": {
          "base_uri": "https://localhost:8080/"
        }
      },
      "outputs": [
        {
          "output_type": "stream",
          "name": "stderr",
          "text": [
            "Some weights of the model checkpoint at google/bigbird-roberta-base were not used when initializing BigBirdForTokenClassification: ['cls.seq_relationship.weight', 'cls.predictions.bias', 'cls.predictions.transform.LayerNorm.weight', 'cls.predictions.decoder.bias', 'cls.predictions.decoder.weight', 'cls.predictions.transform.dense.bias', 'cls.predictions.transform.LayerNorm.bias', 'cls.seq_relationship.bias', 'cls.predictions.transform.dense.weight']\n",
            "- This IS expected if you are initializing BigBirdForTokenClassification from the checkpoint of a model trained on another task or with another architecture (e.g. initializing a BertForSequenceClassification model from a BertForPreTraining model).\n",
            "- This IS NOT expected if you are initializing BigBirdForTokenClassification from the checkpoint of a model that you expect to be exactly identical (initializing a BertForSequenceClassification model from a BertForSequenceClassification model).\n",
            "Some weights of BigBirdForTokenClassification were not initialized from the model checkpoint at google/bigbird-roberta-base and are newly initialized: ['classifier.bias', 'classifier.weight']\n",
            "You should probably TRAIN this model on a down-stream task to be able to use it for predictions and inference.\n"
          ]
        }
      ],
      "source": [
        "tokenizer = AutoTokenizer.from_pretrained(model_name, add_prefix_space=True)\n",
        "model = AutoModelForTokenClassification.from_pretrained(model_name, num_labels=15) \n",
        "# TODO force_download\n",
        "# TODO add option for optimizer\n",
        "optimizer = torch.optim.Adam(params=model.parameters())"
      ]
    },
    {
      "cell_type": "markdown",
      "id": "cb3e225a",
      "metadata": {
        "id": "cb3e225a"
      },
      "source": [
        "### Dataset \n",
        "Note this will change as the Processor develops. On the cluster you will need to use different options"
      ]
    },
    {
      "cell_type": "code",
      "execution_count": 23,
      "id": "ccc67877",
      "metadata": {
        "id": "ccc67877",
        "outputId": "b125da50-ba42-45af-a7f2-1b0a43139ad1",
        "colab": {
          "base_uri": "https://localhost:8080/"
        }
      },
      "outputs": [
        {
          "output_type": "stream",
          "name": "stdout",
          "text": [
            "Found non-matching segments:--------------------------------------------------\n",
            "\n",
            "murdering criminals is therefore immoral and hard to accept\n",
            "\n",
            "\"murdering\" criminals is therefore immoral and hard to accept\n",
            "\n",
            "Found non-matching segments:--------------------------------------------------\n",
            "\n",
            "Click is a very interesting comedy, with a serious approach about the importance of having a balanced life between family and work businesses\n",
            "\n",
            "\"Click\" is a very interesting comedy, with a serious approach about the importance of having a balanced life between family and work businesses\n",
            "\n",
            "Found non-matching segments:--------------------------------------------------\n",
            "\n",
            "Blood diamond, an adaptation of a real story in South Africa, focuses on the link between diamonds and conflict\n",
            "\n",
            "\"Blood diamond\", an adaptation of a real story in South Africa, focuses on the link between diamonds and conflict\n",
            "\n",
            "Found non-matching segments:--------------------------------------------------\n",
            "\n",
            "rush hours are usually not the direct consequence of drivers\n",
            "\n",
            "\"rush hours\" are usually not the direct consequence of drivers\n",
            "\n"
          ]
        }
      ],
      "source": [
        "processor = TUDarmstadtProcessor(os.path.join(project_path, 'data/UCL/dataset2/ArgumentAnnotatedEssays-2.0/brat-project-final'))\n",
        "processor = processor.preprocess().process(strat_name).postprocess()\n",
        "df_total = processor.dataframe\n",
        "df_train = df_total[['text', 'labels']].head(10) \n",
        "df_test = df_total[['text', 'labels']].tail(201)\n",
        "\n",
        "\n",
        "#assert_frame_equal(df_total[['text', 'labels']], pd.concat([df_train, df_test]))\n",
        "\n",
        "# todo this changes NOTE FIXED BT STRATEGY!!\n",
        "df_label_map = pd.DataFrame({\n",
        "    'label_id':[0,1,2,3,4,5,6],\n",
        "    'label':['O', 'B-MajorClaim', 'I-MajorClaim', 'B-Claim', 'I-Claim', 'B-Premise', 'I-Premise']\n",
        "})\n",
        "\n",
        "assert set(df_train.labels.values[0]) == set(df_label_map.label)"
      ]
    },
    {
      "cell_type": "code",
      "execution_count": 24,
      "id": "ccf36a48",
      "metadata": {
        "id": "ccf36a48"
      },
      "outputs": [],
      "source": [
        "train_set = ArgumentMiningDataset(df_label_map, df_train, tokenizer, max_length, strategy)\n",
        "test_set = ArgumentMiningDataset(df_label_map, df_test, tokenizer, max_length, strategy, is_train=False)\n",
        "\n",
        "train_loader = DataLoader(train_set, batch_size=batch_size)\n",
        "test_loader = DataLoader(test_set, batch_size=batch_size)"
      ]
    },
    {
      "cell_type": "code",
      "execution_count": 31,
      "id": "d2aa673e",
      "metadata": {
        "id": "d2aa673e",
        "outputId": "512d3b61-5b59-4f95-b122-6fa9a417e17d",
        "colab": {
          "base_uri": "https://localhost:8080/"
        }
      },
      "outputs": [
        {
          "output_type": "stream",
          "name": "stdout",
          "text": [
            "Model pushed to device: cuda\n",
            "EPOCH 1 STARTED\n",
            "---------------\n",
            "GPU Utilisation at batch 1 after data loading: 2739\n"
          ]
        },
        {
          "output_type": "stream",
          "name": "stderr",
          "text": [
            "/usr/local/lib/python3.7/dist-packages/transformers/models/big_bird/modeling_big_bird.py:978: UserWarning: __floordiv__ is deprecated, and its behavior will change in a future version of pytorch. It currently rounds toward 0 (like the 'trunc' function NOT 'floor'). This results in incorrect rounding for negative values. To keep the current behavior, use torch.div(a, b, rounding_mode='trunc'), or for actual floor division, use torch.div(a, b, rounding_mode='floor').\n",
            "  * num_indices_to_pick_from\n"
          ]
        },
        {
          "output_type": "stream",
          "name": "stdout",
          "text": [
            "GPU Utilisation at batch 1 after training: 7297\n",
            "Batch 1 complete. Time taken: load(0.0163), train(2.09), total(2.1). \n",
            "GPU Utilisation at batch 2 after data loading: 2739\n",
            "GPU Utilisation at batch 2 after training: 7297\n",
            "Batch 2 complete. Time taken: load(0.0179), train(1.95), total(1.97). \n",
            "GPU Utilisation at batch 3 after data loading: 2739\n",
            "GPU Utilisation at batch 3 after training: 7297\n",
            "Batch 3 complete. Time taken: load(0.0136), train(1.97), total(1.98). \n",
            "GPU Utilisation at batch 4 after data loading: 2739\n",
            "GPU Utilisation at batch 4 after training: 7297\n",
            "Batch 4 complete. Time taken: load(0.0173), train(2.04), total(2.06). \n",
            "GPU Utilisation at batch 5 after data loading: 2739\n",
            "GPU Utilisation at batch 5 after training: 7297\n",
            "Batch 5 complete. Time taken: load(0.0277), train(2.07), total(2.1). \n",
            "--------------------------------------------------\n",
            "Epoch 1/5 complete. Time taken: 10.2. Loss:  0.482\n",
            "--------------------------------------------------\n",
            "Model saved at epoch 1 at: models/Z29vZ2xlL2JpZ2JpcmQtcm9iZXJ0YS1iYXNlXzE=\n",
            "EPOCH 2 STARTED\n",
            "---------------\n",
            "GPU Utilisation at batch 1 after data loading: 2737\n",
            "GPU Utilisation at batch 1 after training: 7297\n",
            "Batch 1 complete. Time taken: load(0.0154), train(2.11), total(2.13). \n",
            "GPU Utilisation at batch 2 after data loading: 2739\n",
            "GPU Utilisation at batch 2 after training: 7297\n",
            "Batch 2 complete. Time taken: load(0.0251), train(2.3), total(2.32). \n",
            "GPU Utilisation at batch 3 after data loading: 2737\n",
            "GPU Utilisation at batch 3 after training: 7297\n",
            "Batch 3 complete. Time taken: load(0.0293), train(2.57), total(2.6). \n",
            "GPU Utilisation at batch 4 after data loading: 2737\n",
            "GPU Utilisation at batch 4 after training: 7297\n",
            "Batch 4 complete. Time taken: load(0.0324), train(1.98), total(2.01). \n",
            "GPU Utilisation at batch 5 after data loading: 2739\n",
            "GPU Utilisation at batch 5 after training: 7297\n",
            "Batch 5 complete. Time taken: load(0.0162), train(1.97), total(1.99). \n",
            "------------------------------------------------\n",
            "Epoch 2/5 complete. Time taken: 11. Loss:  0.481\n",
            "------------------------------------------------\n",
            "EPOCH 3 STARTED\n",
            "---------------\n",
            "GPU Utilisation at batch 1 after data loading: 2739\n",
            "GPU Utilisation at batch 1 after training: 7297\n",
            "Batch 1 complete. Time taken: load(0.0165), train(1.96), total(1.98). \n",
            "GPU Utilisation at batch 2 after data loading: 2739\n",
            "GPU Utilisation at batch 2 after training: 7297\n",
            "Batch 2 complete. Time taken: load(0.0135), train(1.96), total(1.98). \n",
            "GPU Utilisation at batch 3 after data loading: 2739\n",
            "GPU Utilisation at batch 3 after training: 7297\n",
            "Batch 3 complete. Time taken: load(0.0186), train(1.98), total(2). \n",
            "GPU Utilisation at batch 4 after data loading: 2739\n",
            "GPU Utilisation at batch 4 after training: 7297\n",
            "Batch 4 complete. Time taken: load(0.0214), train(1.96), total(1.98). \n",
            "GPU Utilisation at batch 5 after data loading: 2739\n",
            "GPU Utilisation at batch 5 after training: 7297\n",
            "Batch 5 complete. Time taken: load(0.0205), train(1.97), total(1.99). \n",
            "--------------------------------------------------\n",
            "Epoch 3/5 complete. Time taken: 9.93. Loss:  0.481\n",
            "--------------------------------------------------\n",
            "Model saved at epoch 3 at: models/Z29vZ2xlL2JpZ2JpcmQtcm9iZXJ0YS1iYXNlXzM=\n",
            "EPOCH 4 STARTED\n",
            "---------------\n",
            "GPU Utilisation at batch 1 after data loading: 2739\n",
            "GPU Utilisation at batch 1 after training: 7297\n",
            "Batch 1 complete. Time taken: load(0.0204), train(1.98), total(2). \n",
            "GPU Utilisation at batch 2 after data loading: 2739\n",
            "GPU Utilisation at batch 2 after training: 7297\n",
            "Batch 2 complete. Time taken: load(0.0158), train(1.97), total(1.99). \n",
            "GPU Utilisation at batch 3 after data loading: 2739\n",
            "GPU Utilisation at batch 3 after training: 7297\n",
            "Batch 3 complete. Time taken: load(0.0165), train(1.96), total(1.98). \n",
            "GPU Utilisation at batch 4 after data loading: 2739\n",
            "GPU Utilisation at batch 4 after training: 7297\n",
            "Batch 4 complete. Time taken: load(0.0179), train(1.96), total(1.97). \n",
            "GPU Utilisation at batch 5 after data loading: 2739\n",
            "GPU Utilisation at batch 5 after training: 7297\n",
            "Batch 5 complete. Time taken: load(0.0197), train(1.98), total(2). \n",
            "--------------------------------------------------\n",
            "Epoch 4/5 complete. Time taken: 9.94. Loss:  0.482\n",
            "--------------------------------------------------\n",
            "EPOCH 5 STARTED\n",
            "---------------\n",
            "GPU Utilisation at batch 1 after data loading: 2739\n",
            "GPU Utilisation at batch 1 after training: 7297\n",
            "Batch 1 complete. Time taken: load(0.023), train(1.97), total(1.99). \n",
            "GPU Utilisation at batch 2 after data loading: 2739\n",
            "GPU Utilisation at batch 2 after training: 7297\n",
            "Batch 2 complete. Time taken: load(0.0157), train(1.98), total(2). \n",
            "GPU Utilisation at batch 3 after data loading: 2739\n",
            "GPU Utilisation at batch 3 after training: 7297\n",
            "Batch 3 complete. Time taken: load(0.0163), train(1.97), total(1.99). \n",
            "GPU Utilisation at batch 4 after data loading: 2739\n",
            "GPU Utilisation at batch 4 after training: 7297\n",
            "Batch 4 complete. Time taken: load(0.017), train(1.97), total(1.98). \n",
            "GPU Utilisation at batch 5 after data loading: 2739\n",
            "GPU Utilisation at batch 5 after training: 7297\n",
            "Batch 5 complete. Time taken: load(0.0153), train(1.97), total(1.99). \n",
            "--------------------------------------------------\n",
            "Epoch 5/5 complete. Time taken: 9.95. Loss:  0.482\n",
            "--------------------------------------------------\n",
            "Model saved at epoch 5 at: models/Z29vZ2xlL2JpZ2JpcmQtcm9iZXJ0YS1iYXNlXzU=\n",
            "Model saved at epoch 5 at: models/Z29vZ2xlL2JpZ2JpcmQtcm9iZXJ0YS1iYXNlX2ZpbmFs\n"
          ]
        }
      ],
      "source": [
        "if not os.path.exists('models'):\n",
        "  os.makedirs('models')\n",
        "  print('models directory created!')\n",
        "model.to(DEVICE)\n",
        "print(f'Model pushed to device: {DEVICE}')\n",
        "for epoch in range(epochs):\n",
        "    model.train()\n",
        "    start_epoch_message = f'EPOCH {epoch + 1} STARTED'\n",
        "    print(start_epoch_message)\n",
        "    print(f'{\"-\" * len(start_epoch_message)}')\n",
        "    start_epoch = time.time()\n",
        "\n",
        "    start_load = time.time()\n",
        "    training_loss = 0\n",
        "    for i, (inputs, targets) in enumerate(train_loader):\n",
        "        start_train = time.time()\n",
        "        inputs = move_to_device(inputs, DEVICE)\n",
        "        targets = move_to_device(targets, DEVICE)\n",
        "        if DEVICE != 'cpu':\n",
        "            print(f'GPU Utilisation at batch {i+1} after data loading: {get_gpu_utilization()}')\n",
        "\n",
        "        optimizer.zero_grad()\n",
        "\n",
        "        loss, outputs = model(\n",
        "            labels=targets,\n",
        "            input_ids=inputs['input_ids'],\n",
        "            attention_mask=inputs['attention_mask'],\n",
        "            return_dict=False\n",
        "        )\n",
        "        if DEVICE != 'cpu':\n",
        "            print(f'GPU Utilisation at batch {i+1} after training: {get_gpu_utilization()}')\n",
        "\n",
        "\n",
        "        training_loss += loss.item()\n",
        "\n",
        "        # backward pass\n",
        "        optimizer.zero_grad()\n",
        "        loss.backward()\n",
        "        optimizer.step()\n",
        "\n",
        "        del targets, inputs, loss, outputs\n",
        "        gc.collect()\n",
        "        torch.cuda.empty_cache()\n",
        "\n",
        "        end_train = time.time()\n",
        "\n",
        "        if verbose > 1:\n",
        "            print(\n",
        "                f'Batch {i + 1} complete. Time taken: load({start_train - start_load:.3g}), '\n",
        "                f'train({end_train - start_train:.3g}), total({end_train - start_load:.3g}). '\n",
        "            )\n",
        "        start_load = time.time()\n",
        "\n",
        "    print_message = f'Epoch {epoch + 1}/{epochs} complete. ' \\\n",
        "                    f'Time taken: {start_load - start_epoch:.3g}. ' \\\n",
        "                    f'Loss: {training_loss/(i+1): .3g}'\n",
        "\n",
        "    if verbose:\n",
        "        print(f'{\"-\" * len(print_message)}')\n",
        "        print(print_message)\n",
        "        print(f'{\"-\" * len(print_message)}')\n",
        "\n",
        "    if epoch % save_freq == 0:\n",
        "        encoded_model_name = encode_model_name(model_name, epoch+1)\n",
        "        save_path = f'models/{encoded_model_name}'\n",
        "        model.save_pretrained(save_path)\n",
        "        print(f'Model saved at epoch {epoch+1} at: {save_path}')\n",
        "\n",
        "encoded_model_name = encode_model_name(model_name, 'final')\n",
        "save_path = f'models/{encoded_model_name}'\n",
        "model.save_pretrained(save_path)\n",
        "print(f'Model saved at epoch {epoch + 1} at: {save_path}')"
      ]
    },
    {
      "cell_type": "code",
      "execution_count": 32,
      "id": "12afdc17",
      "metadata": {
        "id": "12afdc17"
      },
      "outputs": [],
      "source": [
        "# load trained model\n",
        "path = ''\n",
        "trained_model = AutoModelForTokenClassification.from_pretrained(path)"
      ]
    },
    {
      "cell_type": "code",
      "source": [
        "df_metrics, df_scores = inference(trained_model, test_loader)"
      ],
      "metadata": {
        "id": "VQcpzbhuPPwu",
        "outputId": "e4456aff-6ea6-43d5-aa96-fec8818712a9",
        "colab": {
          "base_uri": "https://localhost:8080/"
        }
      },
      "id": "VQcpzbhuPPwu",
      "execution_count": 33,
      "outputs": [
        {
          "output_type": "stream",
          "name": "stderr",
          "text": [
            "/usr/local/lib/python3.7/dist-packages/transformers/models/big_bird/modeling_big_bird.py:978: UserWarning: __floordiv__ is deprecated, and its behavior will change in a future version of pytorch. It currently rounds toward 0 (like the 'trunc' function NOT 'floor'). This results in incorrect rounding for negative values. To keep the current behavior, use torch.div(a, b, rounding_mode='trunc'), or for actual floor division, use torch.div(a, b, rounding_mode='floor').\n",
            "  * num_indices_to_pick_from\n"
          ]
        }
      ]
    },
    {
      "cell_type": "code",
      "execution_count": 34,
      "id": "bd86b6d3",
      "metadata": {
        "id": "bd86b6d3",
        "outputId": "e8650a49-fc20-4128-d76e-5b5279d3b125",
        "colab": {
          "base_uri": "https://localhost:8080/",
          "height": 419
        }
      },
      "outputs": [
        {
          "output_type": "execute_result",
          "data": {
            "text/plain": [
              "     tp  class  fn  fp   f1\n",
              "0   0.0      0  47   0  0.0\n",
              "1   0.0      1   3   0  0.0\n",
              "2   0.0      2   9   0  0.0\n",
              "3   0.0      3  33   2  0.0\n",
              "0   0.0      0  37   0  0.0\n",
              "..  ...    ...  ..  ..  ...\n",
              "3   0.0      3  12   2  0.0\n",
              "0   0.0      0  16   0  0.0\n",
              "1   0.0      1   2   0  0.0\n",
              "2   0.0      2   2   0  0.0\n",
              "3   0.0      3  11   1  0.0\n",
              "\n",
              "[404 rows x 5 columns]"
            ],
            "text/html": [
              "\n",
              "  <div id=\"df-5425a934-b736-4321-b878-cb4be1826207\">\n",
              "    <div class=\"colab-df-container\">\n",
              "      <div>\n",
              "<style scoped>\n",
              "    .dataframe tbody tr th:only-of-type {\n",
              "        vertical-align: middle;\n",
              "    }\n",
              "\n",
              "    .dataframe tbody tr th {\n",
              "        vertical-align: top;\n",
              "    }\n",
              "\n",
              "    .dataframe thead th {\n",
              "        text-align: right;\n",
              "    }\n",
              "</style>\n",
              "<table border=\"1\" class=\"dataframe\">\n",
              "  <thead>\n",
              "    <tr style=\"text-align: right;\">\n",
              "      <th></th>\n",
              "      <th>tp</th>\n",
              "      <th>class</th>\n",
              "      <th>fn</th>\n",
              "      <th>fp</th>\n",
              "      <th>f1</th>\n",
              "    </tr>\n",
              "  </thead>\n",
              "  <tbody>\n",
              "    <tr>\n",
              "      <th>0</th>\n",
              "      <td>0.0</td>\n",
              "      <td>0</td>\n",
              "      <td>47</td>\n",
              "      <td>0</td>\n",
              "      <td>0.0</td>\n",
              "    </tr>\n",
              "    <tr>\n",
              "      <th>1</th>\n",
              "      <td>0.0</td>\n",
              "      <td>1</td>\n",
              "      <td>3</td>\n",
              "      <td>0</td>\n",
              "      <td>0.0</td>\n",
              "    </tr>\n",
              "    <tr>\n",
              "      <th>2</th>\n",
              "      <td>0.0</td>\n",
              "      <td>2</td>\n",
              "      <td>9</td>\n",
              "      <td>0</td>\n",
              "      <td>0.0</td>\n",
              "    </tr>\n",
              "    <tr>\n",
              "      <th>3</th>\n",
              "      <td>0.0</td>\n",
              "      <td>3</td>\n",
              "      <td>33</td>\n",
              "      <td>2</td>\n",
              "      <td>0.0</td>\n",
              "    </tr>\n",
              "    <tr>\n",
              "      <th>0</th>\n",
              "      <td>0.0</td>\n",
              "      <td>0</td>\n",
              "      <td>37</td>\n",
              "      <td>0</td>\n",
              "      <td>0.0</td>\n",
              "    </tr>\n",
              "    <tr>\n",
              "      <th>...</th>\n",
              "      <td>...</td>\n",
              "      <td>...</td>\n",
              "      <td>...</td>\n",
              "      <td>...</td>\n",
              "      <td>...</td>\n",
              "    </tr>\n",
              "    <tr>\n",
              "      <th>3</th>\n",
              "      <td>0.0</td>\n",
              "      <td>3</td>\n",
              "      <td>12</td>\n",
              "      <td>2</td>\n",
              "      <td>0.0</td>\n",
              "    </tr>\n",
              "    <tr>\n",
              "      <th>0</th>\n",
              "      <td>0.0</td>\n",
              "      <td>0</td>\n",
              "      <td>16</td>\n",
              "      <td>0</td>\n",
              "      <td>0.0</td>\n",
              "    </tr>\n",
              "    <tr>\n",
              "      <th>1</th>\n",
              "      <td>0.0</td>\n",
              "      <td>1</td>\n",
              "      <td>2</td>\n",
              "      <td>0</td>\n",
              "      <td>0.0</td>\n",
              "    </tr>\n",
              "    <tr>\n",
              "      <th>2</th>\n",
              "      <td>0.0</td>\n",
              "      <td>2</td>\n",
              "      <td>2</td>\n",
              "      <td>0</td>\n",
              "      <td>0.0</td>\n",
              "    </tr>\n",
              "    <tr>\n",
              "      <th>3</th>\n",
              "      <td>0.0</td>\n",
              "      <td>3</td>\n",
              "      <td>11</td>\n",
              "      <td>1</td>\n",
              "      <td>0.0</td>\n",
              "    </tr>\n",
              "  </tbody>\n",
              "</table>\n",
              "<p>404 rows × 5 columns</p>\n",
              "</div>\n",
              "      <button class=\"colab-df-convert\" onclick=\"convertToInteractive('df-5425a934-b736-4321-b878-cb4be1826207')\"\n",
              "              title=\"Convert this dataframe to an interactive table.\"\n",
              "              style=\"display:none;\">\n",
              "        \n",
              "  <svg xmlns=\"http://www.w3.org/2000/svg\" height=\"24px\"viewBox=\"0 0 24 24\"\n",
              "       width=\"24px\">\n",
              "    <path d=\"M0 0h24v24H0V0z\" fill=\"none\"/>\n",
              "    <path d=\"M18.56 5.44l.94 2.06.94-2.06 2.06-.94-2.06-.94-.94-2.06-.94 2.06-2.06.94zm-11 1L8.5 8.5l.94-2.06 2.06-.94-2.06-.94L8.5 2.5l-.94 2.06-2.06.94zm10 10l.94 2.06.94-2.06 2.06-.94-2.06-.94-.94-2.06-.94 2.06-2.06.94z\"/><path d=\"M17.41 7.96l-1.37-1.37c-.4-.4-.92-.59-1.43-.59-.52 0-1.04.2-1.43.59L10.3 9.45l-7.72 7.72c-.78.78-.78 2.05 0 2.83L4 21.41c.39.39.9.59 1.41.59.51 0 1.02-.2 1.41-.59l7.78-7.78 2.81-2.81c.8-.78.8-2.07 0-2.86zM5.41 20L4 18.59l7.72-7.72 1.47 1.35L5.41 20z\"/>\n",
              "  </svg>\n",
              "      </button>\n",
              "      \n",
              "  <style>\n",
              "    .colab-df-container {\n",
              "      display:flex;\n",
              "      flex-wrap:wrap;\n",
              "      gap: 12px;\n",
              "    }\n",
              "\n",
              "    .colab-df-convert {\n",
              "      background-color: #E8F0FE;\n",
              "      border: none;\n",
              "      border-radius: 50%;\n",
              "      cursor: pointer;\n",
              "      display: none;\n",
              "      fill: #1967D2;\n",
              "      height: 32px;\n",
              "      padding: 0 0 0 0;\n",
              "      width: 32px;\n",
              "    }\n",
              "\n",
              "    .colab-df-convert:hover {\n",
              "      background-color: #E2EBFA;\n",
              "      box-shadow: 0px 1px 2px rgba(60, 64, 67, 0.3), 0px 1px 3px 1px rgba(60, 64, 67, 0.15);\n",
              "      fill: #174EA6;\n",
              "    }\n",
              "\n",
              "    [theme=dark] .colab-df-convert {\n",
              "      background-color: #3B4455;\n",
              "      fill: #D2E3FC;\n",
              "    }\n",
              "\n",
              "    [theme=dark] .colab-df-convert:hover {\n",
              "      background-color: #434B5C;\n",
              "      box-shadow: 0px 1px 3px 1px rgba(0, 0, 0, 0.15);\n",
              "      filter: drop-shadow(0px 1px 2px rgba(0, 0, 0, 0.3));\n",
              "      fill: #FFFFFF;\n",
              "    }\n",
              "  </style>\n",
              "\n",
              "      <script>\n",
              "        const buttonEl =\n",
              "          document.querySelector('#df-5425a934-b736-4321-b878-cb4be1826207 button.colab-df-convert');\n",
              "        buttonEl.style.display =\n",
              "          google.colab.kernel.accessAllowed ? 'block' : 'none';\n",
              "\n",
              "        async function convertToInteractive(key) {\n",
              "          const element = document.querySelector('#df-5425a934-b736-4321-b878-cb4be1826207');\n",
              "          const dataTable =\n",
              "            await google.colab.kernel.invokeFunction('convertToInteractive',\n",
              "                                                     [key], {});\n",
              "          if (!dataTable) return;\n",
              "\n",
              "          const docLinkHtml = 'Like what you see? Visit the ' +\n",
              "            '<a target=\"_blank\" href=https://colab.research.google.com/notebooks/data_table.ipynb>data table notebook</a>'\n",
              "            + ' to learn more about interactive tables.';\n",
              "          element.innerHTML = '';\n",
              "          dataTable['output_type'] = 'display_data';\n",
              "          await google.colab.output.renderOutput(dataTable, element);\n",
              "          const docLink = document.createElement('div');\n",
              "          docLink.innerHTML = docLinkHtml;\n",
              "          element.appendChild(docLink);\n",
              "        }\n",
              "      </script>\n",
              "    </div>\n",
              "  </div>\n",
              "  "
            ]
          },
          "metadata": {},
          "execution_count": 34
        }
      ],
      "source": [
        "df_scores"
      ]
    },
    {
      "cell_type": "code",
      "source": [
        ""
      ],
      "metadata": {
        "id": "KSc1Z5UFQJgU",
        "outputId": "1b0ea20e-c3ed-47cf-ea82-6787d2d0ad3f",
        "colab": {
          "base_uri": "https://localhost:8080/",
          "height": 49
        }
      },
      "id": "KSc1Z5UFQJgU",
      "execution_count": 37,
      "outputs": [
        {
          "output_type": "execute_result",
          "data": {
            "text/plain": [
              "Empty DataFrame\n",
              "Columns: []\n",
              "Index: []"
            ],
            "text/html": [
              "\n",
              "  <div id=\"df-46e18a7b-d187-46dc-9fcd-4445111a2a1e\">\n",
              "    <div class=\"colab-df-container\">\n",
              "      <div>\n",
              "<style scoped>\n",
              "    .dataframe tbody tr th:only-of-type {\n",
              "        vertical-align: middle;\n",
              "    }\n",
              "\n",
              "    .dataframe tbody tr th {\n",
              "        vertical-align: top;\n",
              "    }\n",
              "\n",
              "    .dataframe thead th {\n",
              "        text-align: right;\n",
              "    }\n",
              "</style>\n",
              "<table border=\"1\" class=\"dataframe\">\n",
              "  <thead>\n",
              "    <tr style=\"text-align: right;\">\n",
              "      <th></th>\n",
              "    </tr>\n",
              "  </thead>\n",
              "  <tbody>\n",
              "  </tbody>\n",
              "</table>\n",
              "</div>\n",
              "      <button class=\"colab-df-convert\" onclick=\"convertToInteractive('df-46e18a7b-d187-46dc-9fcd-4445111a2a1e')\"\n",
              "              title=\"Convert this dataframe to an interactive table.\"\n",
              "              style=\"display:none;\">\n",
              "        \n",
              "  <svg xmlns=\"http://www.w3.org/2000/svg\" height=\"24px\"viewBox=\"0 0 24 24\"\n",
              "       width=\"24px\">\n",
              "    <path d=\"M0 0h24v24H0V0z\" fill=\"none\"/>\n",
              "    <path d=\"M18.56 5.44l.94 2.06.94-2.06 2.06-.94-2.06-.94-.94-2.06-.94 2.06-2.06.94zm-11 1L8.5 8.5l.94-2.06 2.06-.94-2.06-.94L8.5 2.5l-.94 2.06-2.06.94zm10 10l.94 2.06.94-2.06 2.06-.94-2.06-.94-.94-2.06-.94 2.06-2.06.94z\"/><path d=\"M17.41 7.96l-1.37-1.37c-.4-.4-.92-.59-1.43-.59-.52 0-1.04.2-1.43.59L10.3 9.45l-7.72 7.72c-.78.78-.78 2.05 0 2.83L4 21.41c.39.39.9.59 1.41.59.51 0 1.02-.2 1.41-.59l7.78-7.78 2.81-2.81c.8-.78.8-2.07 0-2.86zM5.41 20L4 18.59l7.72-7.72 1.47 1.35L5.41 20z\"/>\n",
              "  </svg>\n",
              "      </button>\n",
              "      \n",
              "  <style>\n",
              "    .colab-df-container {\n",
              "      display:flex;\n",
              "      flex-wrap:wrap;\n",
              "      gap: 12px;\n",
              "    }\n",
              "\n",
              "    .colab-df-convert {\n",
              "      background-color: #E8F0FE;\n",
              "      border: none;\n",
              "      border-radius: 50%;\n",
              "      cursor: pointer;\n",
              "      display: none;\n",
              "      fill: #1967D2;\n",
              "      height: 32px;\n",
              "      padding: 0 0 0 0;\n",
              "      width: 32px;\n",
              "    }\n",
              "\n",
              "    .colab-df-convert:hover {\n",
              "      background-color: #E2EBFA;\n",
              "      box-shadow: 0px 1px 2px rgba(60, 64, 67, 0.3), 0px 1px 3px 1px rgba(60, 64, 67, 0.15);\n",
              "      fill: #174EA6;\n",
              "    }\n",
              "\n",
              "    [theme=dark] .colab-df-convert {\n",
              "      background-color: #3B4455;\n",
              "      fill: #D2E3FC;\n",
              "    }\n",
              "\n",
              "    [theme=dark] .colab-df-convert:hover {\n",
              "      background-color: #434B5C;\n",
              "      box-shadow: 0px 1px 3px 1px rgba(0, 0, 0, 0.15);\n",
              "      filter: drop-shadow(0px 1px 2px rgba(0, 0, 0, 0.3));\n",
              "      fill: #FFFFFF;\n",
              "    }\n",
              "  </style>\n",
              "\n",
              "      <script>\n",
              "        const buttonEl =\n",
              "          document.querySelector('#df-46e18a7b-d187-46dc-9fcd-4445111a2a1e button.colab-df-convert');\n",
              "        buttonEl.style.display =\n",
              "          google.colab.kernel.accessAllowed ? 'block' : 'none';\n",
              "\n",
              "        async function convertToInteractive(key) {\n",
              "          const element = document.querySelector('#df-46e18a7b-d187-46dc-9fcd-4445111a2a1e');\n",
              "          const dataTable =\n",
              "            await google.colab.kernel.invokeFunction('convertToInteractive',\n",
              "                                                     [key], {});\n",
              "          if (!dataTable) return;\n",
              "\n",
              "          const docLinkHtml = 'Like what you see? Visit the ' +\n",
              "            '<a target=\"_blank\" href=https://colab.research.google.com/notebooks/data_table.ipynb>data table notebook</a>'\n",
              "            + ' to learn more about interactive tables.';\n",
              "          element.innerHTML = '';\n",
              "          dataTable['output_type'] = 'display_data';\n",
              "          await google.colab.output.renderOutput(dataTable, element);\n",
              "          const docLink = document.createElement('div');\n",
              "          docLink.innerHTML = docLinkHtml;\n",
              "          element.appendChild(docLink);\n",
              "        }\n",
              "      </script>\n",
              "    </div>\n",
              "  </div>\n",
              "  "
            ]
          },
          "metadata": {},
          "execution_count": 37
        }
      ]
    },
    {
      "cell_type": "code",
      "source": [
        ""
      ],
      "metadata": {
        "id": "WoOfJ70gQeAk"
      },
      "id": "WoOfJ70gQeAk",
      "execution_count": null,
      "outputs": []
    }
  ],
  "metadata": {
    "kernelspec": {
      "display_name": "argument-mining",
      "language": "python",
      "name": "argument-mining"
    },
    "language_info": {
      "codemirror_mode": {
        "name": "ipython",
        "version": 3
      },
      "file_extension": ".py",
      "mimetype": "text/x-python",
      "name": "python",
      "nbconvert_exporter": "python",
      "pygments_lexer": "ipython3",
      "version": "3.8.12"
    },
    "colab": {
      "name": "End-to-end_no_GPU.ipynb",
      "provenance": []
    },
    "accelerator": "GPU"
  },
  "nbformat": 4,
  "nbformat_minor": 5
}