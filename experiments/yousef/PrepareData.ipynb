{
 "cells": [
  {
   "cell_type": "markdown",
   "id": "ed110207",
   "metadata": {},
   "source": [
    "# Prepare Data\n",
    "\n",
    "Notebook for preparing the datasets that we will be using"
   ]
  },
  {
   "cell_type": "code",
   "execution_count": 5,
   "id": "b435bf71",
   "metadata": {},
   "outputs": [],
   "source": [
    "from argminer.data import PersuadeProcessor, TUDarmstadtProcessor\n",
    "\n",
    "import os"
   ]
  },
  {
   "cell_type": "markdown",
   "id": "3f7721f4",
   "metadata": {},
   "source": [
    "# TU Darmstadt"
   ]
  },
  {
   "cell_type": "code",
   "execution_count": 4,
   "id": "34ba8e46",
   "metadata": {},
   "outputs": [
    {
     "name": "stdout",
     "output_type": "stream",
     "text": [
      "Found non-matching segments:--------------------------------------------------\n",
      "\n",
      "murdering criminals is therefore immoral and hard to accept\n",
      "\n",
      "\"murdering\" criminals is therefore immoral and hard to accept\n",
      "\n",
      "Found non-matching segments:--------------------------------------------------\n",
      "\n",
      "Click is a very interesting comedy, with a serious approach about the importance of having a balanced life between family and work businesses\n",
      "\n",
      "\"Click\" is a very interesting comedy, with a serious approach about the importance of having a balanced life between family and work businesses\n",
      "\n",
      "Found non-matching segments:--------------------------------------------------\n",
      "\n",
      "Blood diamond, an adaptation of a real story in South Africa, focuses on the link between diamonds and conflict\n",
      "\n",
      "\"Blood diamond\", an adaptation of a real story in South Africa, focuses on the link between diamonds and conflict\n",
      "\n",
      "Found non-matching segments:--------------------------------------------------\n",
      "\n",
      "rush hours are usually not the direct consequence of drivers\n",
      "\n",
      "\"rush hours\" are usually not the direct consequence of drivers\n",
      "\n"
     ]
    },
    {
     "data": {
      "text/plain": [
       "<argminer.data.TUDarmstadtProcessor at 0x7ffdb5177130>"
      ]
     },
     "execution_count": 4,
     "metadata": {},
     "output_type": "execute_result"
    }
   ],
   "source": [
    "path = '../../data/UCL/dataset2/ArgumentAnnotatedEssays-2.0'\n",
    "\n",
    "processor = TUDarmstadtProcessor(path)\n",
    "processor = processor.preprocess()\n",
    "processor.save_json('../../data/UCL/core')"
   ]
  },
  {
   "cell_type": "code",
   "execution_count": 9,
   "id": "cd73bf87",
   "metadata": {},
   "outputs": [
    {
     "name": "stdout",
     "output_type": "stream",
     "text": [
      "[Errno 17] File exists: '../../data/bio'\n"
     ]
    }
   ],
   "source": [
    "for strategy in ['bio', 'io', 'bieo']:\n",
    "    processor = TUDarmstadtProcessor('../../data/UCL/core').from_json('preprocessed')\n",
    "    try:\n",
    "        os.mkdir(f'../../data/{strategy}')\n",
    "    except Exception as e:\n",
    "        print(e)\n",
    "    processor = processor.process(strategy).postprocess()\n",
    "    processor.save_json(f'../../data/{strategy}')"
   ]
  },
  {
   "cell_type": "markdown",
   "id": "1db8724a",
   "metadata": {},
   "source": [
    "# Persuade"
   ]
  },
  {
   "cell_type": "code",
   "execution_count": 14,
   "id": "cda8ad52",
   "metadata": {
    "scrolled": false
   },
   "outputs": [
    {
     "name": "stdout",
     "output_type": "stream",
     "text": [
      "[Errno 17] File exists: '../../data/bio'\n"
     ]
    },
    {
     "name": "stderr",
     "output_type": "stream",
     "text": [
      "/var/folders/_6/scw_50_57tb8mmbpq6ylnl6w0000gn/T/ipykernel_66818/2749773426.py:10: UserWarning: PersuadeProcessor does not have a preprocessor. Instead the postprocess method will prepare the data end-to-end\n",
      "  processor = processor.preprocess().process(strategy).postprocess()\n",
      "/var/folders/_6/scw_50_57tb8mmbpq6ylnl6w0000gn/T/ipykernel_66818/2749773426.py:10: UserWarning: PersuadeProcessor does not have a processor. Instead the postprocess method will prepare the data end-to-end\n",
      "  processor = processor.preprocess().process(strategy).postprocess()\n",
      "/var/folders/_6/scw_50_57tb8mmbpq6ylnl6w0000gn/T/ipykernel_66818/2749773426.py:10: DeprecationWarning: The postprocess method is behaving in a special way because of data corruption. This behaviour will change in the future.\n",
      "  processor = processor.preprocess().process(strategy).postprocess()\n"
     ]
    },
    {
     "name": "stdout",
     "output_type": "stream",
     "text": [
      "[Errno 17] File exists: '../../data/io'\n"
     ]
    },
    {
     "name": "stderr",
     "output_type": "stream",
     "text": [
      "/var/folders/_6/scw_50_57tb8mmbpq6ylnl6w0000gn/T/ipykernel_66818/2749773426.py:10: UserWarning: PersuadeProcessor does not have a preprocessor. Instead the postprocess method will prepare the data end-to-end\n",
      "  processor = processor.preprocess().process(strategy).postprocess()\n",
      "/var/folders/_6/scw_50_57tb8mmbpq6ylnl6w0000gn/T/ipykernel_66818/2749773426.py:10: UserWarning: PersuadeProcessor does not have a processor. Instead the postprocess method will prepare the data end-to-end\n",
      "  processor = processor.preprocess().process(strategy).postprocess()\n",
      "/var/folders/_6/scw_50_57tb8mmbpq6ylnl6w0000gn/T/ipykernel_66818/2749773426.py:10: DeprecationWarning: The postprocess method is behaving in a special way because of data corruption. This behaviour will change in the future.\n",
      "  processor = processor.preprocess().process(strategy).postprocess()\n"
     ]
    },
    {
     "name": "stdout",
     "output_type": "stream",
     "text": [
      "[Errno 17] File exists: '../../data/bieo'\n"
     ]
    },
    {
     "name": "stderr",
     "output_type": "stream",
     "text": [
      "/var/folders/_6/scw_50_57tb8mmbpq6ylnl6w0000gn/T/ipykernel_66818/2749773426.py:10: UserWarning: PersuadeProcessor does not have a preprocessor. Instead the postprocess method will prepare the data end-to-end\n",
      "  processor = processor.preprocess().process(strategy).postprocess()\n",
      "/var/folders/_6/scw_50_57tb8mmbpq6ylnl6w0000gn/T/ipykernel_66818/2749773426.py:10: UserWarning: PersuadeProcessor does not have a processor. Instead the postprocess method will prepare the data end-to-end\n",
      "  processor = processor.preprocess().process(strategy).postprocess()\n",
      "/var/folders/_6/scw_50_57tb8mmbpq6ylnl6w0000gn/T/ipykernel_66818/2749773426.py:10: DeprecationWarning: The postprocess method is behaving in a special way because of data corruption. This behaviour will change in the future.\n",
      "  processor = processor.preprocess().process(strategy).postprocess()\n"
     ]
    }
   ],
   "source": [
    "path = '../../data/kaggle/feedback-prize-2021'\n",
    "processor = PersuadeProcessor(path)\n",
    "for strategy in ['bio', 'io', 'bieo']:\n",
    "    processor = PersuadeProcessor(path)\n",
    "    try:\n",
    "        os.mkdir(f'../../data/{strategy}')\n",
    "    except Exception as e:\n",
    "        print(e)\n",
    "        \n",
    "    processor = processor.preprocess().process(strategy).postprocess()\n",
    "    processor.save_json(f'../../data/{strategy}')"
   ]
  },
  {
   "cell_type": "code",
   "execution_count": null,
   "id": "7b23fb74",
   "metadata": {},
   "outputs": [],
   "source": []
  }
 ],
 "metadata": {
  "kernelspec": {
   "display_name": "argminer-dev",
   "language": "python",
   "name": "argminer-dev"
  },
  "language_info": {
   "codemirror_mode": {
    "name": "ipython",
    "version": 3
   },
   "file_extension": ".py",
   "mimetype": "text/x-python",
   "name": "python",
   "nbconvert_exporter": "python",
   "pygments_lexer": "ipython3",
   "version": "3.8.13"
  }
 },
 "nbformat": 4,
 "nbformat_minor": 5
}
