{
 "cells": [
  {
   "cell_type": "markdown",
   "id": "a3a55015",
   "metadata": {},
   "source": [
    "# kaggle dataset eda"
   ]
  },
  {
   "cell_type": "code",
   "execution_count": 3,
   "id": "b166b44a",
   "metadata": {},
   "outputs": [],
   "source": [
    "import os\n",
    "import pandas as pd\n",
    "\n",
    "\n",
    "# paths\n",
    "path_base = '../../data/kaggle/feedback-prize-2021'\n",
    "dir_train = os.path.join(path_base, 'train')\n",
    "dir_test = os.path.join(path_base, 'test')\n",
    "path_train = os.path.join(path_base, 'train.csv')"
   ]
  },
  {
   "cell_type": "code",
   "execution_count": 4,
   "id": "b8b5191c",
   "metadata": {
    "scrolled": true
   },
   "outputs": [
    {
     "data": {
      "text/html": [
       "<div>\n",
       "<style scoped>\n",
       "    .dataframe tbody tr th:only-of-type {\n",
       "        vertical-align: middle;\n",
       "    }\n",
       "\n",
       "    .dataframe tbody tr th {\n",
       "        vertical-align: top;\n",
       "    }\n",
       "\n",
       "    .dataframe thead th {\n",
       "        text-align: right;\n",
       "    }\n",
       "</style>\n",
       "<table border=\"1\" class=\"dataframe\">\n",
       "  <thead>\n",
       "    <tr style=\"text-align: right;\">\n",
       "      <th></th>\n",
       "      <th>id</th>\n",
       "      <th>discourse_id</th>\n",
       "      <th>discourse_start</th>\n",
       "      <th>discourse_end</th>\n",
       "      <th>discourse_text</th>\n",
       "      <th>discourse_type</th>\n",
       "      <th>discourse_type_num</th>\n",
       "      <th>predictionstring</th>\n",
       "    </tr>\n",
       "  </thead>\n",
       "  <tbody>\n",
       "    <tr>\n",
       "      <th>0</th>\n",
       "      <td>423A1CA112E2</td>\n",
       "      <td>1.622628e+12</td>\n",
       "      <td>8.0</td>\n",
       "      <td>229.0</td>\n",
       "      <td>Modern humans today are always on their phone....</td>\n",
       "      <td>Lead</td>\n",
       "      <td>Lead 1</td>\n",
       "      <td>1 2 3 4 5 6 7 8 9 10 11 12 13 14 15 16 17 18 1...</td>\n",
       "    </tr>\n",
       "    <tr>\n",
       "      <th>1</th>\n",
       "      <td>423A1CA112E2</td>\n",
       "      <td>1.622628e+12</td>\n",
       "      <td>230.0</td>\n",
       "      <td>312.0</td>\n",
       "      <td>They are some really bad consequences when stu...</td>\n",
       "      <td>Position</td>\n",
       "      <td>Position 1</td>\n",
       "      <td>45 46 47 48 49 50 51 52 53 54 55 56 57 58 59</td>\n",
       "    </tr>\n",
       "    <tr>\n",
       "      <th>2</th>\n",
       "      <td>423A1CA112E2</td>\n",
       "      <td>1.622628e+12</td>\n",
       "      <td>313.0</td>\n",
       "      <td>401.0</td>\n",
       "      <td>Some certain areas in the United States ban ph...</td>\n",
       "      <td>Evidence</td>\n",
       "      <td>Evidence 1</td>\n",
       "      <td>60 61 62 63 64 65 66 67 68 69 70 71 72 73 74 75</td>\n",
       "    </tr>\n",
       "    <tr>\n",
       "      <th>3</th>\n",
       "      <td>423A1CA112E2</td>\n",
       "      <td>1.622628e+12</td>\n",
       "      <td>402.0</td>\n",
       "      <td>758.0</td>\n",
       "      <td>When people have phones, they know about certa...</td>\n",
       "      <td>Evidence</td>\n",
       "      <td>Evidence 2</td>\n",
       "      <td>76 77 78 79 80 81 82 83 84 85 86 87 88 89 90 9...</td>\n",
       "    </tr>\n",
       "    <tr>\n",
       "      <th>4</th>\n",
       "      <td>423A1CA112E2</td>\n",
       "      <td>1.622628e+12</td>\n",
       "      <td>759.0</td>\n",
       "      <td>886.0</td>\n",
       "      <td>Driving is one of the way how to get around. P...</td>\n",
       "      <td>Claim</td>\n",
       "      <td>Claim 1</td>\n",
       "      <td>139 140 141 142 143 144 145 146 147 148 149 15...</td>\n",
       "    </tr>\n",
       "  </tbody>\n",
       "</table>\n",
       "</div>"
      ],
      "text/plain": [
       "             id  discourse_id  discourse_start  discourse_end  \\\n",
       "0  423A1CA112E2  1.622628e+12              8.0          229.0   \n",
       "1  423A1CA112E2  1.622628e+12            230.0          312.0   \n",
       "2  423A1CA112E2  1.622628e+12            313.0          401.0   \n",
       "3  423A1CA112E2  1.622628e+12            402.0          758.0   \n",
       "4  423A1CA112E2  1.622628e+12            759.0          886.0   \n",
       "\n",
       "                                      discourse_text discourse_type  \\\n",
       "0  Modern humans today are always on their phone....           Lead   \n",
       "1  They are some really bad consequences when stu...       Position   \n",
       "2  Some certain areas in the United States ban ph...       Evidence   \n",
       "3  When people have phones, they know about certa...       Evidence   \n",
       "4  Driving is one of the way how to get around. P...          Claim   \n",
       "\n",
       "  discourse_type_num                                   predictionstring  \n",
       "0             Lead 1  1 2 3 4 5 6 7 8 9 10 11 12 13 14 15 16 17 18 1...  \n",
       "1         Position 1       45 46 47 48 49 50 51 52 53 54 55 56 57 58 59  \n",
       "2         Evidence 1    60 61 62 63 64 65 66 67 68 69 70 71 72 73 74 75  \n",
       "3         Evidence 2  76 77 78 79 80 81 82 83 84 85 86 87 88 89 90 9...  \n",
       "4            Claim 1  139 140 141 142 143 144 145 146 147 148 149 15...  "
      ]
     },
     "execution_count": 4,
     "metadata": {},
     "output_type": "execute_result"
    }
   ],
   "source": [
    "df_train = pd.read_csv(path_train)\n",
    "df_train.head()"
   ]
  },
  {
   "cell_type": "code",
   "execution_count": 5,
   "id": "fba21086",
   "metadata": {},
   "outputs": [],
   "source": [
    "# check that ids are the same as train files\n",
    "assert sorted(set(df_train.id)) == sorted([file_name.strip('.txt') for file_name in set(os.listdir(dir_train))])"
   ]
  },
  {
   "cell_type": "code",
   "execution_count": 6,
   "id": "28024fd5",
   "metadata": {},
   "outputs": [
    {
     "data": {
      "text/html": [
       "<div>\n",
       "<style scoped>\n",
       "    .dataframe tbody tr th:only-of-type {\n",
       "        vertical-align: middle;\n",
       "    }\n",
       "\n",
       "    .dataframe tbody tr th {\n",
       "        vertical-align: top;\n",
       "    }\n",
       "\n",
       "    .dataframe thead th {\n",
       "        text-align: right;\n",
       "    }\n",
       "</style>\n",
       "<table border=\"1\" class=\"dataframe\">\n",
       "  <thead>\n",
       "    <tr style=\"text-align: right;\">\n",
       "      <th></th>\n",
       "      <th>id</th>\n",
       "      <th>discourse_id</th>\n",
       "      <th>discourse_start</th>\n",
       "      <th>discourse_end</th>\n",
       "      <th>discourse_text</th>\n",
       "      <th>discourse_type</th>\n",
       "      <th>discourse_type_num</th>\n",
       "      <th>predictionstring</th>\n",
       "    </tr>\n",
       "  </thead>\n",
       "  <tbody>\n",
       "    <tr>\n",
       "      <th>96558</th>\n",
       "      <td>0A0AA9C21C5D</td>\n",
       "      <td>1.615667e+12</td>\n",
       "      <td>21.0</td>\n",
       "      <td>529.0</td>\n",
       "      <td>Many people believe that the Electoral College...</td>\n",
       "      <td>Lead</td>\n",
       "      <td>Lead 1</td>\n",
       "      <td>3 4 5 6 7 8 9 10 11 12 13 14 15 16 17 18 19 20...</td>\n",
       "    </tr>\n",
       "    <tr>\n",
       "      <th>96559</th>\n",
       "      <td>0A0AA9C21C5D</td>\n",
       "      <td>1.615667e+12</td>\n",
       "      <td>530.0</td>\n",
       "      <td>627.0</td>\n",
       "      <td>I argue in favor of changing to election by po...</td>\n",
       "      <td>Position</td>\n",
       "      <td>Position 1</td>\n",
       "      <td>92 93 94 95 96 97 98 99 100 101 102 103 104 10...</td>\n",
       "    </tr>\n",
       "    <tr>\n",
       "      <th>96560</th>\n",
       "      <td>0A0AA9C21C5D</td>\n",
       "      <td>1.615667e+12</td>\n",
       "      <td>628.0</td>\n",
       "      <td>749.0</td>\n",
       "      <td>The first reason as to why I favor in abolishi...</td>\n",
       "      <td>Claim</td>\n",
       "      <td>Claim 1</td>\n",
       "      <td>110 111 112 113 114 115 116 117 118 119 120 12...</td>\n",
       "    </tr>\n",
       "    <tr>\n",
       "      <th>96561</th>\n",
       "      <td>0A0AA9C21C5D</td>\n",
       "      <td>1.615818e+12</td>\n",
       "      <td>749.0</td>\n",
       "      <td>1434.0</td>\n",
       "      <td>As shown back in 1960, segregationists in the ...</td>\n",
       "      <td>Evidence</td>\n",
       "      <td>Evidence 1</td>\n",
       "      <td>132 133 134 135 136 137 138 139 140 141 142 14...</td>\n",
       "    </tr>\n",
       "    <tr>\n",
       "      <th>96562</th>\n",
       "      <td>0A0AA9C21C5D</td>\n",
       "      <td>1.615818e+12</td>\n",
       "      <td>1435.0</td>\n",
       "      <td>1603.0</td>\n",
       "      <td>Another reason as to why you can not trust the...</td>\n",
       "      <td>Claim</td>\n",
       "      <td>Claim 2</td>\n",
       "      <td>254 255 256 257 258 259 260 261 262 263 264 26...</td>\n",
       "    </tr>\n",
       "  </tbody>\n",
       "</table>\n",
       "</div>"
      ],
      "text/plain": [
       "                 id  discourse_id  discourse_start  discourse_end  \\\n",
       "96558  0A0AA9C21C5D  1.615667e+12             21.0          529.0   \n",
       "96559  0A0AA9C21C5D  1.615667e+12            530.0          627.0   \n",
       "96560  0A0AA9C21C5D  1.615667e+12            628.0          749.0   \n",
       "96561  0A0AA9C21C5D  1.615818e+12            749.0         1434.0   \n",
       "96562  0A0AA9C21C5D  1.615818e+12           1435.0         1603.0   \n",
       "\n",
       "                                          discourse_text discourse_type  \\\n",
       "96558  Many people believe that the Electoral College...           Lead   \n",
       "96559  I argue in favor of changing to election by po...       Position   \n",
       "96560  The first reason as to why I favor in abolishi...          Claim   \n",
       "96561  As shown back in 1960, segregationists in the ...       Evidence   \n",
       "96562  Another reason as to why you can not trust the...          Claim   \n",
       "\n",
       "      discourse_type_num                                   predictionstring  \n",
       "96558             Lead 1  3 4 5 6 7 8 9 10 11 12 13 14 15 16 17 18 19 20...  \n",
       "96559         Position 1  92 93 94 95 96 97 98 99 100 101 102 103 104 10...  \n",
       "96560            Claim 1  110 111 112 113 114 115 116 117 118 119 120 12...  \n",
       "96561         Evidence 1  132 133 134 135 136 137 138 139 140 141 142 14...  \n",
       "96562            Claim 2  254 255 256 257 258 259 260 261 262 263 264 26...  "
      ]
     },
     "execution_count": 6,
     "metadata": {},
     "output_type": "execute_result"
    }
   ],
   "source": [
    "# explore single id\n",
    "df_temp = df_train.copy()\n",
    "df_temp = df_temp[df_temp.id == '0A0AA9C21C5D']\n",
    "sorted_disc_ids = sorted([id_ for id_ in df_temp.discourse_id])\n",
    "df_temp.head()"
   ]
  },
  {
   "cell_type": "code",
   "execution_count": 17,
   "id": "d6d5f525",
   "metadata": {},
   "outputs": [],
   "source": [
    "def test_prediction_string():\n",
    "    \"\"\" test to see if prediction string is created by whitespace separation \"\"\"\n",
    "    for text, prediction_string in zip(df_train.discourse_text, df_train.predictionstring):\n",
    "        text_ids = ' '.join([str(i) for i, _ in enumerate(text.split(), int(prediction_string.split()[0]))])\n",
    "        equality = text_ids == prediction_string\n",
    "        break\n",
    "        ##try:\n",
    "         #   assert text_ids == prediction_string\n",
    "        #except:\n",
    "        #    print(text, text_ids, prediction_string)\n",
    "test_prediction_string()"
   ]
  },
  {
   "cell_type": "code",
   "execution_count": 23,
   "id": "6683243c",
   "metadata": {},
   "outputs": [
    {
     "name": "stdout",
     "output_type": "stream",
     "text": [
      "22\n",
      "22\n"
     ]
    }
   ],
   "source": [
    "print(len(df_temp.discourse_text[96560].split()))\n",
    "print(len(df_temp.predictionstring[96560].split()))"
   ]
  },
  {
   "cell_type": "code",
   "execution_count": 24,
   "id": "e46295c9",
   "metadata": {},
   "outputs": [
    {
     "data": {
      "text/plain": [
       "'As shown back in 1960, segregationists in the Louisiana legislature nearly succeeded in replacing Democratic electors with new electors who would oppose John F. Kennedy so that a popular vote for Kennedy would not have actually gone to Kennedy. Also, due to the winner-take-all system, candidates do not spend time in states they know they have no chance in winning, it is obvious that they just want to win and you can not trust those candidates, especially the people who promise to do things they know they can not fulfill. The electors that \"the people vote for\" do not want to help their state, they do not even care for the needs of the people, they are just there for the money '"
      ]
     },
     "execution_count": 24,
     "metadata": {},
     "output_type": "execute_result"
    }
   ],
   "source": [
    "df_temp.discourse_text[96561]"
   ]
  },
  {
   "cell_type": "code",
   "execution_count": 26,
   "id": "babc2c50",
   "metadata": {},
   "outputs": [
    {
     "data": {
      "text/plain": [
       "0                         Lead 1\n",
       "1                     Position 1\n",
       "2                     Evidence 1\n",
       "3                     Evidence 2\n",
       "4                        Claim 1\n",
       "                   ...          \n",
       "144288                Evidence 2\n",
       "144289                Evidence 3\n",
       "144290                Position 1\n",
       "144291                Evidence 4\n",
       "144292    Concluding Statement 1\n",
       "Name: discourse_type_num, Length: 144293, dtype: object"
      ]
     },
     "execution_count": 26,
     "metadata": {},
     "output_type": "execute_result"
    }
   ],
   "source": [
    "df_train.discourse_type_num"
   ]
  },
  {
   "cell_type": "code",
   "execution_count": null,
   "id": "5ea0aab7",
   "metadata": {},
   "outputs": [],
   "source": []
  }
 ],
 "metadata": {
  "kernelspec": {
   "display_name": "argument-mining",
   "language": "python",
   "name": "argument-mining"
  },
  "language_info": {
   "codemirror_mode": {
    "name": "ipython",
    "version": 3
   },
   "file_extension": ".py",
   "mimetype": "text/x-python",
   "name": "python",
   "nbconvert_exporter": "python",
   "pygments_lexer": "ipython3",
   "version": "3.8.12"
  }
 },
 "nbformat": 4,
 "nbformat_minor": 5
}
