{
 "cells": [
  {
   "cell_type": "code",
   "execution_count": 1,
   "id": "427d5d28",
   "metadata": {
    "_cell_guid": "b1076dfc-b9ad-4769-8c92-a6c4dae69d19",
    "_uuid": "8f2839f25d086af736a60e9eeb907d3b93b6e0e5",
    "execution": {
     "iopub.execute_input": "2022-02-15T20:02:00.708560Z",
     "iopub.status.busy": "2022-02-15T20:02:00.706789Z",
     "iopub.status.idle": "2022-02-15T20:02:00.715472Z",
     "shell.execute_reply": "2022-02-15T20:02:00.716181Z"
    },
    "papermill": {
     "duration": 0.020365,
     "end_time": "2022-02-15T20:02:00.716546",
     "exception": false,
     "start_time": "2022-02-15T20:02:00.696181",
     "status": "completed"
    },
    "tags": []
   },
   "outputs": [],
   "source": [
    "# This Python 3 environment comes with many helpful analytics libraries installed\n",
    "# It is defined by the kaggle/python Docker image: https://github.com/kaggle/docker-python\n",
    "# For example, here's several helpful packages to load\n",
    "\n",
    "import numpy as np # linear algebra\n",
    "import pandas as pd # data processing, CSV file I/O (e.g. pd.read_csv)\n",
    "\n",
    "# Input data files are available in the read-only \"../input/\" directory\n",
    "# For example, running this (by clicking run or pressing Shift+Enter) will list all files under the input directory\n",
    "\n",
    "import os\n",
    "for dirname, _, filenames in os.walk('/kaggle/input'):\n",
    "    for filename in filenames:\n",
    "        print(os.path.join(dirname, filename))\n",
    "\n",
    "# You can write up to 20GB to the current directory (/kaggle/working/) that gets preserved as output when you create a version using \"Save & Run All\" \n",
    "# You can also write temporary files to /kaggle/temp/, but they won't be saved outside of the current session"
   ]
  },
  {
   "cell_type": "code",
   "execution_count": null,
   "id": "2898f298",
   "metadata": {
    "papermill": {
     "duration": 0.004644,
     "end_time": "2022-02-15T20:02:00.727023",
     "exception": false,
     "start_time": "2022-02-15T20:02:00.722379",
     "status": "completed"
    },
    "tags": []
   },
   "outputs": [],
   "source": []
  },
  {
   "cell_type": "markdown",
   "id": "738dad7e",
   "metadata": {
    "papermill": {
     "duration": 0.003832,
     "end_time": "2022-02-15T20:02:00.735791",
     "exception": false,
     "start_time": "2022-02-15T20:02:00.731959",
     "status": "completed"
    },
    "tags": []
   },
   "source": [
    "# test notebook save GitHub"
   ]
  }
 ],
 "metadata": {
  "kernelspec": {
   "display_name": "Python 3",
   "language": "python",
   "name": "python3"
  },
  "language_info": {
   "codemirror_mode": {
    "name": "ipython",
    "version": 3
   },
   "file_extension": ".py",
   "mimetype": "text/x-python",
   "name": "python",
   "nbconvert_exporter": "python",
   "pygments_lexer": "ipython3",
   "version": "3.7.12"
  },
  "papermill": {
   "default_parameters": {},
   "duration": 9.451282,
   "end_time": "2022-02-15T20:02:01.352533",
   "environment_variables": {},
   "exception": null,
   "input_path": "__notebook__.ipynb",
   "output_path": "__notebook__.ipynb",
   "parameters": {},
   "start_time": "2022-02-15T20:01:51.901251",
   "version": "2.3.3"
  }
 },
 "nbformat": 4,
 "nbformat_minor": 5
}
