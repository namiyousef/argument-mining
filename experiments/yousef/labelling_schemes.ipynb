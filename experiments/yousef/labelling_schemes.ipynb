{
 "cells": [
  {
   "cell_type": "markdown",
   "id": "a16d3f43",
   "metadata": {},
   "source": [
    "# Labelling Schemes"
   ]
  },
  {
   "cell_type": "markdown",
   "id": "4c4c0535",
   "metadata": {},
   "source": [
    "### Imports"
   ]
  },
  {
   "cell_type": "code",
   "execution_count": 79,
   "id": "db87fe2d",
   "metadata": {},
   "outputs": [],
   "source": [
    "# -- public imports\n",
    "\n",
    "import os\n",
    "import pandas as pd"
   ]
  },
  {
   "cell_type": "code",
   "execution_count": 80,
   "id": "8358055f",
   "metadata": {},
   "outputs": [],
   "source": [
    "# -- private import"
   ]
  },
  {
   "cell_type": "code",
   "execution_count": 81,
   "id": "658532fc",
   "metadata": {},
   "outputs": [
    {
     "name": "stdout",
     "output_type": "stream",
     "text": [
      "The autoreload extension is already loaded. To reload it, use:\n",
      "  %reload_ext autoreload\n"
     ]
    }
   ],
   "source": [
    "# -- dev imports\n",
    "%load_ext autoreload\n",
    "%autoreload 2\n"
   ]
  },
  {
   "cell_type": "markdown",
   "id": "fdfafee3",
   "metadata": {},
   "source": [
    "### Data"
   ]
  },
  {
   "cell_type": "code",
   "execution_count": 82,
   "id": "3d42f99b",
   "metadata": {},
   "outputs": [
    {
     "data": {
      "text/html": [
       "<div>\n",
       "<style scoped>\n",
       "    .dataframe tbody tr th:only-of-type {\n",
       "        vertical-align: middle;\n",
       "    }\n",
       "\n",
       "    .dataframe tbody tr th {\n",
       "        vertical-align: top;\n",
       "    }\n",
       "\n",
       "    .dataframe thead th {\n",
       "        text-align: right;\n",
       "    }\n",
       "</style>\n",
       "<table border=\"1\" class=\"dataframe\">\n",
       "  <thead>\n",
       "    <tr style=\"text-align: right;\">\n",
       "      <th></th>\n",
       "      <th>label_type</th>\n",
       "      <th>label</th>\n",
       "      <th>text</th>\n",
       "      <th>span_start</th>\n",
       "      <th>span_end</th>\n",
       "      <th>doc_id</th>\n",
       "    </tr>\n",
       "  </thead>\n",
       "  <tbody>\n",
       "    <tr>\n",
       "      <th>0</th>\n",
       "      <td>O</td>\n",
       "      <td>Other</td>\n",
       "      <td>Should students be taught to compete or to coo...</td>\n",
       "      <td>0</td>\n",
       "      <td>503</td>\n",
       "      <td>essay001</td>\n",
       "    </tr>\n",
       "    <tr>\n",
       "      <th>1</th>\n",
       "      <td>T1</td>\n",
       "      <td>MajorClaim</td>\n",
       "      <td>we should attach more importance to cooperatio...</td>\n",
       "      <td>503</td>\n",
       "      <td>575</td>\n",
       "      <td>essay001</td>\n",
       "    </tr>\n",
       "    <tr>\n",
       "      <th>2</th>\n",
       "      <td>O</td>\n",
       "      <td>Other</td>\n",
       "      <td>.\\nFirst of all,</td>\n",
       "      <td>575</td>\n",
       "      <td>591</td>\n",
       "      <td>essay001</td>\n",
       "    </tr>\n",
       "    <tr>\n",
       "      <th>3</th>\n",
       "      <td>T3</td>\n",
       "      <td>Claim</td>\n",
       "      <td>through cooperation, children can learn about ...</td>\n",
       "      <td>591</td>\n",
       "      <td>714</td>\n",
       "      <td>essay001</td>\n",
       "    </tr>\n",
       "    <tr>\n",
       "      <th>4</th>\n",
       "      <td>O</td>\n",
       "      <td>Other</td>\n",
       "      <td>.</td>\n",
       "      <td>714</td>\n",
       "      <td>716</td>\n",
       "      <td>essay001</td>\n",
       "    </tr>\n",
       "  </tbody>\n",
       "</table>\n",
       "</div>"
      ],
      "text/plain": [
       "  label_type       label                                               text  \\\n",
       "0          O       Other  Should students be taught to compete or to coo...   \n",
       "1         T1  MajorClaim  we should attach more importance to cooperatio...   \n",
       "2          O       Other                                  .\\nFirst of all,    \n",
       "3         T3       Claim  through cooperation, children can learn about ...   \n",
       "4          O       Other                                                 .    \n",
       "\n",
       "   span_start  span_end    doc_id  \n",
       "0           0       503  essay001  \n",
       "1         503       575  essay001  \n",
       "2         575       591  essay001  \n",
       "3         591       714  essay001  \n",
       "4         714       716  essay001  "
      ]
     },
     "execution_count": 82,
     "metadata": {},
     "output_type": "execute_result"
    }
   ],
   "source": [
    "base_path = '../../data/UCL/dataset2'\n",
    "dataset_path = os.path.join(base_path, 'df_with_other.json')\n",
    "df = pd.read_json(dataset_path)\n",
    "df.head()"
   ]
  },
  {
   "cell_type": "code",
   "execution_count": 83,
   "id": "fd18c499",
   "metadata": {},
   "outputs": [
    {
     "name": "stdout",
     "output_type": "stream",
     "text": [
      "['Other' 'MajorClaim' 'Claim' 'Premise']\n"
     ]
    }
   ],
   "source": [
    "print(df.label.unique())"
   ]
  },
  {
   "cell_type": "code",
   "execution_count": 85,
   "id": "9a21c880",
   "metadata": {},
   "outputs": [],
   "source": [
    "df_label_map = pd.DataFrame(data={\n",
    "    'label': ['Other', 'MajorClaim', 'Claim', 'Premise']\n",
    "}).reset_index().rename(columns={'index':'label_id'})\n",
    "df_label_map\n",
    "\n",
    "df_label_map.to_json(\n",
    "    os.path.join(base_path, 'df_label_map_general.json'),\n",
    ")"
   ]
  },
  {
   "cell_type": "markdown",
   "id": "45fa4b68",
   "metadata": {},
   "source": [
    "### Add Prediction String"
   ]
  },
  {
   "cell_type": "code",
   "execution_count": 86,
   "id": "613ec6eb",
   "metadata": {},
   "outputs": [],
   "source": [
    "prediction_strings = []\n",
    "start_id = 1\n",
    "for (label, text, doc_id) in df[['label', 'text', 'doc_id']].itertuples(index=False):\n",
    "    text_split = text.split()\n",
    "    end_id = start_id + len(text_split)\n",
    "    prediction_strings.append(\n",
    "        [num for num in range(start_id, end_id)]\n",
    "    )\n",
    "    start_id = end_id\n"
   ]
  },
  {
   "cell_type": "code",
   "execution_count": 87,
   "id": "6dfafa4a",
   "metadata": {},
   "outputs": [],
   "source": [
    "df['predictionString'] = prediction_strings"
   ]
  },
  {
   "cell_type": "code",
   "execution_count": 88,
   "id": "8ab4cc96",
   "metadata": {},
   "outputs": [
    {
     "data": {
      "text/html": [
       "<div>\n",
       "<style scoped>\n",
       "    .dataframe tbody tr th:only-of-type {\n",
       "        vertical-align: middle;\n",
       "    }\n",
       "\n",
       "    .dataframe tbody tr th {\n",
       "        vertical-align: top;\n",
       "    }\n",
       "\n",
       "    .dataframe thead th {\n",
       "        text-align: right;\n",
       "    }\n",
       "</style>\n",
       "<table border=\"1\" class=\"dataframe\">\n",
       "  <thead>\n",
       "    <tr style=\"text-align: right;\">\n",
       "      <th></th>\n",
       "      <th>label_type</th>\n",
       "      <th>label</th>\n",
       "      <th>text</th>\n",
       "      <th>span_start</th>\n",
       "      <th>span_end</th>\n",
       "      <th>doc_id</th>\n",
       "      <th>predictionString</th>\n",
       "    </tr>\n",
       "  </thead>\n",
       "  <tbody>\n",
       "    <tr>\n",
       "      <th>0</th>\n",
       "      <td>O</td>\n",
       "      <td>Other</td>\n",
       "      <td>Should students be taught to compete or to coo...</td>\n",
       "      <td>0</td>\n",
       "      <td>503</td>\n",
       "      <td>essay001</td>\n",
       "      <td>[1, 2, 3, 4, 5, 6, 7, 8, 9, 10, 11, 12, 13, 14...</td>\n",
       "    </tr>\n",
       "    <tr>\n",
       "      <th>1</th>\n",
       "      <td>T1</td>\n",
       "      <td>MajorClaim</td>\n",
       "      <td>we should attach more importance to cooperatio...</td>\n",
       "      <td>503</td>\n",
       "      <td>575</td>\n",
       "      <td>essay001</td>\n",
       "      <td>[83, 84, 85, 86, 87, 88, 89, 90, 91, 92]</td>\n",
       "    </tr>\n",
       "    <tr>\n",
       "      <th>2</th>\n",
       "      <td>O</td>\n",
       "      <td>Other</td>\n",
       "      <td>.\\nFirst of all,</td>\n",
       "      <td>575</td>\n",
       "      <td>591</td>\n",
       "      <td>essay001</td>\n",
       "      <td>[93, 94, 95, 96]</td>\n",
       "    </tr>\n",
       "    <tr>\n",
       "      <th>3</th>\n",
       "      <td>T3</td>\n",
       "      <td>Claim</td>\n",
       "      <td>through cooperation, children can learn about ...</td>\n",
       "      <td>591</td>\n",
       "      <td>714</td>\n",
       "      <td>essay001</td>\n",
       "      <td>[97, 98, 99, 100, 101, 102, 103, 104, 105, 106...</td>\n",
       "    </tr>\n",
       "    <tr>\n",
       "      <th>4</th>\n",
       "      <td>O</td>\n",
       "      <td>Other</td>\n",
       "      <td>.</td>\n",
       "      <td>714</td>\n",
       "      <td>716</td>\n",
       "      <td>essay001</td>\n",
       "      <td>[115]</td>\n",
       "    </tr>\n",
       "  </tbody>\n",
       "</table>\n",
       "</div>"
      ],
      "text/plain": [
       "  label_type       label                                               text  \\\n",
       "0          O       Other  Should students be taught to compete or to coo...   \n",
       "1         T1  MajorClaim  we should attach more importance to cooperatio...   \n",
       "2          O       Other                                  .\\nFirst of all,    \n",
       "3         T3       Claim  through cooperation, children can learn about ...   \n",
       "4          O       Other                                                 .    \n",
       "\n",
       "   span_start  span_end    doc_id  \\\n",
       "0           0       503  essay001   \n",
       "1         503       575  essay001   \n",
       "2         575       591  essay001   \n",
       "3         591       714  essay001   \n",
       "4         714       716  essay001   \n",
       "\n",
       "                                    predictionString  \n",
       "0  [1, 2, 3, 4, 5, 6, 7, 8, 9, 10, 11, 12, 13, 14...  \n",
       "1           [83, 84, 85, 86, 87, 88, 89, 90, 91, 92]  \n",
       "2                                   [93, 94, 95, 96]  \n",
       "3  [97, 98, 99, 100, 101, 102, 103, 104, 105, 106...  \n",
       "4                                              [115]  "
      ]
     },
     "execution_count": 88,
     "metadata": {},
     "output_type": "execute_result"
    }
   ],
   "source": [
    "df.head()"
   ]
  },
  {
   "cell_type": "markdown",
   "id": "048cc521",
   "metadata": {},
   "source": [
    "### Labelling strategy"
   ]
  },
  {
   "cell_type": "code",
   "execution_count": 89,
   "id": "0304ef2e",
   "metadata": {},
   "outputs": [],
   "source": [
    "def _label_bio(length, label, add_end=False):\n",
    "    \"\"\"\n",
    "    For cases where argument segment is only 1 word long, beginning given preference over end\n",
    "    \"\"\"\n",
    "    labels = [f'I-{label}'] if label != 'Other' else ['O']\n",
    "    labels *= length\n",
    "    \n",
    "    if add_end:\n",
    "        if label != 'Other':\n",
    "            labels[-1] = f'E-{label}'\n",
    "    \n",
    "    if label != 'Other':\n",
    "        labels[0] = f'B-{label}'\n",
    "        \n",
    "    return labels\n",
    "        \n",
    "df['label_bio'] = df[['label', 'predictionString']].apply(\n",
    "    lambda x: _label_bio(len(x['predictionString']), x['label']), axis=1\n",
    ")\n",
    "df['label_bieo'] = df[['label', 'predictionString']].apply(\n",
    "    lambda x: _label_bio(len(x['predictionString']), x['label'], True), axis=1\n",
    ")"
   ]
  },
  {
   "cell_type": "code",
   "execution_count": 90,
   "id": "90c5631b",
   "metadata": {},
   "outputs": [
    {
     "name": "stdout",
     "output_type": "stream",
     "text": [
      "[list(['B-MajorClaim', 'I-MajorClaim', 'I-MajorClaim', 'I-MajorClaim', 'I-MajorClaim', 'I-MajorClaim', 'I-MajorClaim', 'I-MajorClaim', 'I-MajorClaim', 'I-MajorClaim'])\n",
      " list(['B-MajorClaim', 'I-MajorClaim', 'I-MajorClaim', 'I-MajorClaim', 'I-MajorClaim', 'I-MajorClaim', 'I-MajorClaim', 'I-MajorClaim', 'I-MajorClaim', 'E-MajorClaim'])]\n"
     ]
    }
   ],
   "source": [
    "print(df[['label_bio', 'label_bieo']].values[1])"
   ]
  },
  {
   "cell_type": "code",
   "execution_count": 92,
   "id": "94fc88bf",
   "metadata": {},
   "outputs": [],
   "source": [
    "df.to_json(\n",
    "    os.path.join(base_path, 'df_labels_general.json'),\n",
    ")"
   ]
  },
  {
   "cell_type": "markdown",
   "id": "296308ee",
   "metadata": {},
   "source": [
    "### Add label keys for other labelling strategies"
   ]
  },
  {
   "cell_type": "code",
   "execution_count": 93,
   "id": "2952cc64",
   "metadata": {},
   "outputs": [],
   "source": [
    "def _get_label_maps(unique_labels, strategy):\n",
    "    unique_labels = [label for label in unique_labels if label != 'Other']\n",
    "    labels = ['O']\n",
    "    if strategy == 'bio':\n",
    "        for label in unique_labels:\n",
    "            labels.append(f'B-{label}')\n",
    "            labels.append(f'I-{label}')\n",
    "    elif strategy == 'bieo':\n",
    "        for label in unique_labels:\n",
    "            labels.append(f'B-{label}')\n",
    "            labels.append(f'I-{label}')\n",
    "            labels.append(f'E-{label}')\n",
    "    elif strategy == 'bixo':\n",
    "        labels.append('X')\n",
    "        for label in unique_labels:\n",
    "            labels.append(f'B-{label}')\n",
    "            labels.append(f'I-{label}')\n",
    "    else:\n",
    "        raise NotImplementedError(f'Strategy {strategy} has not implementation yet.')\n",
    "        \n",
    "    return pd.DataFrame({\n",
    "        'label': labels\n",
    "    }).reset_index().rename(columns={'index':'label_id'})\n",
    "        \n",
    "# TODO should be do a biexo as well?"
   ]
  },
  {
   "cell_type": "code",
   "execution_count": 95,
   "id": "0f43d7e3",
   "metadata": {},
   "outputs": [],
   "source": [
    "_get_label_maps(unique_labels, 'bio').to_json(\n",
    "    os.path.join(base_path, 'df_label_map_bio.json')\n",
    ")\n",
    "_get_label_maps(unique_labels, 'bieo').to_json(\n",
    "    os.path.join(base_path, 'df_label_map_bieo.json')\n",
    ")\n",
    "_get_label_maps(unique_labels, 'bixo').to_json(\n",
    "    os.path.join(base_path, 'df_label_map_bixo.json')\n",
    ")"
   ]
  },
  {
   "cell_type": "code",
   "execution_count": null,
   "id": "aea31d6e",
   "metadata": {},
   "outputs": [],
   "source": []
  }
 ],
 "metadata": {
  "kernelspec": {
   "display_name": "argument-mining",
   "language": "python",
   "name": "argument-mining"
  },
  "language_info": {
   "codemirror_mode": {
    "name": "ipython",
    "version": 3
   },
   "file_extension": ".py",
   "mimetype": "text/x-python",
   "name": "python",
   "nbconvert_exporter": "python",
   "pygments_lexer": "ipython3",
   "version": "3.8.12"
  }
 },
 "nbformat": 4,
 "nbformat_minor": 5
}
