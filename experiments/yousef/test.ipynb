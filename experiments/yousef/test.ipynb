{
  "cells": [
    {
      "cell_type": "markdown",
      "source": [
        "# Test File"
      ],
      "metadata": {
        "id": "iqUtMCs82b4U"
      },
      "id": "iqUtMCs82b4U"
    },
    {
      "cell_type": "code",
      "source": [
        "REPOSITORY_NAME = 'argument-mining'; YOUR_NAME = 'yousef'\n",
        "import os\n",
        "\n",
        "try:\n",
        "  from google.colab import drive\n",
        "  drive.mount('/content/drive')\n",
        "  print('Drive successfully mounted.')\n",
        "  base_path = f'drive/MyDrive/{REPOSITORY_NAME}'\n",
        "  requirements_path = os.path.join(base_path, f'experiments/{YOUR_NAME}/requirements.txt')\n",
        "  !pip install $base_path\n",
        "  !pip install -r $requirements_path\n",
        "except:\n",
        "  print('Google Drive import failed... continuing anyways...')\n",
        "  base_path = '../../'"
      ],
      "metadata": {
        "id": "6wYF-VaoYc_H",
        "outputId": "cee38613-c1c7-40c6-f224-d362cc466f7a",
        "colab": {
          "base_uri": "https://localhost:8080/"
        }
      },
      "id": "6wYF-VaoYc_H",
      "execution_count": 3,
      "outputs": [
        {
          "output_type": "stream",
          "name": "stdout",
          "text": [
            "Mounted at /content/drive\n",
            "Drive successfully mounted.\n",
            "Processing ./drive/MyDrive/argument-mining\n",
            "\u001b[33m  DEPRECATION: A future pip version will change local packages to be built in-place without first copying to a temporary directory. We recommend you use --use-feature=in-tree-build to test your packages with this new behavior before it becomes the default.\n",
            "   pip 21.3 will remove support for this functionality. You can find discussion regarding this at https://github.com/pypa/pip/issues/7555.\u001b[0m\n",
            "Building wheels for collected packages: ArgMiner\n",
            "  Building wheel for ArgMiner (setup.py) ... \u001b[?25l\u001b[?25hdone\n",
            "  Created wheel for ArgMiner: filename=ArgMiner-0.0.1-py3-none-any.whl size=1644 sha256=dade86318530e2b97f8cbe27762285b510ec9d1c7a3135c3a5e859a97af3d7d9\n",
            "  Stored in directory: /root/.cache/pip/wheels/b3/4a/60/7e7788d68cd98674da14cff4bcdd1bc397f8d6ca34967d1251\n",
            "Successfully built ArgMiner\n",
            "Installing collected packages: ArgMiner\n",
            "Successfully installed ArgMiner-0.0.1\n",
            "Requirement already satisfied: pandas in /usr/local/lib/python3.7/dist-packages (from -r drive/MyDrive/argument-mining/experiments/yousef/requirements.txt (line 1)) (1.3.5)\n",
            "Requirement already satisfied: numpy>=1.17.3 in /usr/local/lib/python3.7/dist-packages (from pandas->-r drive/MyDrive/argument-mining/experiments/yousef/requirements.txt (line 1)) (1.19.5)\n",
            "Requirement already satisfied: python-dateutil>=2.7.3 in /usr/local/lib/python3.7/dist-packages (from pandas->-r drive/MyDrive/argument-mining/experiments/yousef/requirements.txt (line 1)) (2.8.2)\n",
            "Requirement already satisfied: pytz>=2017.3 in /usr/local/lib/python3.7/dist-packages (from pandas->-r drive/MyDrive/argument-mining/experiments/yousef/requirements.txt (line 1)) (2018.9)\n",
            "Requirement already satisfied: six>=1.5 in /usr/local/lib/python3.7/dist-packages (from python-dateutil>=2.7.3->pandas->-r drive/MyDrive/argument-mining/experiments/yousef/requirements.txt (line 1)) (1.15.0)\n"
          ]
        }
      ]
    },
    {
      "cell_type": "code",
      "source": [
        "import argminer"
      ],
      "metadata": {
        "id": "6Teo6X3OY_JG",
        "outputId": "c264c4f4-9ae7-403f-8c55-0859258ced1d",
        "colab": {
          "base_uri": "https://localhost:8080/"
        }
      },
      "id": "6Teo6X3OY_JG",
      "execution_count": 4,
      "outputs": [
        {
          "output_type": "stream",
          "name": "stdout",
          "text": [
            "Import of ArgMiner successful\n"
          ]
        }
      ]
    }
  ],
  "metadata": {
    "kernelspec": {
      "display_name": "Python 3",
      "name": "python3"
    },
    "language_info": {
      "name": "python"
    },
    "colab": {
      "name": "test.ipynb",
      "provenance": []
    }
  },
  "nbformat": 4,
  "nbformat_minor": 5
}