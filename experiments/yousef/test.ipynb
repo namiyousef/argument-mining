{
  "cells": [
    {
      "cell_type": "code",
      "execution_count": 1,
      "id": "192c6c09",
      "metadata": {
        "id": "192c6c09"
      },
      "outputs": [],
      "source": [
        "import numpy as np"
      ]
    },
    {
      "cell_type": "code",
      "source": [
        "print('Persist change on Colab')"
      ],
      "metadata": {
        "id": "iKPpN44FnbM3",
        "outputId": "2600f2aa-44a4-42fc-9f8d-a698835a236d",
        "colab": {
          "base_uri": "https://localhost:8080/"
        }
      },
      "id": "iKPpN44FnbM3",
      "execution_count": 2,
      "outputs": [
        {
          "output_type": "stream",
          "name": "stdout",
          "text": [
            "Persist change on Colab\n"
          ]
        }
      ]
    },
    {
      "cell_type": "code",
      "source": [
        "!git status"
      ],
      "metadata": {
        "id": "2UXsZoVQngSh",
        "outputId": "fb74b47d-5a8c-4428-a89e-310ddd321906",
        "colab": {
          "base_uri": "https://localhost:8080/"
        }
      },
      "id": "2UXsZoVQngSh",
      "execution_count": 3,
      "outputs": [
        {
          "output_type": "stream",
          "name": "stdout",
          "text": [
            "fatal: not a git repository (or any of the parent directories): .git\n"
          ]
        }
      ]
    },
    {
      "cell_type": "code",
      "source": [
        ""
      ],
      "metadata": {
        "id": "HZ5EADgMnnLY"
      },
      "id": "HZ5EADgMnnLY",
      "execution_count": null,
      "outputs": []
    }
  ],
  "metadata": {
    "kernelspec": {
      "display_name": "COMP0080",
      "language": "python",
      "name": "comp0080"
    },
    "language_info": {
      "codemirror_mode": {
        "name": "ipython",
        "version": 3
      },
      "file_extension": ".py",
      "mimetype": "text/x-python",
      "name": "python",
      "nbconvert_exporter": "python",
      "pygments_lexer": "ipython3",
      "version": "3.8.12"
    },
    "colab": {
      "name": "test.ipynb",
      "provenance": []
    }
  },
  "nbformat": 4,
  "nbformat_minor": 5
}