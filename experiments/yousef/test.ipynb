{
  "cells": [
    {
      "cell_type": "markdown",
      "source": [
        "# Test File"
      ],
      "metadata": {
        "id": "iqUtMCs82b4U"
      },
      "id": "iqUtMCs82b4U"
    },
    {
      "cell_type": "code",
      "execution_count": 22,
      "id": "192c6c09",
      "metadata": {
        "colab": {
          "base_uri": "https://localhost:8080/"
        },
        "id": "192c6c09",
        "outputId": "e1aafe02-1d01-4768-ea3f-6f556b526184"
      },
      "outputs": [
        {
          "output_type": "stream",
          "name": "stdout",
          "text": [
            "fatal: not a git repository (or any of the parent directories): .git\n"
          ]
        }
      ],
      "source": [
        "REPOSITORY_NAME = 'argument-mining'\n",
        "\n",
        "try:\n",
        "  from google.colab import drive\n",
        "  drive.mount('/content/drive')\n",
        "  print('Drive successfully mounted.')\n",
        "  base_path = '../../'\n",
        "except:\n",
        "  print('Google Drive import failed... continuing anyways...')\n",
        "  base_path = f'drive/MyDrive/{REPOSITORY_NAME}'\n"
      ]
    },
    {
      "cell_type": "code",
      "source": [
        "from google.colab import drive\n",
        "drive.mount('/content/drive')"
      ],
      "metadata": {
        "colab": {
          "base_uri": "https://localhost:8080/"
        },
        "id": "J8NM-zsL2LrA",
        "outputId": "07703387-e6cf-44e3-b9e3-5d4fb927f4a4"
      },
      "id": "J8NM-zsL2LrA",
      "execution_count": 23,
      "outputs": [
        {
          "output_type": "stream",
          "name": "stdout",
          "text": [
            "Mounted at /content/drive\n"
          ]
        }
      ]
    },
    {
      "cell_type": "code",
      "source": [
        "print('Persist change on Colab')"
      ],
      "metadata": {
        "colab": {
          "base_uri": "https://localhost:8080/"
        },
        "id": "iKPpN44FnbM3",
        "outputId": "2600f2aa-44a4-42fc-9f8d-a698835a236d"
      },
      "id": "iKPpN44FnbM3",
      "execution_count": 2,
      "outputs": [
        {
          "output_type": "stream",
          "name": "stdout",
          "text": [
            "Persist change on Colab\n"
          ]
        }
      ]
    },
    {
      "cell_type": "code",
      "source": [
        "!git status"
      ],
      "metadata": {
        "colab": {
          "base_uri": "https://localhost:8080/"
        },
        "id": "2UXsZoVQngSh",
        "outputId": "fb74b47d-5a8c-4428-a89e-310ddd321906"
      },
      "id": "2UXsZoVQngSh",
      "execution_count": 3,
      "outputs": [
        {
          "output_type": "stream",
          "name": "stdout",
          "text": [
            "fatal: not a git repository (or any of the parent directories): .git\n"
          ]
        }
      ]
    },
    {
      "cell_type": "code",
      "source": [
        "!python3 -m venv venv"
      ],
      "metadata": {
        "colab": {
          "base_uri": "https://localhost:8080/"
        },
        "id": "HZ5EADgMnnLY",
        "outputId": "22dd1540-858c-45c0-a68a-be5df4b50e99"
      },
      "id": "HZ5EADgMnnLY",
      "execution_count": 5,
      "outputs": [
        {
          "output_type": "stream",
          "name": "stdout",
          "text": [
            "Error: Command '['/content/venv/bin/python3', '-Im', 'ensurepip', '--upgrade', '--default-pip']' returned non-zero exit status 1.\n"
          ]
        }
      ]
    },
    {
      "cell_type": "code",
      "source": [
        "!source venv/bin/activate"
      ],
      "metadata": {
        "colab": {
          "base_uri": "https://localhost:8080/"
        },
        "id": "iMYW0oi7vHIB",
        "outputId": "203b1d3e-7fa5-4368-b0c6-f9278ddb9ba0"
      },
      "id": "iMYW0oi7vHIB",
      "execution_count": 6,
      "outputs": [
        {
          "output_type": "stream",
          "name": "stdout",
          "text": [
            "/bin/bash: venv/bin/activate: No such file or directory\n"
          ]
        }
      ]
    },
    {
      "cell_type": "code",
      "source": [
        "import os"
      ],
      "metadata": {
        "id": "91S57gYxvNz3"
      },
      "id": "91S57gYxvNz3",
      "execution_count": 8,
      "outputs": []
    },
    {
      "cell_type": "code",
      "source": [
        "!which python"
      ],
      "metadata": {
        "colab": {
          "base_uri": "https://localhost:8080/"
        },
        "id": "zzRoNOecvTUf",
        "outputId": "4616d11a-2749-49d7-9cc3-18f5218f966b"
      },
      "id": "zzRoNOecvTUf",
      "execution_count": 9,
      "outputs": [
        {
          "output_type": "stream",
          "name": "stdout",
          "text": [
            "/usr/local/bin/python\n"
          ]
        }
      ]
    },
    {
      "cell_type": "code",
      "source": [
        "!source venv/bin/activate"
      ],
      "metadata": {
        "colab": {
          "base_uri": "https://localhost:8080/"
        },
        "id": "1rmSA0L2vXtB",
        "outputId": "baf1f0a7-4a70-4231-bdc1-e562becd64d8"
      },
      "id": "1rmSA0L2vXtB",
      "execution_count": 10,
      "outputs": [
        {
          "output_type": "stream",
          "name": "stdout",
          "text": [
            "/bin/bash: venv/bin/activate: No such file or directory\n"
          ]
        }
      ]
    },
    {
      "cell_type": "code",
      "source": [
        ""
      ],
      "metadata": {
        "id": "IYX_SPCxvZvo"
      },
      "id": "IYX_SPCxvZvo",
      "execution_count": null,
      "outputs": []
    }
  ],
  "metadata": {
    "kernelspec": {
      "display_name": "COMP0080",
      "language": "python",
      "name": "comp0080"
    },
    "language_info": {
      "codemirror_mode": {
        "name": "ipython",
        "version": 3
      },
      "file_extension": ".py",
      "mimetype": "text/x-python",
      "name": "python",
      "nbconvert_exporter": "python",
      "pygments_lexer": "ipython3",
      "version": "3.8.12"
    },
    "colab": {
      "name": "test.ipynb",
      "provenance": []
    }
  },
  "nbformat": 4,
  "nbformat_minor": 5
}