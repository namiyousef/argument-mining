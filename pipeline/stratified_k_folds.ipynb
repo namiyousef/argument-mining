{
 "cells": [
  {
   "cell_type": "code",
   "execution_count": null,
   "id": "48526e00",
   "metadata": {},
   "outputs": [],
   "source": [
    "# Note: this notebook is a commented version of a notebook shared on kaggle!"
   ]
  },
  {
   "cell_type": "code",
   "execution_count": 1,
   "id": "56d03522",
   "metadata": {
    "execution": {
     "iopub.execute_input": "2022-01-11T08:12:04.265417Z",
     "iopub.status.busy": "2022-01-11T08:12:04.264529Z",
     "iopub.status.idle": "2022-01-11T08:12:05.284426Z",
     "shell.execute_reply": "2022-01-11T08:12:05.284875Z",
     "shell.execute_reply.started": "2022-01-11T08:10:56.674544Z"
    },
    "papermill": {
     "duration": 1.029031,
     "end_time": "2022-01-11T08:12:05.285054",
     "exception": false,
     "start_time": "2022-01-11T08:12:04.256023",
     "status": "completed"
    },
    "tags": []
   },
   "outputs": [],
   "source": [
    "import pandas as pd\n",
    "\n",
    "from sklearn.model_selection import KFold\n",
    "from iterstrat.ml_stratifiers import MultilabelStratifiedKFold"
   ]
  },
  {
   "cell_type": "code",
   "execution_count": 2,
   "id": "80efa5b7",
   "metadata": {},
   "outputs": [],
   "source": [
    "# installation: pip install iterative-stratification"
   ]
  },
  {
   "cell_type": "code",
   "execution_count": 6,
   "id": "a4cd849f",
   "metadata": {
    "execution": {
     "iopub.execute_input": "2022-01-11T08:12:05.300983Z",
     "iopub.status.busy": "2022-01-11T08:12:05.300287Z",
     "iopub.status.idle": "2022-01-11T08:12:09.902357Z",
     "shell.execute_reply": "2022-01-11T08:12:09.901403Z",
     "shell.execute_reply.started": "2022-01-11T08:11:26.601473Z"
    },
    "papermill": {
     "duration": 4.613868,
     "end_time": "2022-01-11T08:12:09.902499",
     "exception": false,
     "start_time": "2022-01-11T08:12:05.288631",
     "status": "completed"
    },
    "tags": []
   },
   "outputs": [],
   "source": [
    "# read data\n",
    "df = pd.read_csv(\"/Users/fededagos/Dropbox/NLP project/data/train.csv\")\n",
    "\n",
    "# Transform categorical labels to dummy variables. Group by id. Sum over dummy. \n",
    "dfx = pd.get_dummies(df, columns=[\"discourse_type\"]).groupby([\"id\"], as_index=False).sum()\n",
    "\n",
    "# Generate name for the dummy columns\n",
    "dummy_cols = [c for c in dfx.columns if c.startswith(\"discourse_type_\") or c == \"id\" and c != \"discourse_type_num\"]\n",
    "# dfx is now only the dataset with dummy columns selected: don't need to pass the data to do the splits\n",
    "dfx = dfx[dummy_cols]"
   ]
  },
  {
   "cell_type": "code",
   "execution_count": null,
   "id": "0fe70e2c",
   "metadata": {},
   "outputs": [],
   "source": [
    "# At this point dfx is a dataframe with ids, counting how many discourse types are present in that id!\n",
    "# (Each id is a file (15594))"
   ]
  },
  {
   "cell_type": "code",
   "execution_count": 22,
   "id": "ab16653b",
   "metadata": {},
   "outputs": [
    {
     "name": "stdout",
     "output_type": "stream",
     "text": [
      "12477 3117\n",
      "12474 3120\n",
      "12475 3119\n",
      "12475 3119\n",
      "12475 3119\n",
      "0    28997\n",
      "2    28968\n",
      "3    28904\n",
      "1    28737\n",
      "4    28687\n",
      "Name: kfold, dtype: int64\n"
     ]
    }
   ],
   "source": [
    "# Generate cross validation object\n",
    "mskf = MultilabelStratifiedKFold(n_splits=5, shuffle=True, random_state=42)\n",
    "\n",
    "# Extract labels\n",
    "labels = [c for c in dfx.columns if c != \"id\"]\n",
    "dfx_labels = dfx[labels]\n",
    "\n",
    "# Dummy kfold assignment\n",
    "dfx[\"kfold\"] = -1\n",
    "\n",
    "# Split\n",
    "for fold, (trn_, val_) in enumerate(mskf.split(dfx, dfx_labels)):\n",
    "    print(len(trn_), len(val_))\n",
    "    \n",
    "    # Change the value of the kfold column at the validation index to the value of the fold\n",
    "    # This will tell us when to use the current entry in the validation set\n",
    "    dfx.loc[val_, \"kfold\"] = fold\n",
    "\n",
    "# merge back to original dataframe\n",
    "df = df.merge(dfx[[\"id\", \"kfold\"]], on=\"id\", how=\"left\")\n",
    "print(df.kfold.value_counts())\n",
    "df.to_csv(\"train_folds.csv\", index=False)"
   ]
  },
  {
   "cell_type": "code",
   "execution_count": null,
   "id": "83959ccc",
   "metadata": {},
   "outputs": [],
   "source": []
  }
 ],
 "metadata": {
  "kernelspec": {
   "display_name": "Python 3",
   "language": "python",
   "name": "python3"
  },
  "language_info": {
   "codemirror_mode": {
    "name": "ipython",
    "version": 3
   },
   "file_extension": ".py",
   "mimetype": "text/x-python",
   "name": "python",
   "nbconvert_exporter": "python",
   "pygments_lexer": "ipython3",
   "version": "3.8.12"
  },
  "papermill": {
   "default_parameters": {},
   "duration": 25.017425,
   "end_time": "2022-01-11T08:12:10.615418",
   "environment_variables": {},
   "exception": null,
   "input_path": "__notebook__.ipynb",
   "output_path": "__notebook__.ipynb",
   "parameters": {},
   "start_time": "2022-01-11T08:11:45.597993",
   "version": "2.3.3"
  }
 },
 "nbformat": 4,
 "nbformat_minor": 5
}
